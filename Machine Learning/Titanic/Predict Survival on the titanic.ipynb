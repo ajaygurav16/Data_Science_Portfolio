{
 "cells": [
  {
   "cell_type": "markdown",
   "metadata": {},
   "source": [
    "# Titanic: Machine Learning from Disaster\n"
   ]
  },
  {
   "cell_type": "markdown",
   "metadata": {},
   "source": [
    "    "
   ]
  },
  {
   "cell_type": "markdown",
   "metadata": {},
   "source": [
    "\n",
    "The sinking of the RMS Titanic is one of the most infamous shipwrecks in history.  On April 15, 1912, during her maiden voyage, the Titanic sank after colliding with an iceberg, killing 1502 out of 2224 passengers and crew. This sensational tragedy shocked the international community and led to better safety regulations for ships.\n",
    "\n",
    "One of the reasons that the shipwreck led to such loss of life was that there were not enough lifeboats for the passengers and crew. Although there was some element of luck involved in surviving the sinking, some groups of people were more likely to survive than others, such as women, children, and the upper-class.\n",
    "\n",
    "In this challenge, we ask you to complete the analysis of what sorts of people were likely to survive. In particular, we ask you to apply the tools of machine learning to predict which passengers survived the tragedy."
   ]
  },
  {
   "cell_type": "markdown",
   "metadata": {},
   "source": [
    "## Load Libraries \n"
   ]
  },
  {
   "cell_type": "code",
   "execution_count": 52,
   "metadata": {},
   "outputs": [],
   "source": [
    "import pandas as pd\n",
    "import matplotlib.pyplot as plt\n",
    "import seaborn as sns\n",
    "\n",
    "%matplotlib inline"
   ]
  },
  {
   "cell_type": "code",
   "execution_count": null,
   "metadata": {},
   "outputs": [],
   "source": []
  },
  {
   "cell_type": "code",
   "execution_count": 53,
   "metadata": {},
   "outputs": [],
   "source": [
    "df=pd.read_csv('train.csv')"
   ]
  },
  {
   "cell_type": "code",
   "execution_count": 54,
   "metadata": {},
   "outputs": [
    {
     "data": {
      "text/html": [
       "<div>\n",
       "<style scoped>\n",
       "    .dataframe tbody tr th:only-of-type {\n",
       "        vertical-align: middle;\n",
       "    }\n",
       "\n",
       "    .dataframe tbody tr th {\n",
       "        vertical-align: top;\n",
       "    }\n",
       "\n",
       "    .dataframe thead th {\n",
       "        text-align: right;\n",
       "    }\n",
       "</style>\n",
       "<table border=\"1\" class=\"dataframe\">\n",
       "  <thead>\n",
       "    <tr style=\"text-align: right;\">\n",
       "      <th></th>\n",
       "      <th>PassengerId</th>\n",
       "      <th>Survived</th>\n",
       "      <th>Pclass</th>\n",
       "      <th>Name</th>\n",
       "      <th>Sex</th>\n",
       "      <th>Age</th>\n",
       "      <th>SibSp</th>\n",
       "      <th>Parch</th>\n",
       "      <th>Ticket</th>\n",
       "      <th>Fare</th>\n",
       "      <th>Cabin</th>\n",
       "      <th>Embarked</th>\n",
       "    </tr>\n",
       "  </thead>\n",
       "  <tbody>\n",
       "    <tr>\n",
       "      <th>0</th>\n",
       "      <td>1</td>\n",
       "      <td>0</td>\n",
       "      <td>3</td>\n",
       "      <td>Braund, Mr. Owen Harris</td>\n",
       "      <td>male</td>\n",
       "      <td>22.0</td>\n",
       "      <td>1</td>\n",
       "      <td>0</td>\n",
       "      <td>A/5 21171</td>\n",
       "      <td>7.2500</td>\n",
       "      <td>NaN</td>\n",
       "      <td>S</td>\n",
       "    </tr>\n",
       "    <tr>\n",
       "      <th>1</th>\n",
       "      <td>2</td>\n",
       "      <td>1</td>\n",
       "      <td>1</td>\n",
       "      <td>Cumings, Mrs. John Bradley (Florence Briggs Th...</td>\n",
       "      <td>female</td>\n",
       "      <td>38.0</td>\n",
       "      <td>1</td>\n",
       "      <td>0</td>\n",
       "      <td>PC 17599</td>\n",
       "      <td>71.2833</td>\n",
       "      <td>C85</td>\n",
       "      <td>C</td>\n",
       "    </tr>\n",
       "    <tr>\n",
       "      <th>2</th>\n",
       "      <td>3</td>\n",
       "      <td>1</td>\n",
       "      <td>3</td>\n",
       "      <td>Heikkinen, Miss. Laina</td>\n",
       "      <td>female</td>\n",
       "      <td>26.0</td>\n",
       "      <td>0</td>\n",
       "      <td>0</td>\n",
       "      <td>STON/O2. 3101282</td>\n",
       "      <td>7.9250</td>\n",
       "      <td>NaN</td>\n",
       "      <td>S</td>\n",
       "    </tr>\n",
       "    <tr>\n",
       "      <th>3</th>\n",
       "      <td>4</td>\n",
       "      <td>1</td>\n",
       "      <td>1</td>\n",
       "      <td>Futrelle, Mrs. Jacques Heath (Lily May Peel)</td>\n",
       "      <td>female</td>\n",
       "      <td>35.0</td>\n",
       "      <td>1</td>\n",
       "      <td>0</td>\n",
       "      <td>113803</td>\n",
       "      <td>53.1000</td>\n",
       "      <td>C123</td>\n",
       "      <td>S</td>\n",
       "    </tr>\n",
       "    <tr>\n",
       "      <th>4</th>\n",
       "      <td>5</td>\n",
       "      <td>0</td>\n",
       "      <td>3</td>\n",
       "      <td>Allen, Mr. William Henry</td>\n",
       "      <td>male</td>\n",
       "      <td>35.0</td>\n",
       "      <td>0</td>\n",
       "      <td>0</td>\n",
       "      <td>373450</td>\n",
       "      <td>8.0500</td>\n",
       "      <td>NaN</td>\n",
       "      <td>S</td>\n",
       "    </tr>\n",
       "  </tbody>\n",
       "</table>\n",
       "</div>"
      ],
      "text/plain": [
       "   PassengerId  Survived  Pclass  \\\n",
       "0            1         0       3   \n",
       "1            2         1       1   \n",
       "2            3         1       3   \n",
       "3            4         1       1   \n",
       "4            5         0       3   \n",
       "\n",
       "                                                Name     Sex   Age  SibSp  \\\n",
       "0                            Braund, Mr. Owen Harris    male  22.0      1   \n",
       "1  Cumings, Mrs. John Bradley (Florence Briggs Th...  female  38.0      1   \n",
       "2                             Heikkinen, Miss. Laina  female  26.0      0   \n",
       "3       Futrelle, Mrs. Jacques Heath (Lily May Peel)  female  35.0      1   \n",
       "4                           Allen, Mr. William Henry    male  35.0      0   \n",
       "\n",
       "   Parch            Ticket     Fare Cabin Embarked  \n",
       "0      0         A/5 21171   7.2500   NaN        S  \n",
       "1      0          PC 17599  71.2833   C85        C  \n",
       "2      0  STON/O2. 3101282   7.9250   NaN        S  \n",
       "3      0            113803  53.1000  C123        S  \n",
       "4      0            373450   8.0500   NaN        S  "
      ]
     },
     "execution_count": 54,
     "metadata": {},
     "output_type": "execute_result"
    }
   ],
   "source": [
    "df.head()"
   ]
  },
  {
   "cell_type": "code",
   "execution_count": 55,
   "metadata": {},
   "outputs": [
    {
     "data": {
      "text/plain": [
       "PassengerId      int64\n",
       "Survived         int64\n",
       "Pclass           int64\n",
       "Name            object\n",
       "Sex             object\n",
       "Age            float64\n",
       "SibSp            int64\n",
       "Parch            int64\n",
       "Ticket          object\n",
       "Fare           float64\n",
       "Cabin           object\n",
       "Embarked        object\n",
       "dtype: object"
      ]
     },
     "execution_count": 55,
     "metadata": {},
     "output_type": "execute_result"
    }
   ],
   "source": [
    "df.dtypes"
   ]
  },
  {
   "cell_type": "markdown",
   "metadata": {},
   "source": [
    "## Exploring Target variable\n",
    "\n",
    "Survived column indicates whether person has survived the crash or not. This is the target variable we wish to predict.\n",
    "As we know there are only two possible outcomes i.e either person survived marked as '1' or didnt survive marked as '0'. Lets see percentage of people survived the crash\n",
    "\n"
   ]
  },
  {
   "cell_type": "code",
   "execution_count": 56,
   "metadata": {},
   "outputs": [
    {
     "data": {
      "image/png": "[encoded data removed]",
      "text/plain": [
       "<Figure size 432x288 with 1 Axes>"
      ]
     },
     "metadata": {
      "needs_background": "light"
     },
     "output_type": "display_data"
    }
   ],
   "source": [
    "fig = plt.figure()\n",
    "fig.suptitle('Count Survived vs Not survived ', fontsize=14, fontweight='bold')\n",
    "\n",
    "ax = fig.add_subplot(111)\n",
    "sns.countplot(df.Survived)\n",
    "plt.show()"
   ]
  },
  {
   "cell_type": "markdown",
   "metadata": {},
   "source": [
    "### Counts of survived By Gender"
   ]
  },
  {
   "cell_type": "code",
   "execution_count": 57,
   "metadata": {},
   "outputs": [
    {
     "data": {
      "image/png": "[encoded data removed]",
      "text/plain": [
       "<Figure size 432x288 with 1 Axes>"
      ]
     },
     "metadata": {
      "needs_background": "light"
     },
     "output_type": "display_data"
    }
   ],
   "source": [
    "\n",
    "fig = plt.figure()\n",
    "fig.suptitle('Count Survived vs Not survived ', fontsize=14, fontweight='bold')\n",
    "\n",
    "ax = fig.add_subplot(111)\n",
    "sns.countplot(df.Sex,hue=df.Survived)\n",
    "plt.show()"
   ]
  },
  {
   "cell_type": "code",
   "execution_count": null,
   "metadata": {},
   "outputs": [],
   "source": []
  },
  {
   "cell_type": "code",
   "execution_count": 58,
   "metadata": {},
   "outputs": [
    {
     "data": {
      "text/plain": [
       "<matplotlib.axes._subplots.AxesSubplot at 0x227a0aed7b8>"
      ]
     },
     "execution_count": 58,
     "metadata": {},
     "output_type": "execute_result"
    },
    {
     "data": {
      "image/png": "[encoded data removed]",
      "text/plain": [
       "<Figure size 432x288 with 1 Axes>"
      ]
     },
     "metadata": {
      "needs_background": "light"
     },
     "output_type": "display_data"
    }
   ],
   "source": [
    "df.groupby(['Survived'])['Age'].mean().plot.bar()"
   ]
  },
  {
   "cell_type": "code",
   "execution_count": 59,
   "metadata": {},
   "outputs": [
    {
     "data": {
      "text/plain": [
       "<matplotlib.axes._subplots.AxesSubplot at 0x227a0b2cd30>"
      ]
     },
     "execution_count": 59,
     "metadata": {},
     "output_type": "execute_result"
    },
    {
     "data": {
      "image/png": "[encoded data removed]",
      "text/plain": [
       "<Figure size 432x288 with 1 Axes>"
      ]
     },
     "metadata": {
      "needs_background": "light"
     },
     "output_type": "display_data"
    }
   ],
   "source": [
    "df.groupby(['Survived'])['Fare'].mean().plot.bar()"
   ]
  },
  {
   "cell_type": "code",
   "execution_count": 60,
   "metadata": {},
   "outputs": [
    {
     "data": {
      "image/png": "[encoded data removed]",
      "text/plain": [
       "<Figure size 432x288 with 1 Axes>"
      ]
     },
     "metadata": {
      "needs_background": "light"
     },
     "output_type": "display_data"
    }
   ],
   "source": [
    "\n",
    "fig = plt.figure()\n",
    "fig.suptitle('Count Survived vs Not survived by Pclass ', fontsize=14, fontweight='bold')\n",
    "\n",
    "ax = fig.add_subplot(111)\n",
    "sns.countplot(df.Survived,hue=df.Pclass)\n",
    "plt.show()"
   ]
  },
  {
   "cell_type": "code",
   "execution_count": 61,
   "metadata": {},
   "outputs": [
    {
     "data": {
      "image/png": "[encoded data removed]",
      "text/plain": [
       "<Figure size 1440x720 with 1 Axes>"
      ]
     },
     "metadata": {
      "needs_background": "light"
     },
     "output_type": "display_data"
    }
   ],
   "source": [
    "\n",
    "fig = plt.figure(figsize=(20,10))\n",
    "fig.suptitle('Count Survived vs Not survived by Parch ', fontsize=14, fontweight='bold')\n",
    "\n",
    "ax = fig.add_subplot(111)\n",
    "sns.countplot(df.Survived,hue=df.Parch)\n",
    "plt.show()"
   ]
  },
  {
   "cell_type": "markdown",
   "metadata": {},
   "source": [
    "### Let's see if we can make better use of Age . By converting numeric into Bins \n",
    "\n"
   ]
  },
  {
   "cell_type": "code",
   "execution_count": 62,
   "metadata": {},
   "outputs": [],
   "source": [
    "df.Age=df.Age.fillna(0)\n"
   ]
  },
  {
   "cell_type": "code",
   "execution_count": 63,
   "metadata": {},
   "outputs": [],
   "source": [
    "df['Age_group']=pd.cut(x=df.Age,bins=[-1,9,19,29,39,49,59,69,79,89],labels=['0s','10s','20s','30s','40s','50s','60s','70s','80s'])"
   ]
  },
  {
   "cell_type": "code",
   "execution_count": 64,
   "metadata": {},
   "outputs": [
    {
     "data": {
      "text/html": [
       "<div>\n",
       "<style scoped>\n",
       "    .dataframe tbody tr th:only-of-type {\n",
       "        vertical-align: middle;\n",
       "    }\n",
       "\n",
       "    .dataframe tbody tr th {\n",
       "        vertical-align: top;\n",
       "    }\n",
       "\n",
       "    .dataframe thead th {\n",
       "        text-align: right;\n",
       "    }\n",
       "</style>\n",
       "<table border=\"1\" class=\"dataframe\">\n",
       "  <thead>\n",
       "    <tr style=\"text-align: right;\">\n",
       "      <th></th>\n",
       "      <th>Age</th>\n",
       "      <th>Age_group</th>\n",
       "    </tr>\n",
       "  </thead>\n",
       "  <tbody>\n",
       "    <tr>\n",
       "      <th>0</th>\n",
       "      <td>22.0</td>\n",
       "      <td>20s</td>\n",
       "    </tr>\n",
       "    <tr>\n",
       "      <th>1</th>\n",
       "      <td>38.0</td>\n",
       "      <td>30s</td>\n",
       "    </tr>\n",
       "    <tr>\n",
       "      <th>2</th>\n",
       "      <td>26.0</td>\n",
       "      <td>20s</td>\n",
       "    </tr>\n",
       "    <tr>\n",
       "      <th>3</th>\n",
       "      <td>35.0</td>\n",
       "      <td>30s</td>\n",
       "    </tr>\n",
       "    <tr>\n",
       "      <th>4</th>\n",
       "      <td>35.0</td>\n",
       "      <td>30s</td>\n",
       "    </tr>\n",
       "  </tbody>\n",
       "</table>\n",
       "</div>"
      ],
      "text/plain": [
       "    Age Age_group\n",
       "0  22.0       20s\n",
       "1  38.0       30s\n",
       "2  26.0       20s\n",
       "3  35.0       30s\n",
       "4  35.0       30s"
      ]
     },
     "execution_count": 64,
     "metadata": {},
     "output_type": "execute_result"
    }
   ],
   "source": [
    "df[['Age','Age_group']].head()"
   ]
  },
  {
   "cell_type": "code",
   "execution_count": 65,
   "metadata": {},
   "outputs": [
    {
     "data": {
      "image/png": "[encoded data removed]",
      "text/plain": [
       "<Figure size 1440x720 with 1 Axes>"
      ]
     },
     "metadata": {
      "needs_background": "light"
     },
     "output_type": "display_data"
    }
   ],
   "source": [
    "\n",
    "fig = plt.figure(figsize=(20,10))\n",
    "fig.suptitle('Count Survived vs Not survived by Parch ', fontsize=14, fontweight='bold')\n",
    "\n",
    "ax = fig.add_subplot(111)\n",
    "ax=sns.countplot(df.Age_group,hue=df.Survived)\n",
    "\n",
    "\n",
    "plt.show()"
   ]
  },
  {
   "cell_type": "code",
   "execution_count": 66,
   "metadata": {},
   "outputs": [
    {
     "data": {
      "text/html": [
       "<div>\n",
       "<style scoped>\n",
       "    .dataframe tbody tr th:only-of-type {\n",
       "        vertical-align: middle;\n",
       "    }\n",
       "\n",
       "    .dataframe tbody tr th {\n",
       "        vertical-align: top;\n",
       "    }\n",
       "\n",
       "    .dataframe thead th {\n",
       "        text-align: right;\n",
       "    }\n",
       "</style>\n",
       "<table border=\"1\" class=\"dataframe\">\n",
       "  <thead>\n",
       "    <tr style=\"text-align: right;\">\n",
       "      <th></th>\n",
       "      <th>PassengerId</th>\n",
       "      <th>Survived</th>\n",
       "      <th>Pclass</th>\n",
       "      <th>Name</th>\n",
       "      <th>Sex</th>\n",
       "      <th>Age</th>\n",
       "      <th>SibSp</th>\n",
       "      <th>Parch</th>\n",
       "      <th>Ticket</th>\n",
       "      <th>Fare</th>\n",
       "      <th>Cabin</th>\n",
       "      <th>Embarked</th>\n",
       "      <th>Age_group</th>\n",
       "    </tr>\n",
       "  </thead>\n",
       "  <tbody>\n",
       "    <tr>\n",
       "      <th>0</th>\n",
       "      <td>1</td>\n",
       "      <td>0</td>\n",
       "      <td>3</td>\n",
       "      <td>Braund, Mr. Owen Harris</td>\n",
       "      <td>male</td>\n",
       "      <td>22.0</td>\n",
       "      <td>1</td>\n",
       "      <td>0</td>\n",
       "      <td>A/5 21171</td>\n",
       "      <td>7.2500</td>\n",
       "      <td>NaN</td>\n",
       "      <td>S</td>\n",
       "      <td>20s</td>\n",
       "    </tr>\n",
       "    <tr>\n",
       "      <th>1</th>\n",
       "      <td>2</td>\n",
       "      <td>1</td>\n",
       "      <td>1</td>\n",
       "      <td>Cumings, Mrs. John Bradley (Florence Briggs Th...</td>\n",
       "      <td>female</td>\n",
       "      <td>38.0</td>\n",
       "      <td>1</td>\n",
       "      <td>0</td>\n",
       "      <td>PC 17599</td>\n",
       "      <td>71.2833</td>\n",
       "      <td>C85</td>\n",
       "      <td>C</td>\n",
       "      <td>30s</td>\n",
       "    </tr>\n",
       "    <tr>\n",
       "      <th>2</th>\n",
       "      <td>3</td>\n",
       "      <td>1</td>\n",
       "      <td>3</td>\n",
       "      <td>Heikkinen, Miss. Laina</td>\n",
       "      <td>female</td>\n",
       "      <td>26.0</td>\n",
       "      <td>0</td>\n",
       "      <td>0</td>\n",
       "      <td>STON/O2. 3101282</td>\n",
       "      <td>7.9250</td>\n",
       "      <td>NaN</td>\n",
       "      <td>S</td>\n",
       "      <td>20s</td>\n",
       "    </tr>\n",
       "    <tr>\n",
       "      <th>3</th>\n",
       "      <td>4</td>\n",
       "      <td>1</td>\n",
       "      <td>1</td>\n",
       "      <td>Futrelle, Mrs. Jacques Heath (Lily May Peel)</td>\n",
       "      <td>female</td>\n",
       "      <td>35.0</td>\n",
       "      <td>1</td>\n",
       "      <td>0</td>\n",
       "      <td>113803</td>\n",
       "      <td>53.1000</td>\n",
       "      <td>C123</td>\n",
       "      <td>S</td>\n",
       "      <td>30s</td>\n",
       "    </tr>\n",
       "    <tr>\n",
       "      <th>4</th>\n",
       "      <td>5</td>\n",
       "      <td>0</td>\n",
       "      <td>3</td>\n",
       "      <td>Allen, Mr. William Henry</td>\n",
       "      <td>male</td>\n",
       "      <td>35.0</td>\n",
       "      <td>0</td>\n",
       "      <td>0</td>\n",
       "      <td>373450</td>\n",
       "      <td>8.0500</td>\n",
       "      <td>NaN</td>\n",
       "      <td>S</td>\n",
       "      <td>30s</td>\n",
       "    </tr>\n",
       "  </tbody>\n",
       "</table>\n",
       "</div>"
      ],
      "text/plain": [
       "   PassengerId  Survived  Pclass  \\\n",
       "0            1         0       3   \n",
       "1            2         1       1   \n",
       "2            3         1       3   \n",
       "3            4         1       1   \n",
       "4            5         0       3   \n",
       "\n",
       "                                                Name     Sex   Age  SibSp  \\\n",
       "0                            Braund, Mr. Owen Harris    male  22.0      1   \n",
       "1  Cumings, Mrs. John Bradley (Florence Briggs Th...  female  38.0      1   \n",
       "2                             Heikkinen, Miss. Laina  female  26.0      0   \n",
       "3       Futrelle, Mrs. Jacques Heath (Lily May Peel)  female  35.0      1   \n",
       "4                           Allen, Mr. William Henry    male  35.0      0   \n",
       "\n",
       "   Parch            Ticket     Fare Cabin Embarked Age_group  \n",
       "0      0         A/5 21171   7.2500   NaN        S       20s  \n",
       "1      0          PC 17599  71.2833   C85        C       30s  \n",
       "2      0  STON/O2. 3101282   7.9250   NaN        S       20s  \n",
       "3      0            113803  53.1000  C123        S       30s  \n",
       "4      0            373450   8.0500   NaN        S       30s  "
      ]
     },
     "execution_count": 66,
     "metadata": {},
     "output_type": "execute_result"
    }
   ],
   "source": [
    "df.head()"
   ]
  },
  {
   "cell_type": "code",
   "execution_count": 67,
   "metadata": {},
   "outputs": [
    {
     "data": {
      "image/png": "[encoded data removed]",
      "text/plain": [
       "<Figure size 720x360 with 1 Axes>"
      ]
     },
     "metadata": {
      "needs_background": "light"
     },
     "output_type": "display_data"
    }
   ],
   "source": [
    "\n",
    "fig = plt.figure(figsize=(10,5))\n",
    "fig.suptitle('Count Survived vs Not survived by Parch ', fontsize=14, fontweight='bold')\n",
    "\n",
    "ax = fig.add_subplot(111)\n",
    "sns.scatterplot(x='Age',y='Fare',data=df,hue='Survived')\n",
    "plt.show()\n"
   ]
  },
  {
   "cell_type": "code",
   "execution_count": 68,
   "metadata": {},
   "outputs": [
    {
     "data": {
      "text/plain": [
       "PassengerId       int64\n",
       "Survived          int64\n",
       "Pclass            int64\n",
       "Name             object\n",
       "Sex              object\n",
       "Age             float64\n",
       "SibSp             int64\n",
       "Parch             int64\n",
       "Ticket           object\n",
       "Fare            float64\n",
       "Cabin            object\n",
       "Embarked         object\n",
       "Age_group      category\n",
       "dtype: object"
      ]
     },
     "execution_count": 68,
     "metadata": {},
     "output_type": "execute_result"
    }
   ],
   "source": [
    "df.dtypes"
   ]
  },
  {
   "cell_type": "markdown",
   "metadata": {},
   "source": [
    "## Feature Selection \n",
    "\n",
    "First we need to drop features with high variance and which has almost no information like 'Passenge ID','Name'. We might as well drop out duplicate columns . As we already converted 'Age' into 'Age_Group' . \n"
   ]
  },
  {
   "cell_type": "code",
   "execution_count": 69,
   "metadata": {},
   "outputs": [],
   "source": [
    "df.drop(['PassengerId','Name','Age','Cabin','Ticket'],axis=1,inplace=True)"
   ]
  },
  {
   "cell_type": "code",
   "execution_count": 70,
   "metadata": {},
   "outputs": [
    {
     "data": {
      "text/html": [
       "<div>\n",
       "<style scoped>\n",
       "    .dataframe tbody tr th:only-of-type {\n",
       "        vertical-align: middle;\n",
       "    }\n",
       "\n",
       "    .dataframe tbody tr th {\n",
       "        vertical-align: top;\n",
       "    }\n",
       "\n",
       "    .dataframe thead th {\n",
       "        text-align: right;\n",
       "    }\n",
       "</style>\n",
       "<table border=\"1\" class=\"dataframe\">\n",
       "  <thead>\n",
       "    <tr style=\"text-align: right;\">\n",
       "      <th></th>\n",
       "      <th>Survived</th>\n",
       "      <th>Pclass</th>\n",
       "      <th>Sex</th>\n",
       "      <th>SibSp</th>\n",
       "      <th>Parch</th>\n",
       "      <th>Fare</th>\n",
       "      <th>Embarked</th>\n",
       "      <th>Age_group</th>\n",
       "    </tr>\n",
       "  </thead>\n",
       "  <tbody>\n",
       "    <tr>\n",
       "      <th>0</th>\n",
       "      <td>0</td>\n",
       "      <td>3</td>\n",
       "      <td>male</td>\n",
       "      <td>1</td>\n",
       "      <td>0</td>\n",
       "      <td>7.2500</td>\n",
       "      <td>S</td>\n",
       "      <td>20s</td>\n",
       "    </tr>\n",
       "    <tr>\n",
       "      <th>1</th>\n",
       "      <td>1</td>\n",
       "      <td>1</td>\n",
       "      <td>female</td>\n",
       "      <td>1</td>\n",
       "      <td>0</td>\n",
       "      <td>71.2833</td>\n",
       "      <td>C</td>\n",
       "      <td>30s</td>\n",
       "    </tr>\n",
       "    <tr>\n",
       "      <th>2</th>\n",
       "      <td>1</td>\n",
       "      <td>3</td>\n",
       "      <td>female</td>\n",
       "      <td>0</td>\n",
       "      <td>0</td>\n",
       "      <td>7.9250</td>\n",
       "      <td>S</td>\n",
       "      <td>20s</td>\n",
       "    </tr>\n",
       "    <tr>\n",
       "      <th>3</th>\n",
       "      <td>1</td>\n",
       "      <td>1</td>\n",
       "      <td>female</td>\n",
       "      <td>1</td>\n",
       "      <td>0</td>\n",
       "      <td>53.1000</td>\n",
       "      <td>S</td>\n",
       "      <td>30s</td>\n",
       "    </tr>\n",
       "    <tr>\n",
       "      <th>4</th>\n",
       "      <td>0</td>\n",
       "      <td>3</td>\n",
       "      <td>male</td>\n",
       "      <td>0</td>\n",
       "      <td>0</td>\n",
       "      <td>8.0500</td>\n",
       "      <td>S</td>\n",
       "      <td>30s</td>\n",
       "    </tr>\n",
       "  </tbody>\n",
       "</table>\n",
       "</div>"
      ],
      "text/plain": [
       "   Survived  Pclass     Sex  SibSp  Parch     Fare Embarked Age_group\n",
       "0         0       3    male      1      0   7.2500        S       20s\n",
       "1         1       1  female      1      0  71.2833        C       30s\n",
       "2         1       3  female      0      0   7.9250        S       20s\n",
       "3         1       1  female      1      0  53.1000        S       30s\n",
       "4         0       3    male      0      0   8.0500        S       30s"
      ]
     },
     "execution_count": 70,
     "metadata": {},
     "output_type": "execute_result"
    }
   ],
   "source": [
    "df.head()"
   ]
  },
  {
   "cell_type": "code",
   "execution_count": 71,
   "metadata": {},
   "outputs": [
    {
     "data": {
      "text/plain": [
       "Survived        int64\n",
       "Pclass          int64\n",
       "Sex            object\n",
       "SibSp           int64\n",
       "Parch           int64\n",
       "Fare          float64\n",
       "Embarked       object\n",
       "Age_group    category\n",
       "dtype: object"
      ]
     },
     "execution_count": 71,
     "metadata": {},
     "output_type": "execute_result"
    }
   ],
   "source": [
    "df.dtypes"
   ]
  },
  {
   "cell_type": "code",
   "execution_count": 72,
   "metadata": {},
   "outputs": [],
   "source": [
    "y=df.Survived.values\n",
    "df.drop(['Survived'],axis=1,inplace=True)"
   ]
  },
  {
   "cell_type": "code",
   "execution_count": 73,
   "metadata": {},
   "outputs": [],
   "source": [
    "df=pd.get_dummies(df)"
   ]
  },
  {
   "cell_type": "code",
   "execution_count": 74,
   "metadata": {},
   "outputs": [
    {
     "data": {
      "text/html": [
       "<div>\n",
       "<style scoped>\n",
       "    .dataframe tbody tr th:only-of-type {\n",
       "        vertical-align: middle;\n",
       "    }\n",
       "\n",
       "    .dataframe tbody tr th {\n",
       "        vertical-align: top;\n",
       "    }\n",
       "\n",
       "    .dataframe thead th {\n",
       "        text-align: right;\n",
       "    }\n",
       "</style>\n",
       "<table border=\"1\" class=\"dataframe\">\n",
       "  <thead>\n",
       "    <tr style=\"text-align: right;\">\n",
       "      <th></th>\n",
       "      <th>Pclass</th>\n",
       "      <th>SibSp</th>\n",
       "      <th>Parch</th>\n",
       "      <th>Fare</th>\n",
       "      <th>Sex_female</th>\n",
       "      <th>Sex_male</th>\n",
       "      <th>Embarked_C</th>\n",
       "      <th>Embarked_Q</th>\n",
       "      <th>Embarked_S</th>\n",
       "      <th>Age_group_0s</th>\n",
       "      <th>Age_group_10s</th>\n",
       "      <th>Age_group_20s</th>\n",
       "      <th>Age_group_30s</th>\n",
       "      <th>Age_group_40s</th>\n",
       "      <th>Age_group_50s</th>\n",
       "      <th>Age_group_60s</th>\n",
       "      <th>Age_group_70s</th>\n",
       "      <th>Age_group_80s</th>\n",
       "    </tr>\n",
       "  </thead>\n",
       "  <tbody>\n",
       "    <tr>\n",
       "      <th>0</th>\n",
       "      <td>3</td>\n",
       "      <td>1</td>\n",
       "      <td>0</td>\n",
       "      <td>7.2500</td>\n",
       "      <td>0</td>\n",
       "      <td>1</td>\n",
       "      <td>0</td>\n",
       "      <td>0</td>\n",
       "      <td>1</td>\n",
       "      <td>0</td>\n",
       "      <td>0</td>\n",
       "      <td>1</td>\n",
       "      <td>0</td>\n",
       "      <td>0</td>\n",
       "      <td>0</td>\n",
       "      <td>0</td>\n",
       "      <td>0</td>\n",
       "      <td>0</td>\n",
       "    </tr>\n",
       "    <tr>\n",
       "      <th>1</th>\n",
       "      <td>1</td>\n",
       "      <td>1</td>\n",
       "      <td>0</td>\n",
       "      <td>71.2833</td>\n",
       "      <td>1</td>\n",
       "      <td>0</td>\n",
       "      <td>1</td>\n",
       "      <td>0</td>\n",
       "      <td>0</td>\n",
       "      <td>0</td>\n",
       "      <td>0</td>\n",
       "      <td>0</td>\n",
       "      <td>1</td>\n",
       "      <td>0</td>\n",
       "      <td>0</td>\n",
       "      <td>0</td>\n",
       "      <td>0</td>\n",
       "      <td>0</td>\n",
       "    </tr>\n",
       "    <tr>\n",
       "      <th>2</th>\n",
       "      <td>3</td>\n",
       "      <td>0</td>\n",
       "      <td>0</td>\n",
       "      <td>7.9250</td>\n",
       "      <td>1</td>\n",
       "      <td>0</td>\n",
       "      <td>0</td>\n",
       "      <td>0</td>\n",
       "      <td>1</td>\n",
       "      <td>0</td>\n",
       "      <td>0</td>\n",
       "      <td>1</td>\n",
       "      <td>0</td>\n",
       "      <td>0</td>\n",
       "      <td>0</td>\n",
       "      <td>0</td>\n",
       "      <td>0</td>\n",
       "      <td>0</td>\n",
       "    </tr>\n",
       "    <tr>\n",
       "      <th>3</th>\n",
       "      <td>1</td>\n",
       "      <td>1</td>\n",
       "      <td>0</td>\n",
       "      <td>53.1000</td>\n",
       "      <td>1</td>\n",
       "      <td>0</td>\n",
       "      <td>0</td>\n",
       "      <td>0</td>\n",
       "      <td>1</td>\n",
       "      <td>0</td>\n",
       "      <td>0</td>\n",
       "      <td>0</td>\n",
       "      <td>1</td>\n",
       "      <td>0</td>\n",
       "      <td>0</td>\n",
       "      <td>0</td>\n",
       "      <td>0</td>\n",
       "      <td>0</td>\n",
       "    </tr>\n",
       "    <tr>\n",
       "      <th>4</th>\n",
       "      <td>3</td>\n",
       "      <td>0</td>\n",
       "      <td>0</td>\n",
       "      <td>8.0500</td>\n",
       "      <td>0</td>\n",
       "      <td>1</td>\n",
       "      <td>0</td>\n",
       "      <td>0</td>\n",
       "      <td>1</td>\n",
       "      <td>0</td>\n",
       "      <td>0</td>\n",
       "      <td>0</td>\n",
       "      <td>1</td>\n",
       "      <td>0</td>\n",
       "      <td>0</td>\n",
       "      <td>0</td>\n",
       "      <td>0</td>\n",
       "      <td>0</td>\n",
       "    </tr>\n",
       "  </tbody>\n",
       "</table>\n",
       "</div>"
      ],
      "text/plain": [
       "   Pclass  SibSp  Parch     Fare  Sex_female  Sex_male  Embarked_C  \\\n",
       "0       3      1      0   7.2500           0         1           0   \n",
       "1       1      1      0  71.2833           1         0           1   \n",
       "2       3      0      0   7.9250           1         0           0   \n",
       "3       1      1      0  53.1000           1         0           0   \n",
       "4       3      0      0   8.0500           0         1           0   \n",
       "\n",
       "   Embarked_Q  Embarked_S  Age_group_0s  Age_group_10s  Age_group_20s  \\\n",
       "0           0           1             0              0              1   \n",
       "1           0           0             0              0              0   \n",
       "2           0           1             0              0              1   \n",
       "3           0           1             0              0              0   \n",
       "4           0           1             0              0              0   \n",
       "\n",
       "   Age_group_30s  Age_group_40s  Age_group_50s  Age_group_60s  Age_group_70s  \\\n",
       "0              0              0              0              0              0   \n",
       "1              1              0              0              0              0   \n",
       "2              0              0              0              0              0   \n",
       "3              1              0              0              0              0   \n",
       "4              1              0              0              0              0   \n",
       "\n",
       "   Age_group_80s  \n",
       "0              0  \n",
       "1              0  \n",
       "2              0  \n",
       "3              0  \n",
       "4              0  "
      ]
     },
     "execution_count": 74,
     "metadata": {},
     "output_type": "execute_result"
    }
   ],
   "source": [
    "df.head()"
   ]
  },
  {
   "cell_type": "code",
   "execution_count": 75,
   "metadata": {},
   "outputs": [],
   "source": [
    "X=df.values"
   ]
  },
  {
   "cell_type": "code",
   "execution_count": 76,
   "metadata": {},
   "outputs": [
    {
     "data": {
      "text/plain": [
       "(891, 18)"
      ]
     },
     "execution_count": 76,
     "metadata": {},
     "output_type": "execute_result"
    }
   ],
   "source": [
    "X.shape"
   ]
  },
  {
   "cell_type": "code",
   "execution_count": 77,
   "metadata": {},
   "outputs": [
    {
     "data": {
      "text/plain": [
       "(891,)"
      ]
     },
     "execution_count": 77,
     "metadata": {},
     "output_type": "execute_result"
    }
   ],
   "source": [
    "y.shape"
   ]
  },
  {
   "cell_type": "markdown",
   "metadata": {},
   "source": [
    "#### All features are numeric now . we can start building our model\n",
    "\n"
   ]
  },
  {
   "cell_type": "code",
   "execution_count": null,
   "metadata": {},
   "outputs": [],
   "source": [
    "\n"
   ]
  },
  {
   "cell_type": "code",
   "execution_count": 78,
   "metadata": {},
   "outputs": [],
   "source": [
    "from sklearn.linear_model import LogisticRegression"
   ]
  },
  {
   "cell_type": "code",
   "execution_count": 79,
   "metadata": {},
   "outputs": [],
   "source": [
    "from sklearn.model_selection import train_test_split,RandomizedSearchCV"
   ]
  },
  {
   "cell_type": "code",
   "execution_count": 80,
   "metadata": {},
   "outputs": [],
   "source": [
    "X_train,X_test,y_train,y_test=train_test_split(X,y,test_size=0.2)"
   ]
  },
  {
   "cell_type": "code",
   "execution_count": 81,
   "metadata": {},
   "outputs": [],
   "source": [
    "lr=LogisticRegression()"
   ]
  },
  {
   "cell_type": "code",
   "execution_count": 82,
   "metadata": {},
   "outputs": [
    {
     "name": "stderr",
     "output_type": "stream",
     "text": [
      "D:\\anaconda\\lib\\site-packages\\sklearn\\linear_model\\logistic.py:432: FutureWarning: Default solver will be changed to 'lbfgs' in 0.22. Specify a solver to silence this warning.\n",
      "  FutureWarning)\n"
     ]
    },
    {
     "data": {
      "text/plain": [
       "LogisticRegression(C=1.0, class_weight=None, dual=False, fit_intercept=True,\n",
       "                   intercept_scaling=1, l1_ratio=None, max_iter=100,\n",
       "                   multi_class='warn', n_jobs=None, penalty='l2',\n",
       "                   random_state=None, solver='warn', tol=0.0001, verbose=0,\n",
       "                   warm_start=False)"
      ]
     },
     "execution_count": 82,
     "metadata": {},
     "output_type": "execute_result"
    }
   ],
   "source": [
    "lr.fit(X_train,y_train)"
   ]
  },
  {
   "cell_type": "code",
   "execution_count": 83,
   "metadata": {},
   "outputs": [],
   "source": [
    "y_pred=lr.predict(X_test)"
   ]
  },
  {
   "cell_type": "code",
   "execution_count": 84,
   "metadata": {},
   "outputs": [],
   "source": [
    "from sklearn.metrics import accuracy_score,auc,f1_score,classification_report"
   ]
  },
  {
   "cell_type": "code",
   "execution_count": 85,
   "metadata": {},
   "outputs": [
    {
     "name": "stdout",
     "output_type": "stream",
     "text": [
      "0.7932960893854749\n"
     ]
    }
   ],
   "source": [
    "print(accuracy_score(y_pred,y_test))"
   ]
  },
  {
   "cell_type": "code",
   "execution_count": 86,
   "metadata": {},
   "outputs": [
    {
     "name": "stdout",
     "output_type": "stream",
     "text": [
      "0.7175572519083969\n"
     ]
    }
   ],
   "source": [
    "print(f1_score(y_pred,y_test))"
   ]
  },
  {
   "cell_type": "code",
   "execution_count": 89,
   "metadata": {},
   "outputs": [
    {
     "name": "stdout",
     "output_type": "stream",
     "text": [
      "              precision    recall  f1-score   support\n",
      "\n",
      "           0       0.90      0.79      0.84       121\n",
      "           1       0.64      0.81      0.72        58\n",
      "\n",
      "    accuracy                           0.79       179\n",
      "   macro avg       0.77      0.80      0.78       179\n",
      "weighted avg       0.81      0.79      0.80       179\n",
      "\n"
     ]
    }
   ],
   "source": [
    "print(classification_report(y_pred,y_test))"
   ]
  },
  {
   "cell_type": "code",
   "execution_count": null,
   "metadata": {},
   "outputs": [],
   "source": []
  },
  {
   "cell_type": "code",
   "execution_count": 90,
   "metadata": {},
   "outputs": [],
   "source": [
    "import xgboost as xgb"
   ]
  },
  {
   "cell_type": "code",
   "execution_count": 91,
   "metadata": {},
   "outputs": [],
   "source": [
    "xg=xgb.XGBClassifier()"
   ]
  },
  {
   "cell_type": "code",
   "execution_count": 92,
   "metadata": {},
   "outputs": [
    {
     "data": {
      "text/plain": [
       "XGBClassifier(base_score=0.5, booster='gbtree', colsample_bylevel=1,\n",
       "              colsample_bytree=1, gamma=0, learning_rate=0.1, max_delta_step=0,\n",
       "              max_depth=3, min_child_weight=1, missing=None, n_estimators=100,\n",
       "              n_jobs=1, nthread=None, objective='binary:logistic',\n",
       "              random_state=0, reg_alpha=0, reg_lambda=1, scale_pos_weight=1,\n",
       "              seed=None, silent=True, subsample=1)"
      ]
     },
     "execution_count": 92,
     "metadata": {},
     "output_type": "execute_result"
    }
   ],
   "source": [
    "xg.fit(X_train,y_train)"
   ]
  },
  {
   "cell_type": "code",
   "execution_count": 93,
   "metadata": {},
   "outputs": [],
   "source": [
    "y_pred=xg.predict(X_test)"
   ]
  },
  {
   "cell_type": "code",
   "execution_count": 94,
   "metadata": {},
   "outputs": [
    {
     "name": "stdout",
     "output_type": "stream",
     "text": [
      "0.8212290502793296\n"
     ]
    }
   ],
   "source": [
    "print(accuracy_score(y_pred,y_test))"
   ]
  },
  {
   "cell_type": "code",
   "execution_count": 95,
   "metadata": {},
   "outputs": [
    {
     "name": "stdout",
     "output_type": "stream",
     "text": [
      "              precision    recall  f1-score   support\n",
      "\n",
      "           0       0.95      0.79      0.86       128\n",
      "           1       0.63      0.90      0.74        51\n",
      "\n",
      "    accuracy                           0.82       179\n",
      "   macro avg       0.79      0.85      0.80       179\n",
      "weighted avg       0.86      0.82      0.83       179\n",
      "\n"
     ]
    }
   ],
   "source": [
    "print(classification_report(y_pred,y_test))"
   ]
  },
  {
   "cell_type": "code",
   "execution_count": 96,
   "metadata": {},
   "outputs": [
    {
     "name": "stdout",
     "output_type": "stream",
     "text": [
      "0.7419354838709677\n"
     ]
    }
   ],
   "source": [
    "print(f1_score(y_pred,y_test))"
   ]
  },
  {
   "cell_type": "code",
   "execution_count": null,
   "metadata": {},
   "outputs": [],
   "source": []
  },
  {
   "cell_type": "code",
   "execution_count": 97,
   "metadata": {},
   "outputs": [],
   "source": [
    "from sklearn.ensemble import RandomForestClassifier"
   ]
  },
  {
   "cell_type": "code",
   "execution_count": 98,
   "metadata": {},
   "outputs": [],
   "source": [
    "rt=RandomForestClassifier()"
   ]
  },
  {
   "cell_type": "code",
   "execution_count": 99,
   "metadata": {},
   "outputs": [
    {
     "name": "stderr",
     "output_type": "stream",
     "text": [
      "D:\\anaconda\\lib\\site-packages\\sklearn\\ensemble\\forest.py:245: FutureWarning: The default value of n_estimators will change from 10 in version 0.20 to 100 in 0.22.\n",
      "  \"10 in version 0.20 to 100 in 0.22.\", FutureWarning)\n"
     ]
    },
    {
     "data": {
      "text/plain": [
       "RandomForestClassifier(bootstrap=True, class_weight=None, criterion='gini',\n",
       "                       max_depth=None, max_features='auto', max_leaf_nodes=None,\n",
       "                       min_impurity_decrease=0.0, min_impurity_split=None,\n",
       "                       min_samples_leaf=1, min_samples_split=2,\n",
       "                       min_weight_fraction_leaf=0.0, n_estimators=10,\n",
       "                       n_jobs=None, oob_score=False, random_state=None,\n",
       "                       verbose=0, warm_start=False)"
      ]
     },
     "execution_count": 99,
     "metadata": {},
     "output_type": "execute_result"
    }
   ],
   "source": [
    "rt.fit(X_train,y_train)"
   ]
  },
  {
   "cell_type": "code",
   "execution_count": 100,
   "metadata": {},
   "outputs": [],
   "source": [
    "y_pred=rt.predict(X_test)"
   ]
  },
  {
   "cell_type": "code",
   "execution_count": 101,
   "metadata": {},
   "outputs": [
    {
     "name": "stdout",
     "output_type": "stream",
     "text": [
      "0.8324022346368715\n"
     ]
    }
   ],
   "source": [
    "print(accuracy_score(y_pred,y_test))\n",
    "\n"
   ]
  },
  {
   "cell_type": "code",
   "execution_count": 102,
   "metadata": {},
   "outputs": [
    {
     "name": "stdout",
     "output_type": "stream",
     "text": [
      "0.7727272727272728\n"
     ]
    }
   ],
   "source": [
    "print(f1_score(y_pred,y_test))"
   ]
  },
  {
   "cell_type": "code",
   "execution_count": 103,
   "metadata": {},
   "outputs": [
    {
     "name": "stdout",
     "output_type": "stream",
     "text": [
      "              precision    recall  f1-score   support\n",
      "\n",
      "           0       0.92      0.82      0.87       120\n",
      "           1       0.70      0.86      0.77        59\n",
      "\n",
      "    accuracy                           0.83       179\n",
      "   macro avg       0.81      0.84      0.82       179\n",
      "weighted avg       0.85      0.83      0.84       179\n",
      "\n"
     ]
    }
   ],
   "source": [
    "print(classification_report(y_pred,y_test))"
   ]
  },
  {
   "cell_type": "markdown",
   "metadata": {},
   "source": [
    "> Seems XGBoost is overall working better. Lets tune parameters for better accuracy . "
   ]
  },
  {
   "cell_type": "code",
   "execution_count": 112,
   "metadata": {},
   "outputs": [],
   "source": [
    "param_grid = {\n",
    "      \n",
    "        'max_depth': [3,4,6, 10],\n",
    "        'learning_rate': [0.001, 0.01, 0.1, 0.2, 0,3],\n",
    "        'subsample': [0.5, 0.6, 0.7, 0.8, 0.9, 1.0],\n",
    "        'colsample_bytree': [0.4, 0.5, 0.6, 0.7, 0.8, 0.9, 1.0],\n",
    "        'colsample_bylevel': [0.4, 0.5, 0.6, 0.7, 0.8, 0.9, 1.0],\n",
    "        'min_child_weight': [0.5, 1.0, 3.0, 5.0, 7.0, 10.0],\n",
    "        'gamma': [0, 0.25, 0.5, 1.0],\n",
    "        'reg_lambda': [0.1, 1.0, 5.0, 10.0, 50.0, 100.0],\n",
    "        'n_estimators': [100,200,500]}"
   ]
  },
  {
   "cell_type": "code",
   "execution_count": 113,
   "metadata": {},
   "outputs": [],
   "source": [
    "import time"
   ]
  },
  {
   "cell_type": "code",
   "execution_count": 114,
   "metadata": {},
   "outputs": [
    {
     "name": "stdout",
     "output_type": "stream",
     "text": [
      "Randomized search..\n",
      "Fitting 2 folds for each of 20 candidates, totalling 40 fits\n",
      "[CV] subsample=0.9, reg_lambda=100.0, n_estimators=100, min_child_weight=5.0, max_depth=3, learning_rate=0, gamma=0.5, colsample_bytree=0.4, colsample_bylevel=0.9 \n",
      "[CV]  subsample=0.9, reg_lambda=100.0, n_estimators=100, min_child_weight=5.0, max_depth=3, learning_rate=0, gamma=0.5, colsample_bytree=0.4, colsample_bylevel=0.9, total=   0.0s\n",
      "[CV] subsample=0.9, reg_lambda=100.0, n_estimators=100, min_child_weight=5.0, max_depth=3, learning_rate=0, gamma=0.5, colsample_bytree=0.4, colsample_bylevel=0.9 \n",
      "[CV]  subsample=0.9, reg_lambda=100.0, n_estimators=100, min_child_weight=5.0, max_depth=3, learning_rate=0, gamma=0.5, colsample_bytree=0.4, colsample_bylevel=0.9, total=   0.0s\n",
      "[CV] subsample=0.8, reg_lambda=5.0, n_estimators=200, min_child_weight=0.5, max_depth=3, learning_rate=0.001, gamma=0.5, colsample_bytree=0.6, colsample_bylevel=1.0 \n",
      "[CV]  subsample=0.8, reg_lambda=5.0, n_estimators=200, min_child_weight=0.5, max_depth=3, learning_rate=0.001, gamma=0.5, colsample_bytree=0.6, colsample_bylevel=1.0, total=   0.0s\n",
      "[CV] subsample=0.8, reg_lambda=5.0, n_estimators=200, min_child_weight=0.5, max_depth=3, learning_rate=0.001, gamma=0.5, colsample_bytree=0.6, colsample_bylevel=1.0 \n",
      "[CV]  subsample=0.8, reg_lambda=5.0, n_estimators=200, min_child_weight=0.5, max_depth=3, learning_rate=0.001, gamma=0.5, colsample_bytree=0.6, colsample_bylevel=1.0, total=   0.0s\n",
      "[CV] subsample=0.5, reg_lambda=0.1, n_estimators=500, min_child_weight=10.0, max_depth=10, learning_rate=0.01, gamma=1.0, colsample_bytree=0.4, colsample_bylevel=0.9 \n"
     ]
    },
    {
     "name": "stderr",
     "output_type": "stream",
     "text": [
      "[Parallel(n_jobs=1)]: Using backend SequentialBackend with 1 concurrent workers.\n",
      "[Parallel(n_jobs=1)]: Done   1 out of   1 | elapsed:    0.0s remaining:    0.0s\n"
     ]
    },
    {
     "name": "stdout",
     "output_type": "stream",
     "text": [
      "[CV]  subsample=0.5, reg_lambda=0.1, n_estimators=500, min_child_weight=10.0, max_depth=10, learning_rate=0.01, gamma=1.0, colsample_bytree=0.4, colsample_bylevel=0.9, total=   0.1s\n",
      "[CV] subsample=0.5, reg_lambda=0.1, n_estimators=500, min_child_weight=10.0, max_depth=10, learning_rate=0.01, gamma=1.0, colsample_bytree=0.4, colsample_bylevel=0.9 \n",
      "[CV]  subsample=0.5, reg_lambda=0.1, n_estimators=500, min_child_weight=10.0, max_depth=10, learning_rate=0.01, gamma=1.0, colsample_bytree=0.4, colsample_bylevel=0.9, total=   0.1s\n",
      "[CV] subsample=0.9, reg_lambda=10.0, n_estimators=500, min_child_weight=1.0, max_depth=3, learning_rate=0.2, gamma=1.0, colsample_bytree=0.6, colsample_bylevel=0.9 \n",
      "[CV]  subsample=0.9, reg_lambda=10.0, n_estimators=500, min_child_weight=1.0, max_depth=3, learning_rate=0.2, gamma=1.0, colsample_bytree=0.6, colsample_bylevel=0.9, total=   0.1s\n",
      "[CV] subsample=0.9, reg_lambda=10.0, n_estimators=500, min_child_weight=1.0, max_depth=3, learning_rate=0.2, gamma=1.0, colsample_bytree=0.6, colsample_bylevel=0.9 \n",
      "[CV]  subsample=0.9, reg_lambda=10.0, n_estimators=500, min_child_weight=1.0, max_depth=3, learning_rate=0.2, gamma=1.0, colsample_bytree=0.6, colsample_bylevel=0.9, total=   0.1s\n",
      "[CV] subsample=1.0, reg_lambda=10.0, n_estimators=200, min_child_weight=1.0, max_depth=3, learning_rate=3, gamma=0, colsample_bytree=1.0, colsample_bylevel=0.7 \n",
      "[CV]  subsample=1.0, reg_lambda=10.0, n_estimators=200, min_child_weight=1.0, max_depth=3, learning_rate=3, gamma=0, colsample_bytree=1.0, colsample_bylevel=0.7, total=   0.0s\n",
      "[CV] subsample=1.0, reg_lambda=10.0, n_estimators=200, min_child_weight=1.0, max_depth=3, learning_rate=3, gamma=0, colsample_bytree=1.0, colsample_bylevel=0.7 \n",
      "[CV]  subsample=1.0, reg_lambda=10.0, n_estimators=200, min_child_weight=1.0, max_depth=3, learning_rate=3, gamma=0, colsample_bytree=1.0, colsample_bylevel=0.7, total=   0.0s\n",
      "[CV] subsample=0.5, reg_lambda=0.1, n_estimators=100, min_child_weight=1.0, max_depth=6, learning_rate=0.001, gamma=1.0, colsample_bytree=0.5, colsample_bylevel=0.4 \n"
     ]
    },
    {
     "name": "stderr",
     "output_type": "stream",
     "text": [
      "D:\\anaconda\\lib\\site-packages\\sklearn\\metrics\\classification.py:2174: RuntimeWarning: divide by zero encountered in log\n",
      "  loss = -(transformed_labels * np.log(y_pred)).sum(axis=1)\n",
      "D:\\anaconda\\lib\\site-packages\\sklearn\\metrics\\classification.py:2174: RuntimeWarning: invalid value encountered in multiply\n",
      "  loss = -(transformed_labels * np.log(y_pred)).sum(axis=1)\n"
     ]
    },
    {
     "name": "stdout",
     "output_type": "stream",
     "text": [
      "[CV]  subsample=0.5, reg_lambda=0.1, n_estimators=100, min_child_weight=1.0, max_depth=6, learning_rate=0.001, gamma=1.0, colsample_bytree=0.5, colsample_bylevel=0.4, total=   0.0s\n",
      "[CV] subsample=0.5, reg_lambda=0.1, n_estimators=100, min_child_weight=1.0, max_depth=6, learning_rate=0.001, gamma=1.0, colsample_bytree=0.5, colsample_bylevel=0.4 \n",
      "[CV]  subsample=0.5, reg_lambda=0.1, n_estimators=100, min_child_weight=1.0, max_depth=6, learning_rate=0.001, gamma=1.0, colsample_bytree=0.5, colsample_bylevel=0.4, total=   0.0s\n",
      "[CV] subsample=0.5, reg_lambda=5.0, n_estimators=200, min_child_weight=10.0, max_depth=4, learning_rate=0.001, gamma=1.0, colsample_bytree=0.8, colsample_bylevel=0.5 \n",
      "[CV]  subsample=0.5, reg_lambda=5.0, n_estimators=200, min_child_weight=10.0, max_depth=4, learning_rate=0.001, gamma=1.0, colsample_bytree=0.8, colsample_bylevel=0.5, total=   0.0s\n",
      "[CV] subsample=0.5, reg_lambda=5.0, n_estimators=200, min_child_weight=10.0, max_depth=4, learning_rate=0.001, gamma=1.0, colsample_bytree=0.8, colsample_bylevel=0.5 \n",
      "[CV]  subsample=0.5, reg_lambda=5.0, n_estimators=200, min_child_weight=10.0, max_depth=4, learning_rate=0.001, gamma=1.0, colsample_bytree=0.8, colsample_bylevel=0.5, total=   0.0s\n",
      "[CV] subsample=1.0, reg_lambda=0.1, n_estimators=500, min_child_weight=1.0, max_depth=3, learning_rate=0, gamma=1.0, colsample_bytree=0.4, colsample_bylevel=0.9 \n",
      "[CV]  subsample=1.0, reg_lambda=0.1, n_estimators=500, min_child_weight=1.0, max_depth=3, learning_rate=0, gamma=1.0, colsample_bytree=0.4, colsample_bylevel=0.9, total=   0.1s\n",
      "[CV] subsample=1.0, reg_lambda=0.1, n_estimators=500, min_child_weight=1.0, max_depth=3, learning_rate=0, gamma=1.0, colsample_bytree=0.4, colsample_bylevel=0.9 \n",
      "[CV]  subsample=1.0, reg_lambda=0.1, n_estimators=500, min_child_weight=1.0, max_depth=3, learning_rate=0, gamma=1.0, colsample_bytree=0.4, colsample_bylevel=0.9, total=   0.1s\n",
      "[CV] subsample=0.9, reg_lambda=1.0, n_estimators=100, min_child_weight=10.0, max_depth=6, learning_rate=3, gamma=0, colsample_bytree=0.8, colsample_bylevel=0.7 \n",
      "[CV]  subsample=0.9, reg_lambda=1.0, n_estimators=100, min_child_weight=10.0, max_depth=6, learning_rate=3, gamma=0, colsample_bytree=0.8, colsample_bylevel=0.7, total=   0.0s\n",
      "[CV] subsample=0.9, reg_lambda=1.0, n_estimators=100, min_child_weight=10.0, max_depth=6, learning_rate=3, gamma=0, colsample_bytree=0.8, colsample_bylevel=0.7 \n",
      "[CV]  subsample=0.9, reg_lambda=1.0, n_estimators=100, min_child_weight=10.0, max_depth=6, learning_rate=3, gamma=0, colsample_bytree=0.8, colsample_bylevel=0.7, total=   0.0s\n",
      "[CV] subsample=0.5, reg_lambda=10.0, n_estimators=500, min_child_weight=3.0, max_depth=10, learning_rate=0, gamma=0, colsample_bytree=0.8, colsample_bylevel=0.8 \n",
      "[CV]  subsample=0.5, reg_lambda=10.0, n_estimators=500, min_child_weight=3.0, max_depth=10, learning_rate=0, gamma=0, colsample_bytree=0.8, colsample_bylevel=0.8, total=   0.1s\n",
      "[CV] subsample=0.5, reg_lambda=10.0, n_estimators=500, min_child_weight=3.0, max_depth=10, learning_rate=0, gamma=0, colsample_bytree=0.8, colsample_bylevel=0.8 \n",
      "[CV]  subsample=0.5, reg_lambda=10.0, n_estimators=500, min_child_weight=3.0, max_depth=10, learning_rate=0, gamma=0, colsample_bytree=0.8, colsample_bylevel=0.8, total=   0.1s\n",
      "[CV] subsample=0.9, reg_lambda=10.0, n_estimators=100, min_child_weight=1.0, max_depth=4, learning_rate=0.001, gamma=0.25, colsample_bytree=0.8, colsample_bylevel=0.6 \n",
      "[CV]  subsample=0.9, reg_lambda=10.0, n_estimators=100, min_child_weight=1.0, max_depth=4, learning_rate=0.001, gamma=0.25, colsample_bytree=0.8, colsample_bylevel=0.6, total=   0.0s\n",
      "[CV] subsample=0.9, reg_lambda=10.0, n_estimators=100, min_child_weight=1.0, max_depth=4, learning_rate=0.001, gamma=0.25, colsample_bytree=0.8, colsample_bylevel=0.6 \n",
      "[CV]  subsample=0.9, reg_lambda=10.0, n_estimators=100, min_child_weight=1.0, max_depth=4, learning_rate=0.001, gamma=0.25, colsample_bytree=0.8, colsample_bylevel=0.6, total=   0.0s\n",
      "[CV] subsample=0.7, reg_lambda=10.0, n_estimators=200, min_child_weight=10.0, max_depth=3, learning_rate=0.2, gamma=0.25, colsample_bytree=1.0, colsample_bylevel=1.0 \n",
      "[CV]  subsample=0.7, reg_lambda=10.0, n_estimators=200, min_child_weight=10.0, max_depth=3, learning_rate=0.2, gamma=0.25, colsample_bytree=1.0, colsample_bylevel=1.0, total=   0.0s\n",
      "[CV] subsample=0.7, reg_lambda=10.0, n_estimators=200, min_child_weight=10.0, max_depth=3, learning_rate=0.2, gamma=0.25, colsample_bytree=1.0, colsample_bylevel=1.0 \n",
      "[CV]  subsample=0.7, reg_lambda=10.0, n_estimators=200, min_child_weight=10.0, max_depth=3, learning_rate=0.2, gamma=0.25, colsample_bytree=1.0, colsample_bylevel=1.0, total=   0.0s\n",
      "[CV] subsample=1.0, reg_lambda=100.0, n_estimators=100, min_child_weight=7.0, max_depth=6, learning_rate=0.001, gamma=0.5, colsample_bytree=0.5, colsample_bylevel=0.9 \n",
      "[CV]  subsample=1.0, reg_lambda=100.0, n_estimators=100, min_child_weight=7.0, max_depth=6, learning_rate=0.001, gamma=0.5, colsample_bytree=0.5, colsample_bylevel=0.9, total=   0.0s\n",
      "[CV] subsample=1.0, reg_lambda=100.0, n_estimators=100, min_child_weight=7.0, max_depth=6, learning_rate=0.001, gamma=0.5, colsample_bytree=0.5, colsample_bylevel=0.9 \n",
      "[CV]  subsample=1.0, reg_lambda=100.0, n_estimators=100, min_child_weight=7.0, max_depth=6, learning_rate=0.001, gamma=0.5, colsample_bytree=0.5, colsample_bylevel=0.9, total=   0.0s\n",
      "[CV] subsample=1.0, reg_lambda=100.0, n_estimators=200, min_child_weight=3.0, max_depth=4, learning_rate=0, gamma=1.0, colsample_bytree=0.9, colsample_bylevel=0.6 \n",
      "[CV]  subsample=1.0, reg_lambda=100.0, n_estimators=200, min_child_weight=3.0, max_depth=4, learning_rate=0, gamma=1.0, colsample_bytree=0.9, colsample_bylevel=0.6, total=   0.0s\n",
      "[CV] subsample=1.0, reg_lambda=100.0, n_estimators=200, min_child_weight=3.0, max_depth=4, learning_rate=0, gamma=1.0, colsample_bytree=0.9, colsample_bylevel=0.6 \n",
      "[CV]  subsample=1.0, reg_lambda=100.0, n_estimators=200, min_child_weight=3.0, max_depth=4, learning_rate=0, gamma=1.0, colsample_bytree=0.9, colsample_bylevel=0.6, total=   0.0s\n",
      "[CV] subsample=0.6, reg_lambda=100.0, n_estimators=200, min_child_weight=1.0, max_depth=4, learning_rate=3, gamma=0.25, colsample_bytree=0.8, colsample_bylevel=0.4 \n",
      "[CV]  subsample=0.6, reg_lambda=100.0, n_estimators=200, min_child_weight=1.0, max_depth=4, learning_rate=3, gamma=0.25, colsample_bytree=0.8, colsample_bylevel=0.4, total=   0.0s\n",
      "[CV] subsample=0.6, reg_lambda=100.0, n_estimators=200, min_child_weight=1.0, max_depth=4, learning_rate=3, gamma=0.25, colsample_bytree=0.8, colsample_bylevel=0.4 \n",
      "[CV]  subsample=0.6, reg_lambda=100.0, n_estimators=200, min_child_weight=1.0, max_depth=4, learning_rate=3, gamma=0.25, colsample_bytree=0.8, colsample_bylevel=0.4, total=   0.0s\n",
      "[CV] subsample=0.9, reg_lambda=10.0, n_estimators=200, min_child_weight=7.0, max_depth=10, learning_rate=0.1, gamma=0.25, colsample_bytree=1.0, colsample_bylevel=0.8 \n",
      "[CV]  subsample=0.9, reg_lambda=10.0, n_estimators=200, min_child_weight=7.0, max_depth=10, learning_rate=0.1, gamma=0.25, colsample_bytree=1.0, colsample_bylevel=0.8, total=   0.1s\n",
      "[CV] subsample=0.9, reg_lambda=10.0, n_estimators=200, min_child_weight=7.0, max_depth=10, learning_rate=0.1, gamma=0.25, colsample_bytree=1.0, colsample_bylevel=0.8 \n",
      "[CV]  subsample=0.9, reg_lambda=10.0, n_estimators=200, min_child_weight=7.0, max_depth=10, learning_rate=0.1, gamma=0.25, colsample_bytree=1.0, colsample_bylevel=0.8, total=   0.1s\n",
      "[CV] subsample=0.6, reg_lambda=0.1, n_estimators=500, min_child_weight=1.0, max_depth=3, learning_rate=0.01, gamma=0.25, colsample_bytree=0.9, colsample_bylevel=0.4 \n",
      "[CV]  subsample=0.6, reg_lambda=0.1, n_estimators=500, min_child_weight=1.0, max_depth=3, learning_rate=0.01, gamma=0.25, colsample_bytree=0.9, colsample_bylevel=0.4, total=   0.1s\n",
      "[CV] subsample=0.6, reg_lambda=0.1, n_estimators=500, min_child_weight=1.0, max_depth=3, learning_rate=0.01, gamma=0.25, colsample_bytree=0.9, colsample_bylevel=0.4 \n",
      "[CV]  subsample=0.6, reg_lambda=0.1, n_estimators=500, min_child_weight=1.0, max_depth=3, learning_rate=0.01, gamma=0.25, colsample_bytree=0.9, colsample_bylevel=0.4, total=   0.1s\n",
      "[CV] subsample=0.6, reg_lambda=50.0, n_estimators=500, min_child_weight=7.0, max_depth=6, learning_rate=0.2, gamma=0.5, colsample_bytree=0.9, colsample_bylevel=0.5 \n",
      "[CV]  subsample=0.6, reg_lambda=50.0, n_estimators=500, min_child_weight=7.0, max_depth=6, learning_rate=0.2, gamma=0.5, colsample_bytree=0.9, colsample_bylevel=0.5, total=   0.1s\n"
     ]
    },
    {
     "name": "stdout",
     "output_type": "stream",
     "text": [
      "[CV] subsample=0.6, reg_lambda=50.0, n_estimators=500, min_child_weight=7.0, max_depth=6, learning_rate=0.2, gamma=0.5, colsample_bytree=0.9, colsample_bylevel=0.5 \n",
      "[CV]  subsample=0.6, reg_lambda=50.0, n_estimators=500, min_child_weight=7.0, max_depth=6, learning_rate=0.2, gamma=0.5, colsample_bytree=0.9, colsample_bylevel=0.5, total=   0.1s\n",
      "[CV] subsample=0.6, reg_lambda=1.0, n_estimators=200, min_child_weight=10.0, max_depth=6, learning_rate=0.001, gamma=0, colsample_bytree=0.5, colsample_bylevel=0.7 \n",
      "[CV]  subsample=0.6, reg_lambda=1.0, n_estimators=200, min_child_weight=10.0, max_depth=6, learning_rate=0.001, gamma=0, colsample_bytree=0.5, colsample_bylevel=0.7, total=   0.0s\n",
      "[CV] subsample=0.6, reg_lambda=1.0, n_estimators=200, min_child_weight=10.0, max_depth=6, learning_rate=0.001, gamma=0, colsample_bytree=0.5, colsample_bylevel=0.7 \n",
      "[CV]  subsample=0.6, reg_lambda=1.0, n_estimators=200, min_child_weight=10.0, max_depth=6, learning_rate=0.001, gamma=0, colsample_bytree=0.5, colsample_bylevel=0.7, total=   0.0s\n",
      "[CV] subsample=1.0, reg_lambda=1.0, n_estimators=100, min_child_weight=7.0, max_depth=6, learning_rate=0.2, gamma=0.25, colsample_bytree=0.4, colsample_bylevel=0.8 \n",
      "[CV]  subsample=1.0, reg_lambda=1.0, n_estimators=100, min_child_weight=7.0, max_depth=6, learning_rate=0.2, gamma=0.25, colsample_bytree=0.4, colsample_bylevel=0.8, total=   0.0s\n",
      "[CV] subsample=1.0, reg_lambda=1.0, n_estimators=100, min_child_weight=7.0, max_depth=6, learning_rate=0.2, gamma=0.25, colsample_bytree=0.4, colsample_bylevel=0.8 \n",
      "[CV]  subsample=1.0, reg_lambda=1.0, n_estimators=100, min_child_weight=7.0, max_depth=6, learning_rate=0.2, gamma=0.25, colsample_bytree=0.4, colsample_bylevel=0.8, total=   0.0s\n",
      "Randomized search time: 2.142423152923584\n",
      "Best score: -0.4350802379377772\n",
      "Best params: \n",
      "colsample_bylevel: 0.4\n",
      "colsample_bytree: 0.9\n",
      "gamma: 0.25\n",
      "learning_rate: 0.01\n",
      "max_depth: 3\n",
      "min_child_weight: 1.0\n",
      "n_estimators: 500\n",
      "reg_lambda: 0.1\n",
      "subsample: 0.6\n"
     ]
    },
    {
     "name": "stderr",
     "output_type": "stream",
     "text": [
      "[Parallel(n_jobs=1)]: Done  40 out of  40 | elapsed:    2.0s finished\n"
     ]
    }
   ],
   "source": [
    "\n",
    "\n",
    "rs_clf = RandomizedSearchCV(xg, param_grid, n_iter=20,\n",
    "                            n_jobs=1, verbose=2, cv=2,\n",
    "                            scoring='neg_log_loss', refit=False, random_state=42)\n",
    "print(\"Randomized search..\")\n",
    "search_time_start = time.time()\n",
    "rs_clf.fit(X_train, y_train)\n",
    "print(\"Randomized search time:\", time.time() - search_time_start)\n",
    "\n",
    "best_score = rs_clf.best_score_\n",
    "best_params = rs_clf.best_params_\n",
    "print(\"Best score: {}\".format(best_score))\n",
    "print(\"Best params: \")\n",
    "for param_name in sorted(best_params.keys()):\n",
    "    print('%s: %r' % (param_name, best_params[param_name]))"
   ]
  },
  {
   "cell_type": "code",
   "execution_count": 115,
   "metadata": {},
   "outputs": [],
   "source": [
    "\n",
    "\n",
    "# creating XGboost with best parameters\n",
    "\n",
    "xgclf=xgb.XGBClassifier(colsample_bylevel=0.4,colsample_bytree=0.9,gamma=0.25,learning_rate=0.01,max_depth=3,min_child_weight=1.0,n_estimators=500,reg_lambda=0.1,subsample=0.6)"
   ]
  },
  {
   "cell_type": "code",
   "execution_count": null,
   "metadata": {},
   "outputs": [],
   "source": [
    "xgclf.fit(X_train,)"
   ]
  },
  {
   "cell_type": "code",
   "execution_count": null,
   "metadata": {},
   "outputs": [],
   "source": []
  }
 ],
 "metadata": {
  "kernelspec": {
   "display_name": "Python 3",
   "language": "python",
   "name": "python3"
  },
  "language_info": {
   "codemirror_mode": {
    "name": "ipython",
    "version": 3
   },
   "file_extension": ".py",
   "mimetype": "text/x-python",
   "name": "python",
   "nbconvert_exporter": "python",
   "pygments_lexer": "ipython3",
   "version": "3.7.3"
  }
 },
 "nbformat": 4,
 "nbformat_minor": 2
}
