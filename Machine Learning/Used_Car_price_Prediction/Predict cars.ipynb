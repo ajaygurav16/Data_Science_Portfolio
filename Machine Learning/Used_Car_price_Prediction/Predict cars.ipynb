{
 "cells": [
  {
   "cell_type": "code",
   "execution_count": 1732,
   "metadata": {},
   "outputs": [],
   "source": [
    "\n",
    "import pandas as pd\n",
    "import numpy as np\n",
    "import matplotlib.pyplot as plt\n",
    "import seaborn as sns\n",
    "import tensorflow as tf\n"
   ]
  },
  {
   "cell_type": "code",
   "execution_count": 1733,
   "metadata": {},
   "outputs": [
    {
     "data": {
      "text/html": [
       "<div>\n",
       "<style scoped>\n",
       "    .dataframe tbody tr th:only-of-type {\n",
       "        vertical-align: middle;\n",
       "    }\n",
       "\n",
       "    .dataframe tbody tr th {\n",
       "        vertical-align: top;\n",
       "    }\n",
       "\n",
       "    .dataframe thead th {\n",
       "        text-align: right;\n",
       "    }\n",
       "</style>\n",
       "<table border=\"1\" class=\"dataframe\">\n",
       "  <thead>\n",
       "    <tr style=\"text-align: right;\">\n",
       "      <th></th>\n",
       "      <th>Name</th>\n",
       "      <th>Location</th>\n",
       "      <th>Year</th>\n",
       "      <th>Kilometers_Driven</th>\n",
       "      <th>Fuel_Type</th>\n",
       "      <th>Transmission</th>\n",
       "      <th>Owner_Type</th>\n",
       "      <th>Mileage</th>\n",
       "      <th>Engine</th>\n",
       "      <th>Power</th>\n",
       "      <th>Seats</th>\n",
       "      <th>New_Price</th>\n",
       "      <th>Price</th>\n",
       "    </tr>\n",
       "  </thead>\n",
       "  <tbody>\n",
       "    <tr>\n",
       "      <th>0</th>\n",
       "      <td>Maruti Wagon R LXI CNG</td>\n",
       "      <td>Mumbai</td>\n",
       "      <td>2010</td>\n",
       "      <td>72000</td>\n",
       "      <td>CNG</td>\n",
       "      <td>Manual</td>\n",
       "      <td>First</td>\n",
       "      <td>26.6 km/kg</td>\n",
       "      <td>998 CC</td>\n",
       "      <td>58.16 bhp</td>\n",
       "      <td>5.0</td>\n",
       "      <td>NaN</td>\n",
       "      <td>1.75</td>\n",
       "    </tr>\n",
       "    <tr>\n",
       "      <th>1</th>\n",
       "      <td>Hyundai Creta 1.6 CRDi SX Option</td>\n",
       "      <td>Pune</td>\n",
       "      <td>2015</td>\n",
       "      <td>41000</td>\n",
       "      <td>Diesel</td>\n",
       "      <td>Manual</td>\n",
       "      <td>First</td>\n",
       "      <td>19.67 kmpl</td>\n",
       "      <td>1582 CC</td>\n",
       "      <td>126.2 bhp</td>\n",
       "      <td>5.0</td>\n",
       "      <td>NaN</td>\n",
       "      <td>12.50</td>\n",
       "    </tr>\n",
       "    <tr>\n",
       "      <th>2</th>\n",
       "      <td>Honda Jazz V</td>\n",
       "      <td>Chennai</td>\n",
       "      <td>2011</td>\n",
       "      <td>46000</td>\n",
       "      <td>Petrol</td>\n",
       "      <td>Manual</td>\n",
       "      <td>First</td>\n",
       "      <td>18.2 kmpl</td>\n",
       "      <td>1199 CC</td>\n",
       "      <td>88.7 bhp</td>\n",
       "      <td>5.0</td>\n",
       "      <td>8.61 Lakh</td>\n",
       "      <td>4.50</td>\n",
       "    </tr>\n",
       "    <tr>\n",
       "      <th>3</th>\n",
       "      <td>Maruti Ertiga VDI</td>\n",
       "      <td>Chennai</td>\n",
       "      <td>2012</td>\n",
       "      <td>87000</td>\n",
       "      <td>Diesel</td>\n",
       "      <td>Manual</td>\n",
       "      <td>First</td>\n",
       "      <td>20.77 kmpl</td>\n",
       "      <td>1248 CC</td>\n",
       "      <td>88.76 bhp</td>\n",
       "      <td>7.0</td>\n",
       "      <td>NaN</td>\n",
       "      <td>6.00</td>\n",
       "    </tr>\n",
       "    <tr>\n",
       "      <th>4</th>\n",
       "      <td>Audi A4 New 2.0 TDI Multitronic</td>\n",
       "      <td>Coimbatore</td>\n",
       "      <td>2013</td>\n",
       "      <td>40670</td>\n",
       "      <td>Diesel</td>\n",
       "      <td>Automatic</td>\n",
       "      <td>Second</td>\n",
       "      <td>15.2 kmpl</td>\n",
       "      <td>1968 CC</td>\n",
       "      <td>140.8 bhp</td>\n",
       "      <td>5.0</td>\n",
       "      <td>NaN</td>\n",
       "      <td>17.74</td>\n",
       "    </tr>\n",
       "  </tbody>\n",
       "</table>\n",
       "</div>"
      ],
      "text/plain": [
       "                               Name    Location  Year  Kilometers_Driven  \\\n",
       "0            Maruti Wagon R LXI CNG      Mumbai  2010              72000   \n",
       "1  Hyundai Creta 1.6 CRDi SX Option        Pune  2015              41000   \n",
       "2                      Honda Jazz V     Chennai  2011              46000   \n",
       "3                 Maruti Ertiga VDI     Chennai  2012              87000   \n",
       "4   Audi A4 New 2.0 TDI Multitronic  Coimbatore  2013              40670   \n",
       "\n",
       "  Fuel_Type Transmission Owner_Type     Mileage   Engine      Power  Seats  \\\n",
       "0       CNG       Manual      First  26.6 km/kg   998 CC  58.16 bhp    5.0   \n",
       "1    Diesel       Manual      First  19.67 kmpl  1582 CC  126.2 bhp    5.0   \n",
       "2    Petrol       Manual      First   18.2 kmpl  1199 CC   88.7 bhp    5.0   \n",
       "3    Diesel       Manual      First  20.77 kmpl  1248 CC  88.76 bhp    7.0   \n",
       "4    Diesel    Automatic     Second   15.2 kmpl  1968 CC  140.8 bhp    5.0   \n",
       "\n",
       "   New_Price  Price  \n",
       "0        NaN   1.75  \n",
       "1        NaN  12.50  \n",
       "2  8.61 Lakh   4.50  \n",
       "3        NaN   6.00  \n",
       "4        NaN  17.74  "
      ]
     },
     "execution_count": 1733,
     "metadata": {},
     "output_type": "execute_result"
    }
   ],
   "source": [
    "\n",
    "df=pd.read_excel('Data_Train.xlsx')\n",
    "\n",
    "df.head()\n"
   ]
  },
  {
   "cell_type": "code",
   "execution_count": 1734,
   "metadata": {},
   "outputs": [
    {
     "data": {
      "text/plain": [
       "Name                    0\n",
       "Location                0\n",
       "Year                    0\n",
       "Kilometers_Driven       0\n",
       "Fuel_Type               0\n",
       "Transmission            0\n",
       "Owner_Type              0\n",
       "Mileage                 2\n",
       "Engine                 36\n",
       "Power                  36\n",
       "Seats                  42\n",
       "New_Price            5195\n",
       "Price                   0\n",
       "dtype: int64"
      ]
     },
     "execution_count": 1734,
     "metadata": {},
     "output_type": "execute_result"
    }
   ],
   "source": [
    "df.isnull().sum()"
   ]
  },
  {
   "cell_type": "code",
   "execution_count": 1735,
   "metadata": {},
   "outputs": [],
   "source": [
    "df.drop(['New_Price'],axis=1,inplace=True)"
   ]
  },
  {
   "cell_type": "code",
   "execution_count": 1736,
   "metadata": {},
   "outputs": [
    {
     "data": {
      "text/plain": [
       "Name                  object\n",
       "Location              object\n",
       "Year                   int64\n",
       "Kilometers_Driven      int64\n",
       "Fuel_Type             object\n",
       "Transmission          object\n",
       "Owner_Type            object\n",
       "Mileage               object\n",
       "Engine                object\n",
       "Power                 object\n",
       "Seats                float64\n",
       "Price                float64\n",
       "dtype: object"
      ]
     },
     "execution_count": 1736,
     "metadata": {},
     "output_type": "execute_result"
    }
   ],
   "source": [
    "df.dtypes"
   ]
  },
  {
   "cell_type": "code",
   "execution_count": null,
   "metadata": {},
   "outputs": [],
   "source": []
  },
  {
   "cell_type": "code",
   "execution_count": 1737,
   "metadata": {},
   "outputs": [
    {
     "data": {
      "text/plain": [
       "<matplotlib.axes._subplots.AxesSubplot at 0x1e939b9b208>"
      ]
     },
     "execution_count": 1737,
     "metadata": {},
     "output_type": "execute_result"
    },
    {
     "data": {
      "image/png": "[encoded data removed]",
      "text/plain": [
       "<Figure size 432x288 with 1 Axes>"
      ]
     },
     "metadata": {
      "needs_background": "light"
     },
     "output_type": "display_data"
    }
   ],
   "source": [
    "df.groupby(['Location'])['Price'].mean().plot.bar()"
   ]
  },
  {
   "cell_type": "code",
   "execution_count": null,
   "metadata": {},
   "outputs": [],
   "source": []
  },
  {
   "cell_type": "code",
   "execution_count": null,
   "metadata": {},
   "outputs": [],
   "source": []
  },
  {
   "cell_type": "code",
   "execution_count": 1738,
   "metadata": {},
   "outputs": [],
   "source": [
    "#df.dropna(inplace=True)\n",
    "\n"
   ]
  },
  {
   "cell_type": "code",
   "execution_count": 1739,
   "metadata": {},
   "outputs": [],
   "source": [
    "df.Mileage.fillna('0.0 kmpl',inplace=True)"
   ]
  },
  {
   "cell_type": "code",
   "execution_count": 1740,
   "metadata": {},
   "outputs": [],
   "source": [
    "df.Engine.fillna('0 CC',inplace=True)"
   ]
  },
  {
   "cell_type": "code",
   "execution_count": 1741,
   "metadata": {},
   "outputs": [],
   "source": [
    "df.Power.fillna('0.0 bhp',inplace=True)"
   ]
  },
  {
   "cell_type": "code",
   "execution_count": 1742,
   "metadata": {},
   "outputs": [],
   "source": [
    "df.Seats.fillna(0.0,inplace=True)"
   ]
  },
  {
   "cell_type": "code",
   "execution_count": 1743,
   "metadata": {},
   "outputs": [
    {
     "data": {
      "text/plain": [
       "Name                  object\n",
       "Location              object\n",
       "Year                   int64\n",
       "Kilometers_Driven      int64\n",
       "Fuel_Type             object\n",
       "Transmission          object\n",
       "Owner_Type            object\n",
       "Mileage               object\n",
       "Engine                object\n",
       "Power                 object\n",
       "Seats                float64\n",
       "Price                float64\n",
       "dtype: object"
      ]
     },
     "execution_count": 1743,
     "metadata": {},
     "output_type": "execute_result"
    }
   ],
   "source": [
    "df.dtypes"
   ]
  },
  {
   "cell_type": "code",
   "execution_count": 1744,
   "metadata": {},
   "outputs": [
    {
     "data": {
      "text/plain": [
       "<matplotlib.axes._subplots.AxesSubplot at 0x1e92a685470>"
      ]
     },
     "execution_count": 1744,
     "metadata": {},
     "output_type": "execute_result"
    },
    {
     "data": {
      "image/png": "[encoded data removed]",
      "text/plain": [
       "<Figure size 432x288 with 1 Axes>"
      ]
     },
     "metadata": {
      "needs_background": "light"
     },
     "output_type": "display_data"
    }
   ],
   "source": [
    "df.groupby(['Transmission'])['Price'].mean().plot.bar()"
   ]
  },
  {
   "cell_type": "code",
   "execution_count": 1745,
   "metadata": {},
   "outputs": [
    {
     "data": {
      "text/plain": [
       "<matplotlib.axes._subplots.AxesSubplot at 0x1e93c9cee10>"
      ]
     },
     "execution_count": 1745,
     "metadata": {},
     "output_type": "execute_result"
    },
    {
     "data": {
      "image/png": "[encoded data removed]",
      "text/plain": [
       "<Figure size 432x288 with 1 Axes>"
      ]
     },
     "metadata": {
      "needs_background": "light"
     },
     "output_type": "display_data"
    }
   ],
   "source": [
    "df.groupby(['Fuel_Type'])['Price'].mean().plot.bar()"
   ]
  },
  {
   "cell_type": "code",
   "execution_count": 1746,
   "metadata": {},
   "outputs": [
    {
     "data": {
      "text/plain": [
       "<matplotlib.axes._subplots.AxesSubplot at 0x1e93ab0ca90>"
      ]
     },
     "execution_count": 1746,
     "metadata": {},
     "output_type": "execute_result"
    },
    {
     "data": {
      "image/png": "[encoded data removed]",
      "text/plain": [
       "<Figure size 432x288 with 1 Axes>"
      ]
     },
     "metadata": {
      "needs_background": "light"
     },
     "output_type": "display_data"
    }
   ],
   "source": [
    "df.groupby(['Year'])['Price'].mean().plot.bar()"
   ]
  },
  {
   "cell_type": "code",
   "execution_count": 1747,
   "metadata": {},
   "outputs": [
    {
     "data": {
      "text/plain": [
       "72228"
      ]
     },
     "execution_count": 1747,
     "metadata": {},
     "output_type": "execute_result"
    }
   ],
   "source": [
    "df.size"
   ]
  },
  {
   "cell_type": "code",
   "execution_count": 1748,
   "metadata": {},
   "outputs": [
    {
     "data": {
      "text/plain": [
       "array(['Mumbai', 'Pune', 'Chennai', 'Coimbatore', 'Hyderabad', 'Jaipur',\n",
       "       'Kochi', 'Kolkata', 'Delhi', 'Bangalore', 'Ahmedabad'],\n",
       "      dtype=object)"
      ]
     },
     "execution_count": 1748,
     "metadata": {},
     "output_type": "execute_result"
    }
   ],
   "source": [
    "df.Location.unique()"
   ]
  },
  {
   "cell_type": "code",
   "execution_count": 1749,
   "metadata": {},
   "outputs": [
    {
     "data": {
      "text/plain": [
       "array([2010, 2015, 2011, 2012, 2013, 2016, 2018, 2014, 2017, 2007, 2009,\n",
       "       2008, 2019, 2006, 2005, 2004, 2002, 2000, 2003, 1999, 2001, 1998],\n",
       "      dtype=int64)"
      ]
     },
     "execution_count": 1749,
     "metadata": {},
     "output_type": "execute_result"
    }
   ],
   "source": [
    "df.Year.unique()"
   ]
  },
  {
   "cell_type": "code",
   "execution_count": 1750,
   "metadata": {},
   "outputs": [
    {
     "data": {
      "text/plain": [
       "array(['CNG', 'Diesel', 'Petrol', 'LPG', 'Electric'], dtype=object)"
      ]
     },
     "execution_count": 1750,
     "metadata": {},
     "output_type": "execute_result"
    }
   ],
   "source": [
    "df.Fuel_Type.unique()"
   ]
  },
  {
   "cell_type": "code",
   "execution_count": 1751,
   "metadata": {},
   "outputs": [
    {
     "data": {
      "text/plain": [
       "array(['Manual', 'Automatic'], dtype=object)"
      ]
     },
     "execution_count": 1751,
     "metadata": {},
     "output_type": "execute_result"
    }
   ],
   "source": [
    "df.Transmission.unique()"
   ]
  },
  {
   "cell_type": "code",
   "execution_count": null,
   "metadata": {},
   "outputs": [],
   "source": []
  },
  {
   "cell_type": "code",
   "execution_count": 1752,
   "metadata": {},
   "outputs": [
    {
     "data": {
      "text/plain": [
       "Name                  object\n",
       "Location              object\n",
       "Year                   int64\n",
       "Kilometers_Driven      int64\n",
       "Fuel_Type             object\n",
       "Transmission          object\n",
       "Owner_Type            object\n",
       "Mileage               object\n",
       "Engine                object\n",
       "Power                 object\n",
       "Seats                float64\n",
       "Price                float64\n",
       "dtype: object"
      ]
     },
     "execution_count": 1752,
     "metadata": {},
     "output_type": "execute_result"
    }
   ],
   "source": [
    "df.dtypes"
   ]
  },
  {
   "cell_type": "code",
   "execution_count": 1753,
   "metadata": {},
   "outputs": [],
   "source": [
    "df.Power=df.Power.apply(lambda x:x.split(' ')[0] if x is not 'null' else 0.00)"
   ]
  },
  {
   "cell_type": "code",
   "execution_count": 1754,
   "metadata": {},
   "outputs": [],
   "source": [
    "df.Power.replace('null',0.00,inplace=True)"
   ]
  },
  {
   "cell_type": "code",
   "execution_count": 1755,
   "metadata": {},
   "outputs": [],
   "source": [
    "#df.to_excel('tp1.xlsx')"
   ]
  },
  {
   "cell_type": "code",
   "execution_count": null,
   "metadata": {},
   "outputs": [],
   "source": []
  },
  {
   "cell_type": "code",
   "execution_count": 1756,
   "metadata": {},
   "outputs": [],
   "source": [
    "df.Power=df.Power.apply(lambda x: float(x))"
   ]
  },
  {
   "cell_type": "code",
   "execution_count": 1757,
   "metadata": {},
   "outputs": [],
   "source": [
    "df.Engine=df.Engine.apply(lambda x:int(x.split(' ')[0]))\n",
    "df.Mileage=df.Mileage.apply(lambda x:float(x.split(' ')[0]))\n",
    "#df.Year=df.Year.astype('object')"
   ]
  },
  {
   "cell_type": "code",
   "execution_count": 1758,
   "metadata": {},
   "outputs": [
    {
     "data": {
      "text/html": [
       "<div>\n",
       "<style scoped>\n",
       "    .dataframe tbody tr th:only-of-type {\n",
       "        vertical-align: middle;\n",
       "    }\n",
       "\n",
       "    .dataframe tbody tr th {\n",
       "        vertical-align: top;\n",
       "    }\n",
       "\n",
       "    .dataframe thead th {\n",
       "        text-align: right;\n",
       "    }\n",
       "</style>\n",
       "<table border=\"1\" class=\"dataframe\">\n",
       "  <thead>\n",
       "    <tr style=\"text-align: right;\">\n",
       "      <th></th>\n",
       "      <th>Name</th>\n",
       "      <th>Location</th>\n",
       "      <th>Year</th>\n",
       "      <th>Kilometers_Driven</th>\n",
       "      <th>Fuel_Type</th>\n",
       "      <th>Transmission</th>\n",
       "      <th>Owner_Type</th>\n",
       "      <th>Mileage</th>\n",
       "      <th>Engine</th>\n",
       "      <th>Power</th>\n",
       "      <th>Seats</th>\n",
       "      <th>Price</th>\n",
       "    </tr>\n",
       "  </thead>\n",
       "  <tbody>\n",
       "    <tr>\n",
       "      <th>0</th>\n",
       "      <td>Maruti Wagon R LXI CNG</td>\n",
       "      <td>Mumbai</td>\n",
       "      <td>2010</td>\n",
       "      <td>72000</td>\n",
       "      <td>CNG</td>\n",
       "      <td>Manual</td>\n",
       "      <td>First</td>\n",
       "      <td>26.60</td>\n",
       "      <td>998</td>\n",
       "      <td>58.16</td>\n",
       "      <td>5.0</td>\n",
       "      <td>1.75</td>\n",
       "    </tr>\n",
       "    <tr>\n",
       "      <th>1</th>\n",
       "      <td>Hyundai Creta 1.6 CRDi SX Option</td>\n",
       "      <td>Pune</td>\n",
       "      <td>2015</td>\n",
       "      <td>41000</td>\n",
       "      <td>Diesel</td>\n",
       "      <td>Manual</td>\n",
       "      <td>First</td>\n",
       "      <td>19.67</td>\n",
       "      <td>1582</td>\n",
       "      <td>126.20</td>\n",
       "      <td>5.0</td>\n",
       "      <td>12.50</td>\n",
       "    </tr>\n",
       "    <tr>\n",
       "      <th>2</th>\n",
       "      <td>Honda Jazz V</td>\n",
       "      <td>Chennai</td>\n",
       "      <td>2011</td>\n",
       "      <td>46000</td>\n",
       "      <td>Petrol</td>\n",
       "      <td>Manual</td>\n",
       "      <td>First</td>\n",
       "      <td>18.20</td>\n",
       "      <td>1199</td>\n",
       "      <td>88.70</td>\n",
       "      <td>5.0</td>\n",
       "      <td>4.50</td>\n",
       "    </tr>\n",
       "    <tr>\n",
       "      <th>3</th>\n",
       "      <td>Maruti Ertiga VDI</td>\n",
       "      <td>Chennai</td>\n",
       "      <td>2012</td>\n",
       "      <td>87000</td>\n",
       "      <td>Diesel</td>\n",
       "      <td>Manual</td>\n",
       "      <td>First</td>\n",
       "      <td>20.77</td>\n",
       "      <td>1248</td>\n",
       "      <td>88.76</td>\n",
       "      <td>7.0</td>\n",
       "      <td>6.00</td>\n",
       "    </tr>\n",
       "    <tr>\n",
       "      <th>4</th>\n",
       "      <td>Audi A4 New 2.0 TDI Multitronic</td>\n",
       "      <td>Coimbatore</td>\n",
       "      <td>2013</td>\n",
       "      <td>40670</td>\n",
       "      <td>Diesel</td>\n",
       "      <td>Automatic</td>\n",
       "      <td>Second</td>\n",
       "      <td>15.20</td>\n",
       "      <td>1968</td>\n",
       "      <td>140.80</td>\n",
       "      <td>5.0</td>\n",
       "      <td>17.74</td>\n",
       "    </tr>\n",
       "  </tbody>\n",
       "</table>\n",
       "</div>"
      ],
      "text/plain": [
       "                               Name    Location  Year  Kilometers_Driven  \\\n",
       "0            Maruti Wagon R LXI CNG      Mumbai  2010              72000   \n",
       "1  Hyundai Creta 1.6 CRDi SX Option        Pune  2015              41000   \n",
       "2                      Honda Jazz V     Chennai  2011              46000   \n",
       "3                 Maruti Ertiga VDI     Chennai  2012              87000   \n",
       "4   Audi A4 New 2.0 TDI Multitronic  Coimbatore  2013              40670   \n",
       "\n",
       "  Fuel_Type Transmission Owner_Type  Mileage  Engine   Power  Seats  Price  \n",
       "0       CNG       Manual      First    26.60     998   58.16    5.0   1.75  \n",
       "1    Diesel       Manual      First    19.67    1582  126.20    5.0  12.50  \n",
       "2    Petrol       Manual      First    18.20    1199   88.70    5.0   4.50  \n",
       "3    Diesel       Manual      First    20.77    1248   88.76    7.0   6.00  \n",
       "4    Diesel    Automatic     Second    15.20    1968  140.80    5.0  17.74  "
      ]
     },
     "execution_count": 1758,
     "metadata": {},
     "output_type": "execute_result"
    }
   ],
   "source": [
    "df.head()"
   ]
  },
  {
   "cell_type": "code",
   "execution_count": null,
   "metadata": {},
   "outputs": [],
   "source": [
    "\n",
    "\n"
   ]
  },
  {
   "cell_type": "code",
   "execution_count": 1759,
   "metadata": {},
   "outputs": [
    {
     "data": {
      "text/plain": [
       "\"\\ndf['1990-1995']=df.Year.apply(lambda x:1 if x >= 1990 and x<=1995 else 0)\\n\\ndf['1995-2000']=df.Year.apply(lambda x:1 if x > 1995 and x<=2000 else 0)\\n\\n\\ndf['2000-2005']=df.Year.apply(lambda x:1 if x > 2000 and x<=2005 else 0)\\n\\n\\ndf['2005-2010']=df.Year.apply(lambda x:1 if x > 2005 and x<=2010 else 0)\\n\\n\\ndf['2010-2015']=df.Year.apply(lambda x:1 if x > 2010 and x<=2015 else 0)\\n\\ndf['2015-2020']=df.Year.apply(lambda x:1 if x >2015 and x<=2020 else 0)\\n\\n\""
      ]
     },
     "execution_count": 1759,
     "metadata": {},
     "output_type": "execute_result"
    }
   ],
   "source": [
    "'''\n",
    "df['1990-1995']=df.Year.apply(lambda x:1 if x >= 1990 and x<=1995 else 0)\n",
    "\n",
    "df['1995-2000']=df.Year.apply(lambda x:1 if x > 1995 and x<=2000 else 0)\n",
    "\n",
    "\n",
    "df['2000-2005']=df.Year.apply(lambda x:1 if x > 2000 and x<=2005 else 0)\n",
    "\n",
    "\n",
    "df['2005-2010']=df.Year.apply(lambda x:1 if x > 2005 and x<=2010 else 0)\n",
    "\n",
    "\n",
    "df['2010-2015']=df.Year.apply(lambda x:1 if x > 2010 and x<=2015 else 0)\n",
    "\n",
    "df['2015-2020']=df.Year.apply(lambda x:1 if x >2015 and x<=2020 else 0)\n",
    "\n",
    "'''"
   ]
  },
  {
   "cell_type": "code",
   "execution_count": 1760,
   "metadata": {},
   "outputs": [
    {
     "data": {
      "text/plain": [
       "array(['First', 'Second', 'Fourth & Above', 'Third'], dtype=object)"
      ]
     },
     "execution_count": 1760,
     "metadata": {},
     "output_type": "execute_result"
    }
   ],
   "source": [
    "df.Owner_Type.unique()"
   ]
  },
  {
   "cell_type": "code",
   "execution_count": 1761,
   "metadata": {},
   "outputs": [],
   "source": [
    "from sklearn.feature_extraction.text import CountVectorizer\n",
    "#cv1=CountVectorizer(ngram_range=(1,3),max_features=500)-84%\n",
    "#cv1=CountVectorizer(ngram_range=(1,3),max_features=500)\n",
    "#cv1=CountVectorizer(max_features=300,ngram_range=(2,3))-91%\n",
    "\n",
    "cv1=CountVectorizer(max_features=500,ngram_range=(2,3))\n",
    "cv1.fit(df.Name)\n",
    "x1=cv1.transform(df.Name)"
   ]
  },
  {
   "cell_type": "code",
   "execution_count": 1762,
   "metadata": {},
   "outputs": [],
   "source": [
    "d1=cv1.vocabulary_"
   ]
  },
  {
   "cell_type": "code",
   "execution_count": 1763,
   "metadata": {},
   "outputs": [
    {
     "data": {
      "text/plain": [
       "dict"
      ]
     },
     "execution_count": 1763,
     "metadata": {},
     "output_type": "execute_result"
    }
   ],
   "source": [
    "type(d1)"
   ]
  },
  {
   "cell_type": "code",
   "execution_count": 1764,
   "metadata": {},
   "outputs": [
    {
     "data": {
      "text/plain": [
       "['zdi plus',\n",
       " 'xuv500 w8 2wd',\n",
       " 'xuv500 w8',\n",
       " 'xuv500 w10',\n",
       " 'xing gls',\n",
       " 'xf litre',\n",
       " 'xdrive 30d',\n",
       " 'xcent kappa',\n",
       " 'xcent crdi',\n",
       " 'wagon vxi',\n",
       " 'wagon lxi cng',\n",
       " 'wagon lxi',\n",
       " 'w8 2wd',\n",
       " 'vxi bsiv',\n",
       " 'vxi bsiii',\n",
       " 'vxi at',\n",
       " 'vx dtec',\n",
       " 'vx diesel seater',\n",
       " 'vx diesel',\n",
       " 'vtec vx',\n",
       " 'vtec cvt vx',\n",
       " 'vtec cvt',\n",
       " 'volkswagen vento tdi',\n",
       " 'volkswagen vento petrol',\n",
       " 'volkswagen vento diesel',\n",
       " 'volkswagen vento',\n",
       " 'volkswagen polo tdi',\n",
       " 'volkswagen polo petrol',\n",
       " 'volkswagen polo mpi',\n",
       " 'volkswagen polo diesel',\n",
       " 'volkswagen polo',\n",
       " 'volkswagen jetta',\n",
       " 'volkswagen ameo',\n",
       " 'vitara brezza zdi',\n",
       " 'vitara brezza',\n",
       " 'verna vtvt',\n",
       " 'verna sx vtvt',\n",
       " 'verna sx crdi',\n",
       " 'verna sx',\n",
       " 'verna crdi sx',\n",
       " 'verna crdi',\n",
       " 'vento tdi highline',\n",
       " 'vento tdi',\n",
       " 'vento petrol highline',\n",
       " 'vento petrol',\n",
       " 'vento diesel highline',\n",
       " 'vento diesel',\n",
       " 'vdi bsiv',\n",
       " 'tsi at',\n",
       " 'trendline 2l',\n",
       " 'toyota innova vx',\n",
       " 'toyota innova gx',\n",
       " 'toyota innova diesel',\n",
       " 'toyota innova crysta',\n",
       " 'toyota innova',\n",
       " 'toyota fortuner diesel',\n",
       " 'toyota fortuner 4x2',\n",
       " 'toyota fortuner',\n",
       " 'toyota etios liva',\n",
       " 'toyota etios',\n",
       " 'toyota corolla altis',\n",
       " 'toyota corolla',\n",
       " 'titanium plus',\n",
       " 'titanium optional',\n",
       " 'ti vct',\n",
       " 'terrano xl',\n",
       " 'tdi quattro technology',\n",
       " 'tdi quattro premium',\n",
       " 'tdi quattro',\n",
       " 'tdi premium plus',\n",
       " 'tdi premium',\n",
       " 'tdi multitronic',\n",
       " 'tdi highline at',\n",
       " 'tdi highline',\n",
       " 'tdi cr',\n",
       " 'tdi at',\n",
       " 'tdi 177 bhp',\n",
       " 'tdi 177',\n",
       " 'tata zest',\n",
       " 'tata nano',\n",
       " 'tata manza',\n",
       " 'tata indigo',\n",
       " 'tata indica vista',\n",
       " 'tata indica v2',\n",
       " 'tata indica',\n",
       " 'sx vtvt',\n",
       " 'sx plus',\n",
       " 'sx option',\n",
       " 'sx crdi',\n",
       " 'swift vxi bsiv',\n",
       " 'swift vxi',\n",
       " 'swift vdi bsiv',\n",
       " 'swift vdi',\n",
       " 'swift ldi',\n",
       " 'swift dzire vxi',\n",
       " 'swift dzire vdi',\n",
       " 'swift dzire ldi',\n",
       " 'swift dzire',\n",
       " 'superb elegance tsi',\n",
       " 'superb elegance',\n",
       " 'sunny 2011 2014',\n",
       " 'sunny 2011',\n",
       " 'sportz option',\n",
       " 'sportz at',\n",
       " 'skoda superb elegance',\n",
       " 'skoda superb',\n",
       " 'skoda rapid tdi',\n",
       " 'skoda rapid mpi',\n",
       " 'skoda rapid',\n",
       " 'skoda octavia',\n",
       " 'skoda laura',\n",
       " 'series 520d',\n",
       " 'series 320d luxury',\n",
       " 'series 320d',\n",
       " 'series 2013 2017',\n",
       " 'series 2013',\n",
       " 'series 2003 2012',\n",
       " 'series 2003',\n",
       " 'seater bs iv',\n",
       " 'seater bs',\n",
       " 'sdrive 20d',\n",
       " 'scorpio vlx',\n",
       " 'santro xing gls',\n",
       " 'santro xing',\n",
       " 'santa fe',\n",
       " 'rover range rover',\n",
       " 'rover range',\n",
       " 'rover freelander',\n",
       " 'ritz vdi',\n",
       " 'renault kwid rxt',\n",
       " 'renault kwid',\n",
       " 'renault duster 85ps',\n",
       " 'renault duster 110ps',\n",
       " 'renault duster',\n",
       " 'rapid tdi',\n",
       " 'rapid mpi',\n",
       " 'range rover',\n",
       " 'quattro technology',\n",
       " 'quattro premium plus',\n",
       " 'quattro premium',\n",
       " 'q7 tdi quattro',\n",
       " 'q7 tdi',\n",
       " 'premium plus',\n",
       " 'polo tdi highline',\n",
       " 'polo tdi',\n",
       " 'polo petrol highline',\n",
       " 'polo petrol comfortline',\n",
       " 'polo petrol',\n",
       " 'polo mpi highline',\n",
       " 'polo mpi',\n",
       " 'polo diesel comfortline',\n",
       " 'polo diesel',\n",
       " 'plus shvs',\n",
       " 'plus dual tone',\n",
       " 'plus dual',\n",
       " 'petrol highline',\n",
       " 'petrol comfortline 2l',\n",
       " 'petrol comfortline',\n",
       " 'nissan terrano',\n",
       " 'nissan sunny 2011',\n",
       " 'nissan sunny',\n",
       " 'nissan micra',\n",
       " 'new class 220',\n",
       " 'new class 200',\n",
       " 'new class',\n",
       " 'mt titanium optional',\n",
       " 'mt titanium',\n",
       " 'mpi highline',\n",
       " 'mpi comfortline',\n",
       " 'mitsubishi pajero',\n",
       " 'mini cooper',\n",
       " 'micra diesel',\n",
       " 'mercedes benz new',\n",
       " 'mercedes benz gla',\n",
       " 'mercedes benz class',\n",
       " 'mercedes benz',\n",
       " 'maruti zen',\n",
       " 'maruti wagon vxi',\n",
       " 'maruti wagon lxi',\n",
       " 'maruti wagon',\n",
       " 'maruti vitara brezza',\n",
       " 'maruti vitara',\n",
       " 'maruti sx4',\n",
       " 'maruti swift vxi',\n",
       " 'maruti swift vdi',\n",
       " 'maruti swift ldi',\n",
       " 'maruti swift dzire',\n",
       " 'maruti swift',\n",
       " 'maruti star',\n",
       " 'maruti ritz vdi',\n",
       " 'maruti ritz',\n",
       " 'maruti omni',\n",
       " 'maruti ertiga zdi',\n",
       " 'maruti ertiga vdi',\n",
       " 'maruti ertiga',\n",
       " 'maruti eeco',\n",
       " 'maruti dzire',\n",
       " 'maruti ciaz zdi',\n",
       " 'maruti ciaz',\n",
       " 'maruti celerio vxi',\n",
       " 'maruti celerio',\n",
       " 'maruti baleno zeta',\n",
       " 'maruti baleno alpha',\n",
       " 'maruti baleno',\n",
       " 'maruti alto lxi',\n",
       " 'maruti alto k10',\n",
       " 'maruti alto 800',\n",
       " 'maruti alto',\n",
       " 'mahindra xylo',\n",
       " 'mahindra xuv500 w8',\n",
       " 'mahindra xuv500 w10',\n",
       " 'mahindra xuv500',\n",
       " 'mahindra scorpio vlx',\n",
       " 'mahindra scorpio',\n",
       " 'mahindra bolero',\n",
       " 'lxi cng',\n",
       " 'lxi bsiii',\n",
       " 'lxi bs iv',\n",
       " 'lxi bs',\n",
       " 'luxury line',\n",
       " 'land rover range',\n",
       " 'land rover freelander',\n",
       " 'land rover',\n",
       " 'kwid rxt',\n",
       " 'k10 vxi',\n",
       " 'jazz vx',\n",
       " 'jaguar xf litre',\n",
       " 'jaguar xf',\n",
       " 'innova vx diesel',\n",
       " 'innova vx',\n",
       " 'innova gx diesel',\n",
       " 'innova gx',\n",
       " 'innova diesel seater',\n",
       " 'innova diesel',\n",
       " 'innova crysta zx',\n",
       " 'innova crysta',\n",
       " 'indica vista',\n",
       " 'indica v2',\n",
       " 'i20 sportz',\n",
       " 'i20 magna',\n",
       " 'i20 crdi',\n",
       " 'i20 asta option',\n",
       " 'i20 asta crdi',\n",
       " 'i20 asta',\n",
       " 'i10 sportz',\n",
       " 'i10 magna',\n",
       " 'i10 kappa',\n",
       " 'i10 era',\n",
       " 'i10 crdi sportz',\n",
       " 'i10 crdi',\n",
       " 'i10 at asta',\n",
       " 'i10 at',\n",
       " 'i10 asta',\n",
       " 'hyundai xcent kappa',\n",
       " 'hyundai xcent crdi',\n",
       " 'hyundai xcent',\n",
       " 'hyundai verna vtvt',\n",
       " 'hyundai verna sx',\n",
       " 'hyundai verna crdi',\n",
       " 'hyundai verna',\n",
       " 'hyundai santro xing',\n",
       " 'hyundai santro',\n",
       " 'hyundai santa fe',\n",
       " 'hyundai santa',\n",
       " 'hyundai i20 sportz',\n",
       " 'hyundai i20 magna',\n",
       " 'hyundai i20 crdi',\n",
       " 'hyundai i20 asta',\n",
       " 'hyundai i20',\n",
       " 'hyundai i10 sportz',\n",
       " 'hyundai i10 magna',\n",
       " 'hyundai i10 era',\n",
       " 'hyundai i10',\n",
       " 'hyundai grand i10',\n",
       " 'hyundai grand',\n",
       " 'hyundai eon lite',\n",
       " 'hyundai eon era',\n",
       " 'hyundai eon',\n",
       " 'hyundai elantra crdi',\n",
       " 'hyundai elantra',\n",
       " 'hyundai creta sx',\n",
       " 'hyundai creta crdi',\n",
       " 'hyundai creta',\n",
       " 'hyundai accent',\n",
       " 'honda mobilio',\n",
       " 'honda jazz vx',\n",
       " 'honda jazz',\n",
       " 'honda cr',\n",
       " 'honda civic 2006',\n",
       " 'honda civic',\n",
       " 'honda city zx',\n",
       " 'honda city vtec',\n",
       " 'honda city mt',\n",
       " 'honda city dtec',\n",
       " 'honda city at',\n",
       " 'honda city',\n",
       " 'honda brio mt',\n",
       " 'honda brio',\n",
       " 'honda amaze vx',\n",
       " 'honda amaze vtech',\n",
       " 'honda amaze dtech',\n",
       " 'honda amaze',\n",
       " 'honda accord',\n",
       " 'highline at',\n",
       " 'highline 2l',\n",
       " 'grand i10 sportz',\n",
       " 'grand i10 kappa',\n",
       " 'grand i10 crdi',\n",
       " 'grand i10 at',\n",
       " 'grand i10 asta',\n",
       " 'grand i10',\n",
       " 'gla class 200',\n",
       " 'gla class',\n",
       " 'fortuner diesel',\n",
       " 'fortuner 4x2 manual',\n",
       " 'fortuner 4x2 at',\n",
       " 'fortuner 4x2',\n",
       " 'ford ikon',\n",
       " 'ford figo petrol',\n",
       " 'ford figo diesel',\n",
       " 'ford figo',\n",
       " 'ford fiesta',\n",
       " 'ford endeavour',\n",
       " 'ford ecosport ti',\n",
       " 'ford ecosport dv5',\n",
       " 'ford ecosport',\n",
       " 'figo petrol',\n",
       " 'figo diesel zxi',\n",
       " 'figo diesel titanium',\n",
       " 'figo diesel exi',\n",
       " 'figo diesel',\n",
       " 'etios liva',\n",
       " 'ertiga zdi',\n",
       " 'ertiga vdi',\n",
       " 'erlx euro',\n",
       " 'era plus',\n",
       " 'eon lite',\n",
       " 'eon era plus',\n",
       " 'eon era',\n",
       " 'elegance tsi at',\n",
       " 'elegance tsi',\n",
       " 'elegance tdi',\n",
       " 'ecosport ti vct',\n",
       " 'ecosport ti',\n",
       " 'ecosport dv5 mt',\n",
       " 'ecosport dv5',\n",
       " 'e250 cdi',\n",
       " 'dzire vxi',\n",
       " 'dzire vdi',\n",
       " 'dzire ldi',\n",
       " 'dv5 mt titanium',\n",
       " 'dv5 mt',\n",
       " 'duster 85ps diesel',\n",
       " 'duster 85ps',\n",
       " 'duster 110ps diesel',\n",
       " 'duster 110ps',\n",
       " 'dual tone',\n",
       " 'dtec vx',\n",
       " 'diesel zxi',\n",
       " 'diesel xv',\n",
       " 'diesel trendline',\n",
       " 'diesel titanium',\n",
       " 'diesel seater bs',\n",
       " 'diesel seater',\n",
       " 'diesel rxz',\n",
       " 'diesel rxl',\n",
       " 'diesel highline',\n",
       " 'diesel exi',\n",
       " 'diesel comfortline 2l',\n",
       " 'diesel comfortline',\n",
       " 'cvt vx',\n",
       " 'crysta zx',\n",
       " 'cruze ltz',\n",
       " 'creta sx plus',\n",
       " 'creta sx',\n",
       " 'creta crdi sx',\n",
       " 'creta crdi',\n",
       " 'crdi sx option',\n",
       " 'crdi sx',\n",
       " 'crdi sportz',\n",
       " 'crdi magna',\n",
       " 'crdi at sx',\n",
       " 'crdi at',\n",
       " 'cr at',\n",
       " 'corolla altis',\n",
       " 'comfortline 2l',\n",
       " 'class ml',\n",
       " 'class 220 cdi',\n",
       " 'class 220',\n",
       " 'class 2015 2017',\n",
       " 'class 2015',\n",
       " 'class 2009 2013',\n",
       " 'class 2009',\n",
       " 'class 200',\n",
       " 'civic 2006 2010',\n",
       " 'civic 2006',\n",
       " 'city zx',\n",
       " 'city vtec vx',\n",
       " 'city vtec sv',\n",
       " 'city vtec cvt',\n",
       " 'city vtec',\n",
       " 'city mt',\n",
       " 'city dtec vx',\n",
       " 'city dtec',\n",
       " 'city at',\n",
       " 'ciaz zdi',\n",
       " 'chevrolet cruze ltz',\n",
       " 'chevrolet cruze',\n",
       " 'chevrolet beat diesel',\n",
       " 'chevrolet beat',\n",
       " 'celerio vxi at',\n",
       " 'celerio vxi',\n",
       " 'cdi sport',\n",
       " 'cdi elegance',\n",
       " 'cdi avantgarde',\n",
       " 'bs iv',\n",
       " 'brio mt',\n",
       " 'brezza zdi plus',\n",
       " 'brezza zdi',\n",
       " 'bmw x5',\n",
       " 'bmw x1',\n",
       " 'bmw series 520d',\n",
       " 'bmw series 320d',\n",
       " 'bmw series 2013',\n",
       " 'bmw series 2003',\n",
       " 'bmw series',\n",
       " 'bhp premium plus',\n",
       " 'bhp premium',\n",
       " 'benz new class',\n",
       " 'benz new',\n",
       " 'benz gla class',\n",
       " 'benz gla',\n",
       " 'benz class ml',\n",
       " 'benz class 2015',\n",
       " 'benz class 2009',\n",
       " 'benz class',\n",
       " 'beat diesel',\n",
       " 'baleno zeta',\n",
       " 'baleno alpha',\n",
       " 'audi q7 tdi',\n",
       " 'audi q7',\n",
       " 'audi q5',\n",
       " 'audi q3',\n",
       " 'audi a6 2011',\n",
       " 'audi a6',\n",
       " 'audi a4 tdi',\n",
       " 'audi a4',\n",
       " 'at sx',\n",
       " 'at asta',\n",
       " 'asta option',\n",
       " 'asta crdi',\n",
       " 'amaze vx',\n",
       " 'amaze vtech',\n",
       " 'amaze dtech',\n",
       " 'alto lxi',\n",
       " 'alto k10 vxi',\n",
       " 'alto k10',\n",
       " 'alto 800 lxi',\n",
       " 'alto 800 2016',\n",
       " 'alto 800',\n",
       " 'a6 2011 2015',\n",
       " 'a6 2011',\n",
       " 'a4 tdi 177',\n",
       " 'a4 tdi',\n",
       " '85ps diesel rxl',\n",
       " '85ps diesel',\n",
       " '800 lxi',\n",
       " '800 2016 2019',\n",
       " '800 2016',\n",
       " '520d luxury line',\n",
       " '520d luxury',\n",
       " '4x4 at',\n",
       " '4x2 manual',\n",
       " '4x2 at',\n",
       " '350 cdi',\n",
       " '35 tdi quattro',\n",
       " '35 tdi',\n",
       " '320d luxury',\n",
       " '220 cdi',\n",
       " '2016 2019',\n",
       " '2015 tdi',\n",
       " '2015 2019',\n",
       " '2015 2017',\n",
       " '2013 e250 cdi',\n",
       " '2013 e250',\n",
       " '2013 2017',\n",
       " '2011 2015 tdi',\n",
       " '2011 2015',\n",
       " '2011 2014',\n",
       " '2010 mt',\n",
       " '2009 2013 e250',\n",
       " '2009 2013',\n",
       " '2006 2010 mt',\n",
       " '2006 2010',\n",
       " '2003 2012',\n",
       " '200 cdi',\n",
       " '177 bhp premium',\n",
       " '177 bhp',\n",
       " '110ps diesel rxz',\n",
       " '110ps diesel']"
      ]
     },
     "execution_count": 1764,
     "metadata": {},
     "output_type": "execute_result"
    }
   ],
   "source": [
    "sorted(d1,key=d1.get,reverse=True)"
   ]
  },
  {
   "cell_type": "code",
   "execution_count": 1765,
   "metadata": {},
   "outputs": [
    {
     "data": {
      "text/plain": [
       "<6019x500 sparse matrix of type '<class 'numpy.int64'>'\n",
       "\twith 19196 stored elements in Compressed Sparse Row format>"
      ]
     },
     "execution_count": 1765,
     "metadata": {},
     "output_type": "execute_result"
    }
   ],
   "source": [
    "x1"
   ]
  },
  {
   "cell_type": "code",
   "execution_count": 1766,
   "metadata": {},
   "outputs": [
    {
     "data": {
      "text/plain": [
       "'\\nfrom sklearn.feature_extraction.text import TfidfVectorizer\\nvect=TfidfVectorizer()\\nvect.fit(df.Name)\\nx1=vect.transform(df.Name)\\n'"
      ]
     },
     "execution_count": 1766,
     "metadata": {},
     "output_type": "execute_result"
    }
   ],
   "source": [
    "'''\n",
    "from sklearn.feature_extraction.text import TfidfVectorizer\n",
    "vect=TfidfVectorizer()\n",
    "vect.fit(df.Name)\n",
    "x1=vect.transform(df.Name)\n",
    "'''"
   ]
  },
  {
   "cell_type": "code",
   "execution_count": null,
   "metadata": {},
   "outputs": [],
   "source": []
  },
  {
   "cell_type": "code",
   "execution_count": null,
   "metadata": {},
   "outputs": [],
   "source": []
  },
  {
   "cell_type": "code",
   "execution_count": null,
   "metadata": {},
   "outputs": [],
   "source": []
  },
  {
   "cell_type": "code",
   "execution_count": null,
   "metadata": {},
   "outputs": [],
   "source": []
  },
  {
   "cell_type": "code",
   "execution_count": 1767,
   "metadata": {},
   "outputs": [
    {
     "data": {
      "text/plain": [
       "(6019, 12)"
      ]
     },
     "execution_count": 1767,
     "metadata": {},
     "output_type": "execute_result"
    }
   ],
   "source": [
    "df.shape"
   ]
  },
  {
   "cell_type": "code",
   "execution_count": 1768,
   "metadata": {},
   "outputs": [],
   "source": [
    "y=df.Price.values"
   ]
  },
  {
   "cell_type": "code",
   "execution_count": 1769,
   "metadata": {},
   "outputs": [],
   "source": [
    "#df.drop(['Price','Name','Year'],axis=1,inplace=True)\n",
    "df.drop(['Price','Name'],axis=1,inplace=True)"
   ]
  },
  {
   "cell_type": "code",
   "execution_count": 1770,
   "metadata": {},
   "outputs": [],
   "source": [
    "df=pd.get_dummies(df)"
   ]
  },
  {
   "cell_type": "code",
   "execution_count": 1771,
   "metadata": {},
   "outputs": [],
   "source": [
    "x2=df.values"
   ]
  },
  {
   "cell_type": "code",
   "execution_count": 1772,
   "metadata": {},
   "outputs": [
    {
     "data": {
      "text/plain": [
       "(6019, 28)"
      ]
     },
     "execution_count": 1772,
     "metadata": {},
     "output_type": "execute_result"
    }
   ],
   "source": [
    "x2.shape"
   ]
  },
  {
   "cell_type": "code",
   "execution_count": 1773,
   "metadata": {},
   "outputs": [
    {
     "data": {
      "text/plain": [
       "(6019, 500)"
      ]
     },
     "execution_count": 1773,
     "metadata": {},
     "output_type": "execute_result"
    }
   ],
   "source": [
    "x1.shape"
   ]
  },
  {
   "cell_type": "code",
   "execution_count": null,
   "metadata": {},
   "outputs": [],
   "source": []
  },
  {
   "cell_type": "code",
   "execution_count": 1774,
   "metadata": {},
   "outputs": [],
   "source": [
    "X=np.concatenate([x1.toarray(),x2],axis=1)"
   ]
  },
  {
   "cell_type": "code",
   "execution_count": 1775,
   "metadata": {},
   "outputs": [],
   "source": [
    "\n",
    "\n",
    "from sklearn.preprocessing import StandardScaler\n"
   ]
  },
  {
   "cell_type": "code",
   "execution_count": 1776,
   "metadata": {},
   "outputs": [],
   "source": [
    "sc=StandardScaler()"
   ]
  },
  {
   "cell_type": "code",
   "execution_count": 1777,
   "metadata": {},
   "outputs": [],
   "source": [
    "X=sc.fit_transform(X)"
   ]
  },
  {
   "cell_type": "code",
   "execution_count": 1778,
   "metadata": {},
   "outputs": [
    {
     "data": {
      "text/plain": [
       "(6019, 528)"
      ]
     },
     "execution_count": 1778,
     "metadata": {},
     "output_type": "execute_result"
    }
   ],
   "source": [
    "X.shape"
   ]
  },
  {
   "cell_type": "code",
   "execution_count": 1779,
   "metadata": {},
   "outputs": [],
   "source": [
    "from sklearn.model_selection import train_test_split"
   ]
  },
  {
   "cell_type": "code",
   "execution_count": 1780,
   "metadata": {},
   "outputs": [],
   "source": [
    "X_train,X_test,y_train,y_test=train_test_split(X,y,test_size=0.2)"
   ]
  },
  {
   "cell_type": "code",
   "execution_count": 1781,
   "metadata": {},
   "outputs": [],
   "source": [
    "\n",
    "import lightgbm as lgb"
   ]
  },
  {
   "cell_type": "code",
   "execution_count": 1782,
   "metadata": {},
   "outputs": [],
   "source": [
    "lg=lgb.LGBMRegressor()"
   ]
  },
  {
   "cell_type": "code",
   "execution_count": 1783,
   "metadata": {},
   "outputs": [
    {
     "data": {
      "text/plain": [
       "LGBMRegressor(boosting_type='gbdt', class_weight=None, colsample_bytree=1.0,\n",
       "              importance_type='split', learning_rate=0.1, max_depth=-1,\n",
       "              min_child_samples=20, min_child_weight=0.001, min_split_gain=0.0,\n",
       "              n_estimators=100, n_jobs=-1, num_leaves=31, objective=None,\n",
       "              random_state=None, reg_alpha=0.0, reg_lambda=0.0, silent=True,\n",
       "              subsample=1.0, subsample_for_bin=200000, subsample_freq=0)"
      ]
     },
     "execution_count": 1783,
     "metadata": {},
     "output_type": "execute_result"
    }
   ],
   "source": [
    "lg.fit(X_train,y_train)"
   ]
  },
  {
   "cell_type": "code",
   "execution_count": 1784,
   "metadata": {},
   "outputs": [],
   "source": [
    "y_pred=lg.predict(X_test)"
   ]
  },
  {
   "cell_type": "code",
   "execution_count": null,
   "metadata": {},
   "outputs": [],
   "source": []
  },
  {
   "cell_type": "code",
   "execution_count": 1785,
   "metadata": {},
   "outputs": [],
   "source": [
    "from keras.layers import Dense,LSTM,Dropout\n",
    "from keras.models import Sequential"
   ]
  },
  {
   "cell_type": "code",
   "execution_count": 1786,
   "metadata": {},
   "outputs": [],
   "source": [
    "model=Sequential()"
   ]
  },
  {
   "cell_type": "code",
   "execution_count": 1787,
   "metadata": {},
   "outputs": [],
   "source": [
    "model.add(Dense(256,input_dim= 528,activation='relu'))"
   ]
  },
  {
   "cell_type": "code",
   "execution_count": 1788,
   "metadata": {},
   "outputs": [],
   "source": [
    "model.add(Dense(64,activation='relu'))\n",
    "model.add(Dropout(0.2))\n",
    "model.add(Dense(32,activation='relu'))\n",
    "model.add(Dense(1))"
   ]
  },
  {
   "cell_type": "code",
   "execution_count": 1789,
   "metadata": {},
   "outputs": [],
   "source": [
    "model.compile(loss='mean_squared_error', optimizer='adam',metrics=['mse', 'mae', 'mape', 'cosine'])"
   ]
  },
  {
   "cell_type": "code",
   "execution_count": 1790,
   "metadata": {},
   "outputs": [
    {
     "name": "stdout",
     "output_type": "stream",
     "text": [
      "Train on 4815 samples, validate on 1204 samples\n",
      "Epoch 1/100\n",
      "4815/4815 [==============================] - 2s 476us/step - loss: 118.8881 - mean_squared_error: 118.8881 - mean_absolute_error: 6.1007 - mean_absolute_percentage_error: 81.7496 - cosine_proximity: -0.8613 - val_loss: 57.1079 - val_mean_squared_error: 57.1079 - val_mean_absolute_error: 3.5817 - val_mean_absolute_percentage_error: 46.2340 - val_cosine_proximity: -1.0000\n",
      "Epoch 2/100\n",
      "4815/4815 [==============================] - 0s 69us/step - loss: 40.9903 - mean_squared_error: 40.9903 - mean_absolute_error: 3.1791 - mean_absolute_percentage_error: 41.9257 - cosine_proximity: -1.0000 - val_loss: 37.0699 - val_mean_squared_error: 37.0699 - val_mean_absolute_error: 2.7044 - val_mean_absolute_percentage_error: 28.3108 - val_cosine_proximity: -1.0000\n",
      "Epoch 3/100\n",
      "4815/4815 [==============================] - 0s 60us/step - loss: 30.4860 - mean_squared_error: 30.4860 - mean_absolute_error: 2.6157 - mean_absolute_percentage_error: 29.7755 - cosine_proximity: -1.0000 - val_loss: 29.0553 - val_mean_squared_error: 29.0553 - val_mean_absolute_error: 2.3926 - val_mean_absolute_percentage_error: 24.2176 - val_cosine_proximity: -1.0000\n",
      "Epoch 4/100\n",
      "4815/4815 [==============================] - 0s 60us/step - loss: 23.9006 - mean_squared_error: 23.9006 - mean_absolute_error: 2.3268 - mean_absolute_percentage_error: 26.2681 - cosine_proximity: -1.0000 - val_loss: 23.0068 - val_mean_squared_error: 23.0068 - val_mean_absolute_error: 2.1912 - val_mean_absolute_percentage_error: 22.6862 - val_cosine_proximity: -1.0000\n",
      "Epoch 5/100\n",
      "4815/4815 [==============================] - 0s 67us/step - loss: 19.8535 - mean_squared_error: 19.8535 - mean_absolute_error: 2.1109 - mean_absolute_percentage_error: 23.9080 - cosine_proximity: -1.0000 - val_loss: 23.3455 - val_mean_squared_error: 23.3455 - val_mean_absolute_error: 2.1717 - val_mean_absolute_percentage_error: 21.3072 - val_cosine_proximity: -1.0000\n",
      "Epoch 6/100\n",
      "4815/4815 [==============================] - 0s 85us/step - loss: 18.4968 - mean_squared_error: 18.4968 - mean_absolute_error: 2.0298 - mean_absolute_percentage_error: 22.8637 - cosine_proximity: -1.0000 - val_loss: 19.7695 - val_mean_squared_error: 19.7695 - val_mean_absolute_error: 2.0250 - val_mean_absolute_percentage_error: 20.1703 - val_cosine_proximity: -1.0000\n",
      "Epoch 7/100\n",
      "4815/4815 [==============================] - 0s 95us/step - loss: 16.9552 - mean_squared_error: 16.9552 - mean_absolute_error: 1.9126 - mean_absolute_percentage_error: 22.1472 - cosine_proximity: -1.0000 - val_loss: 17.5440 - val_mean_squared_error: 17.5440 - val_mean_absolute_error: 1.8452 - val_mean_absolute_percentage_error: 19.2462 - val_cosine_proximity: -1.0000\n",
      "Epoch 8/100\n",
      "4815/4815 [==============================] - 0s 73us/step - loss: 16.2962 - mean_squared_error: 16.2962 - mean_absolute_error: 1.8244 - mean_absolute_percentage_error: 21.3558 - cosine_proximity: -1.0000 - val_loss: 15.9324 - val_mean_squared_error: 15.9324 - val_mean_absolute_error: 1.7623 - val_mean_absolute_percentage_error: 18.4905 - val_cosine_proximity: -1.0000\n",
      "Epoch 9/100\n",
      "4815/4815 [==============================] - 0s 63us/step - loss: 14.3731 - mean_squared_error: 14.3731 - mean_absolute_error: 1.7436 - mean_absolute_percentage_error: 20.8813 - cosine_proximity: -1.0000 - val_loss: 16.4914 - val_mean_squared_error: 16.4914 - val_mean_absolute_error: 1.7298 - val_mean_absolute_percentage_error: 18.4190 - val_cosine_proximity: -1.0000\n",
      "Epoch 10/100\n",
      "4815/4815 [==============================] - 0s 68us/step - loss: 14.6050 - mean_squared_error: 14.6050 - mean_absolute_error: 1.7181 - mean_absolute_percentage_error: 20.8339 - cosine_proximity: -1.0000 - val_loss: 15.5252 - val_mean_squared_error: 15.5252 - val_mean_absolute_error: 1.7419 - val_mean_absolute_percentage_error: 20.2213 - val_cosine_proximity: -1.0000\n",
      "Epoch 11/100\n",
      "4815/4815 [==============================] - 0s 62us/step - loss: 13.9830 - mean_squared_error: 13.9830 - mean_absolute_error: 1.6752 - mean_absolute_percentage_error: 19.7231 - cosine_proximity: -1.0000 - val_loss: 14.7538 - val_mean_squared_error: 14.7538 - val_mean_absolute_error: 1.6673 - val_mean_absolute_percentage_error: 19.0147 - val_cosine_proximity: -1.0000\n",
      "Epoch 12/100\n",
      "4815/4815 [==============================] - 0s 60us/step - loss: 13.7639 - mean_squared_error: 13.7639 - mean_absolute_error: 1.6398 - mean_absolute_percentage_error: 19.5938 - cosine_proximity: -1.0000 - val_loss: 15.0992 - val_mean_squared_error: 15.0992 - val_mean_absolute_error: 1.7294 - val_mean_absolute_percentage_error: 18.3712 - val_cosine_proximity: -1.0000\n",
      "Epoch 13/100\n",
      "4815/4815 [==============================] - 0s 59us/step - loss: 13.1865 - mean_squared_error: 13.1865 - mean_absolute_error: 1.6083 - mean_absolute_percentage_error: 18.9895 - cosine_proximity: -1.0000 - val_loss: 15.6076 - val_mean_squared_error: 15.6076 - val_mean_absolute_error: 1.7368 - val_mean_absolute_percentage_error: 17.7995 - val_cosine_proximity: -1.0000\n",
      "Epoch 14/100\n",
      "4815/4815 [==============================] - 0s 65us/step - loss: 13.0746 - mean_squared_error: 13.0746 - mean_absolute_error: 1.6154 - mean_absolute_percentage_error: 18.3286 - cosine_proximity: -1.0000 - val_loss: 13.8702 - val_mean_squared_error: 13.8702 - val_mean_absolute_error: 1.6323 - val_mean_absolute_percentage_error: 17.6989 - val_cosine_proximity: -1.0000\n",
      "Epoch 15/100\n",
      "4815/4815 [==============================] - 0s 62us/step - loss: 12.7963 - mean_squared_error: 12.7963 - mean_absolute_error: 1.6310 - mean_absolute_percentage_error: 19.3203 - cosine_proximity: -1.0000 - val_loss: 16.9918 - val_mean_squared_error: 16.9918 - val_mean_absolute_error: 1.7376 - val_mean_absolute_percentage_error: 19.5955 - val_cosine_proximity: -1.0000\n",
      "Epoch 16/100\n",
      "4815/4815 [==============================] - 0s 59us/step - loss: 12.7316 - mean_squared_error: 12.7316 - mean_absolute_error: 1.6128 - mean_absolute_percentage_error: 18.7400 - cosine_proximity: -1.0000 - val_loss: 14.3852 - val_mean_squared_error: 14.3852 - val_mean_absolute_error: 1.6476 - val_mean_absolute_percentage_error: 18.0774 - val_cosine_proximity: -1.0000\n",
      "Epoch 17/100\n",
      "4815/4815 [==============================] - 0s 59us/step - loss: 11.9034 - mean_squared_error: 11.9034 - mean_absolute_error: 1.5355 - mean_absolute_percentage_error: 18.2654 - cosine_proximity: -1.0000 - val_loss: 14.3195 - val_mean_squared_error: 14.3195 - val_mean_absolute_error: 1.7107 - val_mean_absolute_percentage_error: 18.4899 - val_cosine_proximity: -1.0000\n",
      "Epoch 18/100\n",
      "4815/4815 [==============================] - 0s 61us/step - loss: 12.0064 - mean_squared_error: 12.0064 - mean_absolute_error: 1.5296 - mean_absolute_percentage_error: 17.9526 - cosine_proximity: -1.0000 - val_loss: 12.8362 - val_mean_squared_error: 12.8362 - val_mean_absolute_error: 1.5893 - val_mean_absolute_percentage_error: 17.4970 - val_cosine_proximity: -1.0000\n",
      "Epoch 19/100\n",
      "4815/4815 [==============================] - 0s 93us/step - loss: 11.3476 - mean_squared_error: 11.3476 - mean_absolute_error: 1.4572 - mean_absolute_percentage_error: 17.2700 - cosine_proximity: -1.0000 - val_loss: 13.6598 - val_mean_squared_error: 13.6598 - val_mean_absolute_error: 1.6534 - val_mean_absolute_percentage_error: 17.4174 - val_cosine_proximity: -1.0000\n",
      "Epoch 20/100\n",
      "4815/4815 [==============================] - 0s 72us/step - loss: 12.1432 - mean_squared_error: 12.1432 - mean_absolute_error: 1.5246 - mean_absolute_percentage_error: 17.9073 - cosine_proximity: -1.0000 - val_loss: 15.3910 - val_mean_squared_error: 15.3910 - val_mean_absolute_error: 1.9889 - val_mean_absolute_percentage_error: 21.0819 - val_cosine_proximity: -1.0000\n",
      "Epoch 21/100\n",
      "4815/4815 [==============================] - 0s 64us/step - loss: 10.9742 - mean_squared_error: 10.9742 - mean_absolute_error: 1.5250 - mean_absolute_percentage_error: 17.7963 - cosine_proximity: -1.0000 - val_loss: 15.3807 - val_mean_squared_error: 15.3807 - val_mean_absolute_error: 1.9220 - val_mean_absolute_percentage_error: 19.8304 - val_cosine_proximity: -1.0000\n",
      "Epoch 22/100\n",
      "4815/4815 [==============================] - 0s 62us/step - loss: 10.4766 - mean_squared_error: 10.4766 - mean_absolute_error: 1.4466 - mean_absolute_percentage_error: 16.6459 - cosine_proximity: -1.0000 - val_loss: 12.7719 - val_mean_squared_error: 12.7719 - val_mean_absolute_error: 1.5859 - val_mean_absolute_percentage_error: 17.5126 - val_cosine_proximity: -1.0000\n",
      "Epoch 23/100\n",
      "4815/4815 [==============================] - 0s 66us/step - loss: 10.1824 - mean_squared_error: 10.1824 - mean_absolute_error: 1.4484 - mean_absolute_percentage_error: 16.8516 - cosine_proximity: -1.0000 - val_loss: 12.3969 - val_mean_squared_error: 12.3969 - val_mean_absolute_error: 1.7080 - val_mean_absolute_percentage_error: 18.4186 - val_cosine_proximity: -1.0000\n",
      "Epoch 24/100\n",
      "4815/4815 [==============================] - 0s 62us/step - loss: 10.2919 - mean_squared_error: 10.2919 - mean_absolute_error: 1.4131 - mean_absolute_percentage_error: 16.4725 - cosine_proximity: -1.0000 - val_loss: 12.3830 - val_mean_squared_error: 12.3830 - val_mean_absolute_error: 1.5648 - val_mean_absolute_percentage_error: 17.1340 - val_cosine_proximity: -1.0000\n",
      "Epoch 25/100\n",
      "4815/4815 [==============================] - 0s 62us/step - loss: 9.4368 - mean_squared_error: 9.4368 - mean_absolute_error: 1.3637 - mean_absolute_percentage_error: 16.2559 - cosine_proximity: -1.0000 - val_loss: 11.7343 - val_mean_squared_error: 11.7343 - val_mean_absolute_error: 1.5383 - val_mean_absolute_percentage_error: 17.1983 - val_cosine_proximity: -1.0000\n",
      "Epoch 26/100\n",
      "4815/4815 [==============================] - 0s 62us/step - loss: 9.1793 - mean_squared_error: 9.1793 - mean_absolute_error: 1.3279 - mean_absolute_percentage_error: 15.2621 - cosine_proximity: -1.0000 - val_loss: 13.3184 - val_mean_squared_error: 13.3184 - val_mean_absolute_error: 1.6446 - val_mean_absolute_percentage_error: 17.1521 - val_cosine_proximity: -1.0000\n",
      "Epoch 27/100\n",
      "4815/4815 [==============================] - 0s 64us/step - loss: 9.8490 - mean_squared_error: 9.8490 - mean_absolute_error: 1.4001 - mean_absolute_percentage_error: 16.6074 - cosine_proximity: -1.0000 - val_loss: 12.7476 - val_mean_squared_error: 12.7476 - val_mean_absolute_error: 1.7262 - val_mean_absolute_percentage_error: 17.9738 - val_cosine_proximity: -1.0000\n",
      "Epoch 28/100\n",
      "4815/4815 [==============================] - 0s 64us/step - loss: 10.9809 - mean_squared_error: 10.9809 - mean_absolute_error: 1.4438 - mean_absolute_percentage_error: 16.3921 - cosine_proximity: -1.0000 - val_loss: 13.4168 - val_mean_squared_error: 13.4168 - val_mean_absolute_error: 1.6675 - val_mean_absolute_percentage_error: 17.3650 - val_cosine_proximity: -1.0000\n",
      "Epoch 29/100\n",
      "4815/4815 [==============================] - 0s 74us/step - loss: 8.9248 - mean_squared_error: 8.9248 - mean_absolute_error: 1.3428 - mean_absolute_percentage_error: 15.3533 - cosine_proximity: -1.0000 - val_loss: 19.1321 - val_mean_squared_error: 19.1321 - val_mean_absolute_error: 2.1482 - val_mean_absolute_percentage_error: 20.3189 - val_cosine_proximity: -1.0000\n",
      "Epoch 30/100\n",
      "4815/4815 [==============================] - 0s 88us/step - loss: 9.5441 - mean_squared_error: 9.5441 - mean_absolute_error: 1.3418 - mean_absolute_percentage_error: 15.1488 - cosine_proximity: -1.0000 - val_loss: 14.3870 - val_mean_squared_error: 14.3870 - val_mean_absolute_error: 1.9213 - val_mean_absolute_percentage_error: 19.4220 - val_cosine_proximity: -1.0000\n",
      "Epoch 31/100\n",
      "4815/4815 [==============================] - 0s 64us/step - loss: 8.6362 - mean_squared_error: 8.6362 - mean_absolute_error: 1.3010 - mean_absolute_percentage_error: 14.7918 - cosine_proximity: -1.0000 - val_loss: 13.0636 - val_mean_squared_error: 13.0636 - val_mean_absolute_error: 1.6584 - val_mean_absolute_percentage_error: 16.9429 - val_cosine_proximity: -1.0000\n",
      "Epoch 32/100\n",
      "4815/4815 [==============================] - 0s 65us/step - loss: 8.4873 - mean_squared_error: 8.4873 - mean_absolute_error: 1.2859 - mean_absolute_percentage_error: 14.9691 - cosine_proximity: -1.0000 - val_loss: 13.6580 - val_mean_squared_error: 13.6580 - val_mean_absolute_error: 1.5776 - val_mean_absolute_percentage_error: 16.4133 - val_cosine_proximity: -1.0000\n",
      "Epoch 33/100\n",
      "4815/4815 [==============================] - 0s 64us/step - loss: 8.2041 - mean_squared_error: 8.2041 - mean_absolute_error: 1.2474 - mean_absolute_percentage_error: 14.7496 - cosine_proximity: -1.0000 - val_loss: 13.6300 - val_mean_squared_error: 13.6300 - val_mean_absolute_error: 1.8046 - val_mean_absolute_percentage_error: 18.4864 - val_cosine_proximity: -1.0000\n",
      "Epoch 34/100\n",
      "4815/4815 [==============================] - 0s 65us/step - loss: 9.2108 - mean_squared_error: 9.2108 - mean_absolute_error: 1.2814 - mean_absolute_percentage_error: 14.8545 - cosine_proximity: -1.0000 - val_loss: 13.2055 - val_mean_squared_error: 13.2055 - val_mean_absolute_error: 1.7764 - val_mean_absolute_percentage_error: 18.7460 - val_cosine_proximity: -1.0000\n",
      "Epoch 35/100\n",
      "4815/4815 [==============================] - 0s 60us/step - loss: 8.4178 - mean_squared_error: 8.4178 - mean_absolute_error: 1.2367 - mean_absolute_percentage_error: 14.1430 - cosine_proximity: -1.0000 - val_loss: 12.6503 - val_mean_squared_error: 12.6503 - val_mean_absolute_error: 1.7841 - val_mean_absolute_percentage_error: 18.7589 - val_cosine_proximity: -1.0000\n",
      "Epoch 36/100\n",
      "4815/4815 [==============================] - 0s 64us/step - loss: 7.8804 - mean_squared_error: 7.8804 - mean_absolute_error: 1.2301 - mean_absolute_percentage_error: 14.0084 - cosine_proximity: -1.0000 - val_loss: 12.3549 - val_mean_squared_error: 12.3549 - val_mean_absolute_error: 1.5679 - val_mean_absolute_percentage_error: 16.2881 - val_cosine_proximity: -1.0000\n",
      "Epoch 37/100\n",
      "4815/4815 [==============================] - 0s 62us/step - loss: 8.3321 - mean_squared_error: 8.3321 - mean_absolute_error: 1.2808 - mean_absolute_percentage_error: 14.7004 - cosine_proximity: -1.0000 - val_loss: 17.3851 - val_mean_squared_error: 17.3851 - val_mean_absolute_error: 2.0855 - val_mean_absolute_percentage_error: 19.9356 - val_cosine_proximity: -1.0000\n",
      "Epoch 38/100\n",
      "4815/4815 [==============================] - 0s 61us/step - loss: 8.0093 - mean_squared_error: 8.0093 - mean_absolute_error: 1.2636 - mean_absolute_percentage_error: 14.3945 - cosine_proximity: -1.0000 - val_loss: 12.3966 - val_mean_squared_error: 12.3966 - val_mean_absolute_error: 1.5464 - val_mean_absolute_percentage_error: 16.4245 - val_cosine_proximity: -1.0000\n",
      "Epoch 39/100\n",
      "4815/4815 [==============================] - 0s 63us/step - loss: 7.4131 - mean_squared_error: 7.4131 - mean_absolute_error: 1.2756 - mean_absolute_percentage_error: 14.7286 - cosine_proximity: -1.0000 - val_loss: 15.4381 - val_mean_squared_error: 15.4381 - val_mean_absolute_error: 1.9223 - val_mean_absolute_percentage_error: 19.5670 - val_cosine_proximity: -1.0000\n",
      "Epoch 40/100\n",
      "4815/4815 [==============================] - 0s 62us/step - loss: 7.9546 - mean_squared_error: 7.9546 - mean_absolute_error: 1.2236 - mean_absolute_percentage_error: 13.5080 - cosine_proximity: -1.0000 - val_loss: 15.8883 - val_mean_squared_error: 15.8883 - val_mean_absolute_error: 1.7568 - val_mean_absolute_percentage_error: 16.7832 - val_cosine_proximity: -1.0000\n",
      "Epoch 41/100\n",
      "4815/4815 [==============================] - 0s 60us/step - loss: 9.6126 - mean_squared_error: 9.6126 - mean_absolute_error: 1.3922 - mean_absolute_percentage_error: 15.7759 - cosine_proximity: -1.0000 - val_loss: 13.0506 - val_mean_squared_error: 13.0506 - val_mean_absolute_error: 1.9204 - val_mean_absolute_percentage_error: 19.9129 - val_cosine_proximity: -1.0000\n",
      "Epoch 42/100\n",
      "4815/4815 [==============================] - 0s 61us/step - loss: 7.1485 - mean_squared_error: 7.1485 - mean_absolute_error: 1.1935 - mean_absolute_percentage_error: 13.5889 - cosine_proximity: -1.0000 - val_loss: 15.4809 - val_mean_squared_error: 15.4809 - val_mean_absolute_error: 2.1054 - val_mean_absolute_percentage_error: 21.4268 - val_cosine_proximity: -1.0000\n",
      "Epoch 43/100\n"
     ]
    },
    {
     "name": "stdout",
     "output_type": "stream",
     "text": [
      "4815/4815 [==============================] - 0s 61us/step - loss: 7.0793 - mean_squared_error: 7.0793 - mean_absolute_error: 1.1649 - mean_absolute_percentage_error: 13.3526 - cosine_proximity: -1.0000 - val_loss: 15.8475 - val_mean_squared_error: 15.8475 - val_mean_absolute_error: 2.0429 - val_mean_absolute_percentage_error: 20.1303 - val_cosine_proximity: -1.0000\n",
      "Epoch 44/100\n",
      "4815/4815 [==============================] - 0s 59us/step - loss: 7.2677 - mean_squared_error: 7.2677 - mean_absolute_error: 1.1599 - mean_absolute_percentage_error: 13.1299 - cosine_proximity: -1.0000 - val_loss: 11.5592 - val_mean_squared_error: 11.5592 - val_mean_absolute_error: 1.5723 - val_mean_absolute_percentage_error: 15.8812 - val_cosine_proximity: -1.0000\n",
      "Epoch 45/100\n",
      "4815/4815 [==============================] - 0s 62us/step - loss: 6.6428 - mean_squared_error: 6.6428 - mean_absolute_error: 1.1781 - mean_absolute_percentage_error: 13.5882 - cosine_proximity: -1.0000 - val_loss: 14.7575 - val_mean_squared_error: 14.7575 - val_mean_absolute_error: 1.9435 - val_mean_absolute_percentage_error: 19.2715 - val_cosine_proximity: -1.0000\n",
      "Epoch 46/100\n",
      "4815/4815 [==============================] - 0s 62us/step - loss: 7.3739 - mean_squared_error: 7.3739 - mean_absolute_error: 1.1830 - mean_absolute_percentage_error: 14.0045 - cosine_proximity: -1.0000 - val_loss: 13.8511 - val_mean_squared_error: 13.8511 - val_mean_absolute_error: 2.0100 - val_mean_absolute_percentage_error: 21.0282 - val_cosine_proximity: -1.0000\n",
      "Epoch 47/100\n",
      "4815/4815 [==============================] - 0s 60us/step - loss: 7.2986 - mean_squared_error: 7.2986 - mean_absolute_error: 1.1360 - mean_absolute_percentage_error: 12.8879 - cosine_proximity: -1.0000 - val_loss: 14.1121 - val_mean_squared_error: 14.1121 - val_mean_absolute_error: 1.9276 - val_mean_absolute_percentage_error: 19.4716 - val_cosine_proximity: -1.0000\n",
      "Epoch 48/100\n",
      "4815/4815 [==============================] - 0s 59us/step - loss: 7.5182 - mean_squared_error: 7.5182 - mean_absolute_error: 1.1398 - mean_absolute_percentage_error: 12.7323 - cosine_proximity: -1.0000 - val_loss: 11.7571 - val_mean_squared_error: 11.7571 - val_mean_absolute_error: 1.5540 - val_mean_absolute_percentage_error: 16.0733 - val_cosine_proximity: -1.0000\n",
      "Epoch 49/100\n",
      "4815/4815 [==============================] - 0s 61us/step - loss: 6.9615 - mean_squared_error: 6.9615 - mean_absolute_error: 1.2070 - mean_absolute_percentage_error: 14.1292 - cosine_proximity: -1.0000 - val_loss: 14.9515 - val_mean_squared_error: 14.9515 - val_mean_absolute_error: 1.9785 - val_mean_absolute_percentage_error: 20.0185 - val_cosine_proximity: -1.0000\n",
      "Epoch 50/100\n",
      "4815/4815 [==============================] - 0s 59us/step - loss: 6.8039 - mean_squared_error: 6.8039 - mean_absolute_error: 1.1303 - mean_absolute_percentage_error: 13.1313 - cosine_proximity: -1.0000 - val_loss: 15.8372 - val_mean_squared_error: 15.8372 - val_mean_absolute_error: 2.0010 - val_mean_absolute_percentage_error: 19.4907 - val_cosine_proximity: -1.0000\n",
      "Epoch 51/100\n",
      "4815/4815 [==============================] - 0s 61us/step - loss: 6.4959 - mean_squared_error: 6.4959 - mean_absolute_error: 1.1035 - mean_absolute_percentage_error: 12.5334 - cosine_proximity: -1.0000 - val_loss: 13.1722 - val_mean_squared_error: 13.1722 - val_mean_absolute_error: 1.8477 - val_mean_absolute_percentage_error: 18.6405 - val_cosine_proximity: -1.0000\n",
      "Epoch 52/100\n",
      "4815/4815 [==============================] - 0s 59us/step - loss: 6.4184 - mean_squared_error: 6.4184 - mean_absolute_error: 1.1057 - mean_absolute_percentage_error: 12.7811 - cosine_proximity: -1.0000 - val_loss: 17.1082 - val_mean_squared_error: 17.1082 - val_mean_absolute_error: 2.1421 - val_mean_absolute_percentage_error: 20.8334 - val_cosine_proximity: -1.0000\n",
      "Epoch 53/100\n",
      "4815/4815 [==============================] - 0s 61us/step - loss: 6.1134 - mean_squared_error: 6.1134 - mean_absolute_error: 1.1271 - mean_absolute_percentage_error: 12.8319 - cosine_proximity: -1.0000 - val_loss: 14.4244 - val_mean_squared_error: 14.4244 - val_mean_absolute_error: 1.9571 - val_mean_absolute_percentage_error: 19.8607 - val_cosine_proximity: -1.0000\n",
      "Epoch 54/100\n",
      "4815/4815 [==============================] - 0s 63us/step - loss: 6.0097 - mean_squared_error: 6.0097 - mean_absolute_error: 1.0833 - mean_absolute_percentage_error: 12.3286 - cosine_proximity: -1.0000 - val_loss: 19.5427 - val_mean_squared_error: 19.5427 - val_mean_absolute_error: 2.2697 - val_mean_absolute_percentage_error: 21.7119 - val_cosine_proximity: -1.0000\n",
      "Epoch 55/100\n",
      "4815/4815 [==============================] - 0s 61us/step - loss: 6.0503 - mean_squared_error: 6.0503 - mean_absolute_error: 1.0994 - mean_absolute_percentage_error: 12.7345 - cosine_proximity: -1.0000 - val_loss: 14.1787 - val_mean_squared_error: 14.1787 - val_mean_absolute_error: 1.8770 - val_mean_absolute_percentage_error: 18.8343 - val_cosine_proximity: -1.0000\n",
      "Epoch 56/100\n",
      "4815/4815 [==============================] - 0s 61us/step - loss: 6.0503 - mean_squared_error: 6.0503 - mean_absolute_error: 1.0545 - mean_absolute_percentage_error: 12.3923 - cosine_proximity: -1.0000 - val_loss: 13.4576 - val_mean_squared_error: 13.4576 - val_mean_absolute_error: 1.8494 - val_mean_absolute_percentage_error: 18.5913 - val_cosine_proximity: -1.0000\n",
      "Epoch 57/100\n",
      "4815/4815 [==============================] - 0s 59us/step - loss: 5.5125 - mean_squared_error: 5.5125 - mean_absolute_error: 1.0521 - mean_absolute_percentage_error: 12.2714 - cosine_proximity: -1.0000 - val_loss: 16.2081 - val_mean_squared_error: 16.2081 - val_mean_absolute_error: 2.0666 - val_mean_absolute_percentage_error: 20.4885 - val_cosine_proximity: -1.0000\n",
      "Epoch 58/100\n",
      "4815/4815 [==============================] - 0s 62us/step - loss: 6.0828 - mean_squared_error: 6.0828 - mean_absolute_error: 1.0877 - mean_absolute_percentage_error: 12.3773 - cosine_proximity: -1.0000 - val_loss: 17.3937 - val_mean_squared_error: 17.3937 - val_mean_absolute_error: 2.2073 - val_mean_absolute_percentage_error: 21.6267 - val_cosine_proximity: -1.0000\n",
      "Epoch 59/100\n",
      "4815/4815 [==============================] - 0s 59us/step - loss: 7.0659 - mean_squared_error: 7.0659 - mean_absolute_error: 1.1838 - mean_absolute_percentage_error: 13.0166 - cosine_proximity: -1.0000 - val_loss: 14.5193 - val_mean_squared_error: 14.5193 - val_mean_absolute_error: 1.8490 - val_mean_absolute_percentage_error: 18.5539 - val_cosine_proximity: -1.0000\n",
      "Epoch 60/100\n",
      "4815/4815 [==============================] - ETA: 0s - loss: 6.2267 - mean_squared_error: 6.2267 - mean_absolute_error: 1.0908 - mean_absolute_percentage_error: 12.5773 - cosine_proximity: -1.00 - 0s 62us/step - loss: 5.6972 - mean_squared_error: 5.6972 - mean_absolute_error: 1.0623 - mean_absolute_percentage_error: 12.3980 - cosine_proximity: -1.0000 - val_loss: 15.3948 - val_mean_squared_error: 15.3948 - val_mean_absolute_error: 1.9830 - val_mean_absolute_percentage_error: 20.2940 - val_cosine_proximity: -1.0000\n",
      "Epoch 61/100\n",
      "4815/4815 [==============================] - 0s 61us/step - loss: 5.5996 - mean_squared_error: 5.5996 - mean_absolute_error: 1.0846 - mean_absolute_percentage_error: 12.3892 - cosine_proximity: -1.0000 - val_loss: 12.8991 - val_mean_squared_error: 12.8991 - val_mean_absolute_error: 1.7885 - val_mean_absolute_percentage_error: 17.7793 - val_cosine_proximity: -1.0000\n",
      "Epoch 62/100\n",
      "4815/4815 [==============================] - 0s 62us/step - loss: 5.3832 - mean_squared_error: 5.3832 - mean_absolute_error: 1.0427 - mean_absolute_percentage_error: 12.3375 - cosine_proximity: -1.0000 - val_loss: 17.0165 - val_mean_squared_error: 17.0165 - val_mean_absolute_error: 2.1494 - val_mean_absolute_percentage_error: 21.1524 - val_cosine_proximity: -1.0000\n",
      "Epoch 63/100\n",
      "4815/4815 [==============================] - 0s 61us/step - loss: 6.6522 - mean_squared_error: 6.6522 - mean_absolute_error: 1.1275 - mean_absolute_percentage_error: 12.6987 - cosine_proximity: -1.0000 - val_loss: 12.9025 - val_mean_squared_error: 12.9025 - val_mean_absolute_error: 1.8191 - val_mean_absolute_percentage_error: 19.3749 - val_cosine_proximity: -1.0000\n",
      "Epoch 64/100\n",
      "4815/4815 [==============================] - 0s 59us/step - loss: 4.9944 - mean_squared_error: 4.9944 - mean_absolute_error: 1.0449 - mean_absolute_percentage_error: 12.4213 - cosine_proximity: -1.0000 - val_loss: 14.8388 - val_mean_squared_error: 14.8388 - val_mean_absolute_error: 1.9463 - val_mean_absolute_percentage_error: 19.1990 - val_cosine_proximity: -1.0000\n",
      "Epoch 65/100\n",
      "4815/4815 [==============================] - 0s 59us/step - loss: 5.2622 - mean_squared_error: 5.2622 - mean_absolute_error: 1.0013 - mean_absolute_percentage_error: 11.8312 - cosine_proximity: -1.0000 - val_loss: 15.7288 - val_mean_squared_error: 15.7288 - val_mean_absolute_error: 2.0420 - val_mean_absolute_percentage_error: 20.6504 - val_cosine_proximity: -1.0000\n",
      "Epoch 66/100\n",
      "4815/4815 [==============================] - 0s 59us/step - loss: 4.8891 - mean_squared_error: 4.8891 - mean_absolute_error: 0.9967 - mean_absolute_percentage_error: 11.6271 - cosine_proximity: -1.0000 - val_loss: 14.7642 - val_mean_squared_error: 14.7642 - val_mean_absolute_error: 1.8594 - val_mean_absolute_percentage_error: 18.7187 - val_cosine_proximity: -1.0000\n",
      "Epoch 67/100\n",
      "4815/4815 [==============================] - 0s 61us/step - loss: 5.1309 - mean_squared_error: 5.1309 - mean_absolute_error: 1.0129 - mean_absolute_percentage_error: 11.4158 - cosine_proximity: -1.0000 - val_loss: 15.8551 - val_mean_squared_error: 15.8551 - val_mean_absolute_error: 2.0635 - val_mean_absolute_percentage_error: 19.8570 - val_cosine_proximity: -1.0000\n",
      "Epoch 68/100\n",
      "4815/4815 [==============================] - 0s 61us/step - loss: 5.1879 - mean_squared_error: 5.1879 - mean_absolute_error: 0.9919 - mean_absolute_percentage_error: 11.6258 - cosine_proximity: -1.0000 - val_loss: 12.8077 - val_mean_squared_error: 12.8077 - val_mean_absolute_error: 1.7664 - val_mean_absolute_percentage_error: 18.1927 - val_cosine_proximity: -1.0000\n",
      "Epoch 69/100\n",
      "4815/4815 [==============================] - 0s 59us/step - loss: 5.0721 - mean_squared_error: 5.0721 - mean_absolute_error: 1.0010 - mean_absolute_percentage_error: 11.5882 - cosine_proximity: -1.0000 - val_loss: 14.8844 - val_mean_squared_error: 14.8844 - val_mean_absolute_error: 1.9688 - val_mean_absolute_percentage_error: 19.4168 - val_cosine_proximity: -1.0000\n",
      "Epoch 70/100\n",
      "4815/4815 [==============================] - 0s 60us/step - loss: 5.2338 - mean_squared_error: 5.2338 - mean_absolute_error: 1.0044 - mean_absolute_percentage_error: 11.6181 - cosine_proximity: -1.0000 - val_loss: 16.7525 - val_mean_squared_error: 16.7525 - val_mean_absolute_error: 2.0696 - val_mean_absolute_percentage_error: 20.4827 - val_cosine_proximity: -1.0000\n",
      "Epoch 71/100\n",
      "4815/4815 [==============================] - 0s 60us/step - loss: 4.9903 - mean_squared_error: 4.9903 - mean_absolute_error: 1.0216 - mean_absolute_percentage_error: 12.0676 - cosine_proximity: -1.0000 - val_loss: 15.6565 - val_mean_squared_error: 15.6565 - val_mean_absolute_error: 1.9902 - val_mean_absolute_percentage_error: 19.3052 - val_cosine_proximity: -1.0000\n",
      "Epoch 72/100\n",
      "4815/4815 [==============================] - 0s 59us/step - loss: 5.5033 - mean_squared_error: 5.5033 - mean_absolute_error: 1.0299 - mean_absolute_percentage_error: 11.8556 - cosine_proximity: -1.0000 - val_loss: 13.9646 - val_mean_squared_error: 13.9646 - val_mean_absolute_error: 1.7815 - val_mean_absolute_percentage_error: 17.5096 - val_cosine_proximity: -1.0000\n",
      "Epoch 73/100\n",
      "4815/4815 [==============================] - 0s 59us/step - loss: 5.0279 - mean_squared_error: 5.0279 - mean_absolute_error: 0.9631 - mean_absolute_percentage_error: 11.2214 - cosine_proximity: -1.0000 - val_loss: 14.1754 - val_mean_squared_error: 14.1754 - val_mean_absolute_error: 1.8744 - val_mean_absolute_percentage_error: 18.6926 - val_cosine_proximity: -1.0000\n",
      "Epoch 74/100\n",
      "4815/4815 [==============================] - 0s 62us/step - loss: 4.9560 - mean_squared_error: 4.9560 - mean_absolute_error: 0.9825 - mean_absolute_percentage_error: 11.6030 - cosine_proximity: -1.0000 - val_loss: 13.6084 - val_mean_squared_error: 13.6084 - val_mean_absolute_error: 1.9210 - val_mean_absolute_percentage_error: 20.0320 - val_cosine_proximity: -1.0000\n",
      "Epoch 75/100\n",
      "4815/4815 [==============================] - 0s 58us/step - loss: 5.1249 - mean_squared_error: 5.1249 - mean_absolute_error: 1.0318 - mean_absolute_percentage_error: 11.7588 - cosine_proximity: -1.0000 - val_loss: 14.6306 - val_mean_squared_error: 14.6306 - val_mean_absolute_error: 1.9254 - val_mean_absolute_percentage_error: 18.9193 - val_cosine_proximity: -1.0000\n",
      "Epoch 76/100\n",
      "4815/4815 [==============================] - 0s 62us/step - loss: 5.0673 - mean_squared_error: 5.0673 - mean_absolute_error: 1.0156 - mean_absolute_percentage_error: 11.5130 - cosine_proximity: -1.0000 - val_loss: 14.9096 - val_mean_squared_error: 14.9096 - val_mean_absolute_error: 1.8100 - val_mean_absolute_percentage_error: 17.6165 - val_cosine_proximity: -1.0000\n",
      "Epoch 77/100\n",
      "4815/4815 [==============================] - 0s 74us/step - loss: 5.6883 - mean_squared_error: 5.6883 - mean_absolute_error: 1.0197 - mean_absolute_percentage_error: 11.8168 - cosine_proximity: -1.0000 - val_loss: 14.6470 - val_mean_squared_error: 14.6470 - val_mean_absolute_error: 1.7951 - val_mean_absolute_percentage_error: 17.8217 - val_cosine_proximity: -1.0000\n",
      "Epoch 78/100\n",
      "4815/4815 [==============================] - 0s 60us/step - loss: 4.6082 - mean_squared_error: 4.6082 - mean_absolute_error: 0.9931 - mean_absolute_percentage_error: 11.6935 - cosine_proximity: -1.0000 - val_loss: 14.3418 - val_mean_squared_error: 14.3418 - val_mean_absolute_error: 1.9280 - val_mean_absolute_percentage_error: 19.2036 - val_cosine_proximity: -1.0000\n",
      "Epoch 79/100\n",
      "4815/4815 [==============================] - 0s 60us/step - loss: 4.7060 - mean_squared_error: 4.7060 - mean_absolute_error: 0.9456 - mean_absolute_percentage_error: 11.1768 - cosine_proximity: -1.0000 - val_loss: 16.5479 - val_mean_squared_error: 16.5479 - val_mean_absolute_error: 2.0319 - val_mean_absolute_percentage_error: 19.5063 - val_cosine_proximity: -1.0000\n",
      "Epoch 80/100\n",
      "4815/4815 [==============================] - 0s 61us/step - loss: 4.9226 - mean_squared_error: 4.9226 - mean_absolute_error: 0.9861 - mean_absolute_percentage_error: 11.1944 - cosine_proximity: -1.0000 - val_loss: 19.3865 - val_mean_squared_error: 19.3865 - val_mean_absolute_error: 2.1970 - val_mean_absolute_percentage_error: 19.9191 - val_cosine_proximity: -1.0000\n",
      "Epoch 81/100\n",
      "4815/4815 [==============================] - 0s 60us/step - loss: 4.5360 - mean_squared_error: 4.5360 - mean_absolute_error: 0.9841 - mean_absolute_percentage_error: 11.9513 - cosine_proximity: -1.0000 - val_loss: 14.8976 - val_mean_squared_error: 14.8976 - val_mean_absolute_error: 1.8613 - val_mean_absolute_percentage_error: 18.3682 - val_cosine_proximity: -1.0000\n",
      "Epoch 82/100\n",
      "4815/4815 [==============================] - 0s 60us/step - loss: 4.1764 - mean_squared_error: 4.1764 - mean_absolute_error: 0.9534 - mean_absolute_percentage_error: 11.4261 - cosine_proximity: -1.0000 - val_loss: 15.7457 - val_mean_squared_error: 15.7457 - val_mean_absolute_error: 2.0496 - val_mean_absolute_percentage_error: 19.9017 - val_cosine_proximity: -1.0000\n",
      "Epoch 83/100\n",
      "4815/4815 [==============================] - 0s 60us/step - loss: 3.7949 - mean_squared_error: 3.7949 - mean_absolute_error: 0.8991 - mean_absolute_percentage_error: 11.0106 - cosine_proximity: -1.0000 - val_loss: 16.2981 - val_mean_squared_error: 16.2981 - val_mean_absolute_error: 2.1565 - val_mean_absolute_percentage_error: 21.4007 - val_cosine_proximity: -1.0000\n",
      "Epoch 84/100\n",
      "4815/4815 [==============================] - 0s 62us/step - loss: 3.9465 - mean_squared_error: 3.9465 - mean_absolute_error: 0.9007 - mean_absolute_percentage_error: 10.9173 - cosine_proximity: -1.0000 - val_loss: 15.1948 - val_mean_squared_error: 15.1948 - val_mean_absolute_error: 1.9286 - val_mean_absolute_percentage_error: 19.2821 - val_cosine_proximity: -1.0000\n",
      "Epoch 85/100\n"
     ]
    },
    {
     "name": "stdout",
     "output_type": "stream",
     "text": [
      "4815/4815 [==============================] - 0s 60us/step - loss: 4.0640 - mean_squared_error: 4.0640 - mean_absolute_error: 0.9288 - mean_absolute_percentage_error: 11.0772 - cosine_proximity: -1.0000 - val_loss: 16.3233 - val_mean_squared_error: 16.3233 - val_mean_absolute_error: 2.0338 - val_mean_absolute_percentage_error: 19.5334 - val_cosine_proximity: -1.0000\n",
      "Epoch 86/100\n",
      "4815/4815 [==============================] - 0s 61us/step - loss: 3.8546 - mean_squared_error: 3.8546 - mean_absolute_error: 0.8675 - mean_absolute_percentage_error: 10.4917 - cosine_proximity: -1.0000 - val_loss: 15.6041 - val_mean_squared_error: 15.6041 - val_mean_absolute_error: 1.9445 - val_mean_absolute_percentage_error: 18.9022 - val_cosine_proximity: -1.0000\n",
      "Epoch 87/100\n",
      "4815/4815 [==============================] - 0s 60us/step - loss: 3.7234 - mean_squared_error: 3.7234 - mean_absolute_error: 0.8924 - mean_absolute_percentage_error: 10.5986 - cosine_proximity: -1.0000 - val_loss: 15.2231 - val_mean_squared_error: 15.2231 - val_mean_absolute_error: 1.9577 - val_mean_absolute_percentage_error: 19.1466 - val_cosine_proximity: -1.0000\n",
      "Epoch 88/100\n",
      "4815/4815 [==============================] - 0s 61us/step - loss: 4.1624 - mean_squared_error: 4.1624 - mean_absolute_error: 0.9166 - mean_absolute_percentage_error: 10.8466 - cosine_proximity: -1.0000 - val_loss: 14.4749 - val_mean_squared_error: 14.4749 - val_mean_absolute_error: 1.8302 - val_mean_absolute_percentage_error: 17.9610 - val_cosine_proximity: -1.0000\n",
      "Epoch 89/100\n",
      "4815/4815 [==============================] - 0s 60us/step - loss: 3.5197 - mean_squared_error: 3.5197 - mean_absolute_error: 0.8625 - mean_absolute_percentage_error: 10.3389 - cosine_proximity: -1.0000 - val_loss: 16.6138 - val_mean_squared_error: 16.6138 - val_mean_absolute_error: 1.9633 - val_mean_absolute_percentage_error: 18.9653 - val_cosine_proximity: -1.0000\n",
      "Epoch 90/100\n",
      "4815/4815 [==============================] - 0s 61us/step - loss: 3.5350 - mean_squared_error: 3.5350 - mean_absolute_error: 0.8439 - mean_absolute_percentage_error: 10.3847 - cosine_proximity: -1.0000 - val_loss: 15.9525 - val_mean_squared_error: 15.9525 - val_mean_absolute_error: 2.0174 - val_mean_absolute_percentage_error: 19.3736 - val_cosine_proximity: -1.0000\n",
      "Epoch 91/100\n",
      "4815/4815 [==============================] - 0s 59us/step - loss: 4.0054 - mean_squared_error: 4.0054 - mean_absolute_error: 0.8983 - mean_absolute_percentage_error: 10.7904 - cosine_proximity: -1.0000 - val_loss: 14.9417 - val_mean_squared_error: 14.9417 - val_mean_absolute_error: 1.8471 - val_mean_absolute_percentage_error: 18.0988 - val_cosine_proximity: -1.0000\n",
      "Epoch 92/100\n",
      "4815/4815 [==============================] - 0s 60us/step - loss: 3.5502 - mean_squared_error: 3.5502 - mean_absolute_error: 0.8648 - mean_absolute_percentage_error: 10.5755 - cosine_proximity: -1.0000 - val_loss: 17.6366 - val_mean_squared_error: 17.6366 - val_mean_absolute_error: 2.1438 - val_mean_absolute_percentage_error: 20.2441 - val_cosine_proximity: -1.0000\n",
      "Epoch 93/100\n",
      "4815/4815 [==============================] - 0s 60us/step - loss: 4.1533 - mean_squared_error: 4.1533 - mean_absolute_error: 0.9229 - mean_absolute_percentage_error: 10.8648 - cosine_proximity: -1.0000 - val_loss: 14.0274 - val_mean_squared_error: 14.0274 - val_mean_absolute_error: 1.8436 - val_mean_absolute_percentage_error: 18.5870 - val_cosine_proximity: -1.0000\n",
      "Epoch 94/100\n",
      "4815/4815 [==============================] - 0s 60us/step - loss: 3.4430 - mean_squared_error: 3.4430 - mean_absolute_error: 0.8799 - mean_absolute_percentage_error: 10.6855 - cosine_proximity: -1.0000 - val_loss: 19.6443 - val_mean_squared_error: 19.6443 - val_mean_absolute_error: 2.2362 - val_mean_absolute_percentage_error: 20.8762 - val_cosine_proximity: -1.0000\n",
      "Epoch 95/100\n",
      "4815/4815 [==============================] - 0s 62us/step - loss: 4.3025 - mean_squared_error: 4.3025 - mean_absolute_error: 0.9232 - mean_absolute_percentage_error: 10.6902 - cosine_proximity: -1.0000 - val_loss: 13.5577 - val_mean_squared_error: 13.5577 - val_mean_absolute_error: 1.7004 - val_mean_absolute_percentage_error: 17.0412 - val_cosine_proximity: -1.0000\n",
      "Epoch 96/100\n",
      "4815/4815 [==============================] - 0s 61us/step - loss: 4.9550 - mean_squared_error: 4.9550 - mean_absolute_error: 0.9893 - mean_absolute_percentage_error: 11.4239 - cosine_proximity: -1.0000 - val_loss: 15.5407 - val_mean_squared_error: 15.5407 - val_mean_absolute_error: 1.8755 - val_mean_absolute_percentage_error: 18.5155 - val_cosine_proximity: -1.0000\n",
      "Epoch 97/100\n",
      "4815/4815 [==============================] - 0s 63us/step - loss: 3.3926 - mean_squared_error: 3.3926 - mean_absolute_error: 0.8672 - mean_absolute_percentage_error: 10.5595 - cosine_proximity: -1.0000 - val_loss: 13.3280 - val_mean_squared_error: 13.3280 - val_mean_absolute_error: 1.7740 - val_mean_absolute_percentage_error: 17.7142 - val_cosine_proximity: -1.0000\n",
      "Epoch 98/100\n",
      "4815/4815 [==============================] - 0s 60us/step - loss: 4.3938 - mean_squared_error: 4.3938 - mean_absolute_error: 0.9279 - mean_absolute_percentage_error: 10.6180 - cosine_proximity: -1.0000 - val_loss: 17.9481 - val_mean_squared_error: 17.9481 - val_mean_absolute_error: 2.1905 - val_mean_absolute_percentage_error: 20.8866 - val_cosine_proximity: -1.0000\n",
      "Epoch 99/100\n",
      "4815/4815 [==============================] - 0s 59us/step - loss: 4.4954 - mean_squared_error: 4.4954 - mean_absolute_error: 0.9450 - mean_absolute_percentage_error: 10.8124 - cosine_proximity: -1.0000 - val_loss: 17.9225 - val_mean_squared_error: 17.9225 - val_mean_absolute_error: 2.1320 - val_mean_absolute_percentage_error: 20.1657 - val_cosine_proximity: -1.0000\n",
      "Epoch 100/100\n",
      "4815/4815 [==============================] - 0s 60us/step - loss: 3.8457 - mean_squared_error: 3.8457 - mean_absolute_error: 0.8753 - mean_absolute_percentage_error: 10.4802 - cosine_proximity: -1.0000 - val_loss: 16.1470 - val_mean_squared_error: 16.1470 - val_mean_absolute_error: 1.9296 - val_mean_absolute_percentage_error: 18.3140 - val_cosine_proximity: -1.0000\n"
     ]
    }
   ],
   "source": [
    "with tf.device('/GPU:0'):\n",
    "    model.fit(X_train,y_train,epochs=100,batch_size=128,validation_data=[X_test,y_test])"
   ]
  },
  {
   "cell_type": "code",
   "execution_count": 1791,
   "metadata": {},
   "outputs": [],
   "source": [
    "y_pr=model.predict(X_test)"
   ]
  },
  {
   "cell_type": "code",
   "execution_count": 1792,
   "metadata": {},
   "outputs": [
    {
     "data": {
      "text/plain": [
       "16.146960525595937"
      ]
     },
     "execution_count": 1792,
     "metadata": {},
     "output_type": "execute_result"
    }
   ],
   "source": [
    "mean_squared_error(y_pr,y_test)"
   ]
  },
  {
   "cell_type": "code",
   "execution_count": 1793,
   "metadata": {},
   "outputs": [
    {
     "data": {
      "text/plain": [
       "0.909954714384981"
      ]
     },
     "execution_count": 1793,
     "metadata": {},
     "output_type": "execute_result"
    }
   ],
   "source": [
    "r2_score(y_pred,y_test)"
   ]
  },
  {
   "cell_type": "code",
   "execution_count": null,
   "metadata": {},
   "outputs": [],
   "source": []
  },
  {
   "cell_type": "code",
   "execution_count": null,
   "metadata": {},
   "outputs": [],
   "source": []
  },
  {
   "cell_type": "code",
   "execution_count": 1794,
   "metadata": {},
   "outputs": [],
   "source": [
    "import xgboost as xgb"
   ]
  },
  {
   "cell_type": "code",
   "execution_count": 1795,
   "metadata": {},
   "outputs": [],
   "source": [
    "xg=xgb.XGBRegressor()"
   ]
  },
  {
   "cell_type": "code",
   "execution_count": 1796,
   "metadata": {},
   "outputs": [
    {
     "data": {
      "text/plain": [
       "XGBRegressor(base_score=0.5, booster='gbtree', colsample_bylevel=1,\n",
       "             colsample_bytree=1, gamma=0, learning_rate=0.1, max_delta_step=0,\n",
       "             max_depth=3, min_child_weight=1, missing=None, n_estimators=100,\n",
       "             n_jobs=1, nthread=None, objective='reg:linear', random_state=0,\n",
       "             reg_alpha=0, reg_lambda=1, scale_pos_weight=1, seed=None,\n",
       "             silent=True, subsample=1)"
      ]
     },
     "execution_count": 1796,
     "metadata": {},
     "output_type": "execute_result"
    }
   ],
   "source": [
    "xg.fit(X_train,y_train)"
   ]
  },
  {
   "cell_type": "code",
   "execution_count": 1797,
   "metadata": {},
   "outputs": [],
   "source": [
    "y_pr2=xg.predict(X_test)"
   ]
  },
  {
   "cell_type": "code",
   "execution_count": 1798,
   "metadata": {},
   "outputs": [
    {
     "data": {
      "text/plain": [
       "0.8686386461859421"
      ]
     },
     "execution_count": 1798,
     "metadata": {},
     "output_type": "execute_result"
    }
   ],
   "source": [
    "r2_score(y_pr2,y_test)"
   ]
  },
  {
   "cell_type": "code",
   "execution_count": null,
   "metadata": {},
   "outputs": [],
   "source": []
  },
  {
   "cell_type": "code",
   "execution_count": null,
   "metadata": {},
   "outputs": [],
   "source": []
  },
  {
   "cell_type": "code",
   "execution_count": 1799,
   "metadata": {},
   "outputs": [],
   "source": [
    "from sklearn.metrics import mean_squared_log_error,mean_absolute_error,mean_squared_error,r2_score"
   ]
  },
  {
   "cell_type": "code",
   "execution_count": null,
   "metadata": {},
   "outputs": [],
   "source": []
  },
  {
   "cell_type": "code",
   "execution_count": 1800,
   "metadata": {},
   "outputs": [
    {
     "data": {
      "text/plain": [
       "array([ 4.9 , 24.75,  8.25, ...,  3.99,  7.5 ,  8.31])"
      ]
     },
     "execution_count": 1800,
     "metadata": {},
     "output_type": "execute_result"
    }
   ],
   "source": [
    "y_test"
   ]
  },
  {
   "cell_type": "code",
   "execution_count": 1801,
   "metadata": {},
   "outputs": [
    {
     "data": {
      "text/plain": [
       "1.4598227073426724"
      ]
     },
     "execution_count": 1801,
     "metadata": {},
     "output_type": "execute_result"
    }
   ],
   "source": [
    "mean_absolute_error(y_pred,y_test)"
   ]
  },
  {
   "cell_type": "code",
   "execution_count": 1802,
   "metadata": {},
   "outputs": [
    {
     "data": {
      "text/plain": [
       "9.712242233581005"
      ]
     },
     "execution_count": 1802,
     "metadata": {},
     "output_type": "execute_result"
    }
   ],
   "source": [
    "mean_squared_error(y_pred,y_test)"
   ]
  },
  {
   "cell_type": "code",
   "execution_count": 1803,
   "metadata": {},
   "outputs": [
    {
     "data": {
      "text/plain": [
       "0.909954714384981"
      ]
     },
     "execution_count": 1803,
     "metadata": {},
     "output_type": "execute_result"
    }
   ],
   "source": [
    "r2_score(y_pred,y_test)"
   ]
  },
  {
   "cell_type": "code",
   "execution_count": null,
   "metadata": {},
   "outputs": [],
   "source": []
  },
  {
   "cell_type": "code",
   "execution_count": 1804,
   "metadata": {},
   "outputs": [
    {
     "data": {
      "text/plain": [
       "0.96"
      ]
     },
     "execution_count": 1804,
     "metadata": {},
     "output_type": "execute_result"
    }
   ],
   "source": [
    "1- 0.04"
   ]
  },
  {
   "cell_type": "code",
   "execution_count": 1805,
   "metadata": {},
   "outputs": [
    {
     "data": {
      "text/plain": [
       "Index(['Year', 'Kilometers_Driven', 'Mileage', 'Engine', 'Power', 'Seats',\n",
       "       'Location_Ahmedabad', 'Location_Bangalore', 'Location_Chennai',\n",
       "       'Location_Coimbatore', 'Location_Delhi', 'Location_Hyderabad',\n",
       "       'Location_Jaipur', 'Location_Kochi', 'Location_Kolkata',\n",
       "       'Location_Mumbai', 'Location_Pune', 'Fuel_Type_CNG', 'Fuel_Type_Diesel',\n",
       "       'Fuel_Type_Electric', 'Fuel_Type_LPG', 'Fuel_Type_Petrol',\n",
       "       'Transmission_Automatic', 'Transmission_Manual', 'Owner_Type_First',\n",
       "       'Owner_Type_Fourth & Above', 'Owner_Type_Second', 'Owner_Type_Third'],\n",
       "      dtype='object')"
      ]
     },
     "execution_count": 1805,
     "metadata": {},
     "output_type": "execute_result"
    }
   ],
   "source": [
    "df.columns"
   ]
  },
  {
   "cell_type": "code",
   "execution_count": 1806,
   "metadata": {},
   "outputs": [
    {
     "data": {
      "text/plain": [
       "Index(['Year', 'Kilometers_Driven', 'Mileage', 'Engine', 'Power', 'Seats',\n",
       "       'Location_Ahmedabad', 'Location_Bangalore', 'Location_Chennai',\n",
       "       'Location_Coimbatore', 'Location_Delhi', 'Location_Hyderabad',\n",
       "       'Location_Jaipur', 'Location_Kochi', 'Location_Kolkata',\n",
       "       'Location_Mumbai', 'Location_Pune', 'Fuel_Type_CNG', 'Fuel_Type_Diesel',\n",
       "       'Fuel_Type_LPG', 'Fuel_Type_Petrol', 'Transmission_Automatic',\n",
       "       'Transmission_Manual', 'Owner_Type_First', 'Owner_Type_Fourth & Above',\n",
       "       'Owner_Type_Second', 'Owner_Type_Third', 'Fuel_Type_Electric'],\n",
       "      dtype='object')"
      ]
     },
     "execution_count": 1806,
     "metadata": {},
     "output_type": "execute_result"
    }
   ],
   "source": [
    "df1.columns"
   ]
  },
  {
   "cell_type": "code",
   "execution_count": 1807,
   "metadata": {},
   "outputs": [],
   "source": [
    "df1=pd.read_excel('Data_Test.xlsx')"
   ]
  },
  {
   "cell_type": "code",
   "execution_count": 1808,
   "metadata": {},
   "outputs": [
    {
     "data": {
      "text/plain": [
       "Name                    0\n",
       "Location                0\n",
       "Year                    0\n",
       "Kilometers_Driven       0\n",
       "Fuel_Type               0\n",
       "Transmission            0\n",
       "Owner_Type              0\n",
       "Mileage                 0\n",
       "Engine                 10\n",
       "Power                  10\n",
       "Seats                  11\n",
       "New_Price            1052\n",
       "dtype: int64"
      ]
     },
     "execution_count": 1808,
     "metadata": {},
     "output_type": "execute_result"
    }
   ],
   "source": [
    "df1.isnull().sum()"
   ]
  },
  {
   "cell_type": "code",
   "execution_count": 1809,
   "metadata": {},
   "outputs": [
    {
     "data": {
      "text/plain": [
       "array(['Delhi', 'Coimbatore', 'Mumbai', 'Hyderabad', 'Pune', 'Jaipur',\n",
       "       'Chennai', 'Kochi', 'Bangalore', 'Kolkata', 'Ahmedabad'],\n",
       "      dtype=object)"
      ]
     },
     "execution_count": 1809,
     "metadata": {},
     "output_type": "execute_result"
    }
   ],
   "source": [
    "df1.Location.unique()"
   ]
  },
  {
   "cell_type": "code",
   "execution_count": 1810,
   "metadata": {},
   "outputs": [
    {
     "data": {
      "text/plain": [
       "array([2014, 2013, 2017, 2012, 2016, 2015, 2011, 2007, 2008, 2009, 2019,\n",
       "       2010, 2005, 2006, 2018, 2003, 1996, 2004, 2002, 2000], dtype=int64)"
      ]
     },
     "execution_count": 1810,
     "metadata": {},
     "output_type": "execute_result"
    }
   ],
   "source": [
    "df1.Year.unique()"
   ]
  },
  {
   "cell_type": "code",
   "execution_count": 1811,
   "metadata": {},
   "outputs": [
    {
     "data": {
      "text/plain": [
       "array(['CNG', 'Petrol', 'Diesel', 'LPG'], dtype=object)"
      ]
     },
     "execution_count": 1811,
     "metadata": {},
     "output_type": "execute_result"
    }
   ],
   "source": [
    "df1.Fuel_Type.unique()"
   ]
  },
  {
   "cell_type": "code",
   "execution_count": 1812,
   "metadata": {},
   "outputs": [
    {
     "data": {
      "text/plain": [
       "array(['Manual', 'Automatic'], dtype=object)"
      ]
     },
     "execution_count": 1812,
     "metadata": {},
     "output_type": "execute_result"
    }
   ],
   "source": [
    "df1.Transmission.unique()"
   ]
  },
  {
   "cell_type": "code",
   "execution_count": 1813,
   "metadata": {},
   "outputs": [
    {
     "data": {
      "text/plain": [
       "array(['First', 'Second', 'Third', 'Fourth & Above'], dtype=object)"
      ]
     },
     "execution_count": 1813,
     "metadata": {},
     "output_type": "execute_result"
    }
   ],
   "source": [
    "df1.Owner_Type.unique()"
   ]
  },
  {
   "cell_type": "code",
   "execution_count": 1814,
   "metadata": {},
   "outputs": [
    {
     "data": {
      "text/plain": [
       "array(['CNG', 'Petrol', 'Diesel', 'LPG'], dtype=object)"
      ]
     },
     "execution_count": 1814,
     "metadata": {},
     "output_type": "execute_result"
    }
   ],
   "source": [
    "df1.Fuel_Type.unique()"
   ]
  },
  {
   "cell_type": "code",
   "execution_count": null,
   "metadata": {},
   "outputs": [],
   "source": []
  },
  {
   "cell_type": "code",
   "execution_count": null,
   "metadata": {},
   "outputs": [],
   "source": []
  },
  {
   "cell_type": "code",
   "execution_count": 1815,
   "metadata": {},
   "outputs": [
    {
     "data": {
      "text/plain": [
       "\"\\n\\ndf1['1990-1995']=df1.Year.apply(lambda x:1 if x >= 1990 and x<=1995 else 0)\\n\\ndf1['1995-2000']=df1.Year.apply(lambda x:1 if x > 1995 and x<=2000 else 0)\\n\\n\\ndf1['2000-2005']=df1.Year.apply(lambda x:1 if x > 2000 and x<=2005 else 0)\\n\\n\\ndf1['2005-2010']=df1.Year.apply(lambda x:1 if x > 2005 and x<=2010 else 0)\\n\\n\\ndf1['2010-2015']=df1.Year.apply(lambda x:1 if x > 2010 and x<=2015 else 0)\\n\\ndf1['2015-2020']=df1.Year.apply(lambda x:1 if x >2015 and x<=2020 else 0)\\n\""
      ]
     },
     "execution_count": 1815,
     "metadata": {},
     "output_type": "execute_result"
    }
   ],
   "source": [
    "df1.drop(['New_Price'],axis=1,inplace=True)\n",
    "df1.Mileage.fillna('0.0 kmpl',inplace=True)\n",
    "df1.Engine.fillna('0 CC',inplace=True)\n",
    "\n",
    "df1.Power.fillna('0.0 bhp',inplace=True)\n",
    "df1.Seats.fillna(0.0,inplace=True)\n",
    "\n",
    "df1.Power=df1.Power.apply(lambda x:x.split(' ')[0] if x is not 'null' else 0.00)\n",
    "\n",
    "df1.Power.replace('null',0.00,inplace=True)\n",
    "\n",
    "df1.Power=df1.Power.apply(lambda x: float(x))\n",
    "\n",
    "df1.Engine=df1.Engine.apply(lambda x:int(x.split(' ')[0]))\n",
    "df1.Mileage=df1.Mileage.apply(lambda x:float(x.split(' ')[0]))\n",
    "\n",
    "'''\n",
    "\n",
    "df1['1990-1995']=df1.Year.apply(lambda x:1 if x >= 1990 and x<=1995 else 0)\n",
    "\n",
    "df1['1995-2000']=df1.Year.apply(lambda x:1 if x > 1995 and x<=2000 else 0)\n",
    "\n",
    "\n",
    "df1['2000-2005']=df1.Year.apply(lambda x:1 if x > 2000 and x<=2005 else 0)\n",
    "\n",
    "\n",
    "df1['2005-2010']=df1.Year.apply(lambda x:1 if x > 2005 and x<=2010 else 0)\n",
    "\n",
    "\n",
    "df1['2010-2015']=df1.Year.apply(lambda x:1 if x > 2010 and x<=2015 else 0)\n",
    "\n",
    "df1['2015-2020']=df1.Year.apply(lambda x:1 if x >2015 and x<=2020 else 0)\n",
    "'''\n"
   ]
  },
  {
   "cell_type": "code",
   "execution_count": 1816,
   "metadata": {},
   "outputs": [],
   "source": [
    "x1=cv1.transform(df1.Name)\n",
    "\n",
    "#df1.drop(['Name','Year'],axis=1,inplace=True)\n",
    "df1.drop(['Name'],axis=1,inplace=True)\n",
    "df1=pd.get_dummies(df1)"
   ]
  },
  {
   "cell_type": "code",
   "execution_count": 1817,
   "metadata": {},
   "outputs": [
    {
     "data": {
      "text/plain": [
       "(1234, 27)"
      ]
     },
     "execution_count": 1817,
     "metadata": {},
     "output_type": "execute_result"
    }
   ],
   "source": [
    "df1.shape"
   ]
  },
  {
   "cell_type": "code",
   "execution_count": 1818,
   "metadata": {},
   "outputs": [],
   "source": [
    "df1['Owner_Type_Fourth & Above']=0.0\n",
    "\n",
    "df1['Fuel_Type_Electric']=0.0"
   ]
  },
  {
   "cell_type": "code",
   "execution_count": 1819,
   "metadata": {},
   "outputs": [],
   "source": [
    "#df1['Year_2018']=0.0\n",
    "#df1['Year_2019']=0.0\n"
   ]
  },
  {
   "cell_type": "code",
   "execution_count": 1820,
   "metadata": {},
   "outputs": [
    {
     "data": {
      "text/plain": [
       "Index(['Year', 'Kilometers_Driven', 'Mileage', 'Engine', 'Power', 'Seats',\n",
       "       'Location_Ahmedabad', 'Location_Bangalore', 'Location_Chennai',\n",
       "       'Location_Coimbatore', 'Location_Delhi', 'Location_Hyderabad',\n",
       "       'Location_Jaipur', 'Location_Kochi', 'Location_Kolkata',\n",
       "       'Location_Mumbai', 'Location_Pune', 'Fuel_Type_CNG', 'Fuel_Type_Diesel',\n",
       "       'Fuel_Type_LPG', 'Fuel_Type_Petrol', 'Transmission_Automatic',\n",
       "       'Transmission_Manual', 'Owner_Type_First', 'Owner_Type_Fourth & Above',\n",
       "       'Owner_Type_Second', 'Owner_Type_Third', 'Fuel_Type_Electric'],\n",
       "      dtype='object')"
      ]
     },
     "execution_count": 1820,
     "metadata": {},
     "output_type": "execute_result"
    }
   ],
   "source": [
    "df1.columns"
   ]
  },
  {
   "cell_type": "code",
   "execution_count": null,
   "metadata": {},
   "outputs": [],
   "source": []
  },
  {
   "cell_type": "code",
   "execution_count": null,
   "metadata": {},
   "outputs": [],
   "source": []
  },
  {
   "cell_type": "code",
   "execution_count": 1821,
   "metadata": {},
   "outputs": [
    {
     "data": {
      "text/plain": [
       "(1234, 28)"
      ]
     },
     "execution_count": 1821,
     "metadata": {},
     "output_type": "execute_result"
    }
   ],
   "source": [
    "df1.shape"
   ]
  },
  {
   "cell_type": "code",
   "execution_count": 1822,
   "metadata": {},
   "outputs": [],
   "source": [
    "x2=df1.values\n"
   ]
  },
  {
   "cell_type": "code",
   "execution_count": 1823,
   "metadata": {},
   "outputs": [],
   "source": [
    "x2=df1.values\n",
    "\n",
    "X=np.concatenate([x1.toarray(),x2],axis=1)\n",
    "\n"
   ]
  },
  {
   "cell_type": "code",
   "execution_count": 1824,
   "metadata": {},
   "outputs": [
    {
     "data": {
      "text/plain": [
       "(1234, 500)"
      ]
     },
     "execution_count": 1824,
     "metadata": {},
     "output_type": "execute_result"
    }
   ],
   "source": [
    "x1.shape"
   ]
  },
  {
   "cell_type": "code",
   "execution_count": 1825,
   "metadata": {},
   "outputs": [
    {
     "data": {
      "text/plain": [
       "(1234, 28)"
      ]
     },
     "execution_count": 1825,
     "metadata": {},
     "output_type": "execute_result"
    }
   ],
   "source": [
    "x2.shape"
   ]
  },
  {
   "cell_type": "code",
   "execution_count": 1826,
   "metadata": {},
   "outputs": [
    {
     "data": {
      "text/plain": [
       "(1234, 528)"
      ]
     },
     "execution_count": 1826,
     "metadata": {},
     "output_type": "execute_result"
    }
   ],
   "source": [
    "X.shape"
   ]
  },
  {
   "cell_type": "code",
   "execution_count": 1827,
   "metadata": {},
   "outputs": [],
   "source": [
    "X=sc.transform(X)"
   ]
  },
  {
   "cell_type": "code",
   "execution_count": 1828,
   "metadata": {},
   "outputs": [],
   "source": [
    "y_prd=lg.predict(X)"
   ]
  },
  {
   "cell_type": "code",
   "execution_count": 1829,
   "metadata": {},
   "outputs": [],
   "source": [
    "y_pr1=model.predict(X)"
   ]
  },
  {
   "cell_type": "code",
   "execution_count": 1830,
   "metadata": {},
   "outputs": [
    {
     "data": {
      "text/plain": [
       "array([ 3.2679324,  4.3998003, 14.180824 , ...,  3.216035 ,  2.888175 ,\n",
       "       17.048336 ], dtype=float32)"
      ]
     },
     "execution_count": 1830,
     "metadata": {},
     "output_type": "execute_result"
    }
   ],
   "source": [
    "y_pr1.reshape((-1))"
   ]
  },
  {
   "cell_type": "code",
   "execution_count": 1831,
   "metadata": {},
   "outputs": [
    {
     "data": {
      "text/plain": [
       "1234"
      ]
     },
     "execution_count": 1831,
     "metadata": {},
     "output_type": "execute_result"
    }
   ],
   "source": [
    "len(range(len(y_pr1)))"
   ]
  },
  {
   "cell_type": "code",
   "execution_count": 1832,
   "metadata": {},
   "outputs": [],
   "source": [
    "tp1=pd.DataFrame({'Price':y_pr1.reshape((-1))},index=range(len(y_pr1)))\n",
    "tp1.to_excel('Submission1nn.xlsx')"
   ]
  },
  {
   "cell_type": "code",
   "execution_count": 1833,
   "metadata": {},
   "outputs": [
    {
     "data": {
      "text/plain": [
       "array([ 4.55600476,  5.64873154, 19.88748425, ...,  5.16085823,\n",
       "        4.23488799, 17.63501956])"
      ]
     },
     "execution_count": 1833,
     "metadata": {},
     "output_type": "execute_result"
    }
   ],
   "source": [
    "y_prd"
   ]
  },
  {
   "cell_type": "code",
   "execution_count": 1834,
   "metadata": {},
   "outputs": [],
   "source": [
    "tp=pd.DataFrame({'Price':y_prd})"
   ]
  },
  {
   "cell_type": "code",
   "execution_count": 1835,
   "metadata": {},
   "outputs": [],
   "source": [
    "tp.to_excel('Submission1.xlsx',index=False)"
   ]
  },
  {
   "cell_type": "code",
   "execution_count": null,
   "metadata": {},
   "outputs": [],
   "source": []
  },
  {
   "cell_type": "code",
   "execution_count": null,
   "metadata": {},
   "outputs": [],
   "source": []
  },
  {
   "cell_type": "code",
   "execution_count": null,
   "metadata": {},
   "outputs": [],
   "source": []
  },
  {
   "cell_type": "code",
   "execution_count": null,
   "metadata": {},
   "outputs": [],
   "source": []
  },
  {
   "cell_type": "code",
   "execution_count": null,
   "metadata": {},
   "outputs": [],
   "source": []
  },
  {
   "cell_type": "code",
   "execution_count": null,
   "metadata": {},
   "outputs": [],
   "source": []
  },
  {
   "cell_type": "code",
   "execution_count": null,
   "metadata": {},
   "outputs": [],
   "source": []
  },
  {
   "cell_type": "code",
   "execution_count": null,
   "metadata": {},
   "outputs": [],
   "source": []
  },
  {
   "cell_type": "code",
   "execution_count": null,
   "metadata": {},
   "outputs": [],
   "source": []
  },
  {
   "cell_type": "code",
   "execution_count": null,
   "metadata": {},
   "outputs": [],
   "source": []
  },
  {
   "cell_type": "code",
   "execution_count": null,
   "metadata": {},
   "outputs": [],
   "source": []
  },
  {
   "cell_type": "code",
   "execution_count": null,
   "metadata": {},
   "outputs": [],
   "source": []
  },
  {
   "cell_type": "code",
   "execution_count": null,
   "metadata": {},
   "outputs": [],
   "source": []
  },
  {
   "cell_type": "code",
   "execution_count": null,
   "metadata": {},
   "outputs": [],
   "source": []
  },
  {
   "cell_type": "code",
   "execution_count": null,
   "metadata": {},
   "outputs": [],
   "source": []
  },
  {
   "cell_type": "code",
   "execution_count": null,
   "metadata": {},
   "outputs": [],
   "source": []
  },
  {
   "cell_type": "code",
   "execution_count": null,
   "metadata": {},
   "outputs": [],
   "source": []
  },
  {
   "cell_type": "code",
   "execution_count": null,
   "metadata": {},
   "outputs": [],
   "source": []
  },
  {
   "cell_type": "code",
   "execution_count": null,
   "metadata": {},
   "outputs": [],
   "source": []
  },
  {
   "cell_type": "code",
   "execution_count": null,
   "metadata": {},
   "outputs": [],
   "source": []
  },
  {
   "cell_type": "code",
   "execution_count": null,
   "metadata": {},
   "outputs": [],
   "source": []
  },
  {
   "cell_type": "code",
   "execution_count": null,
   "metadata": {},
   "outputs": [],
   "source": []
  },
  {
   "cell_type": "code",
   "execution_count": null,
   "metadata": {},
   "outputs": [],
   "source": []
  },
  {
   "cell_type": "code",
   "execution_count": null,
   "metadata": {},
   "outputs": [],
   "source": []
  }
 ],
 "metadata": {
  "kernelspec": {
   "display_name": "Python 3",
   "language": "python",
   "name": "python3"
  },
  "language_info": {
   "codemirror_mode": {
    "name": "ipython",
    "version": 3
   },
   "file_extension": ".py",
   "mimetype": "text/x-python",
   "name": "python",
   "nbconvert_exporter": "python",
   "pygments_lexer": "ipython3",
   "version": "3.7.3"
  }
 },
 "nbformat": 4,
 "nbformat_minor": 2
}
