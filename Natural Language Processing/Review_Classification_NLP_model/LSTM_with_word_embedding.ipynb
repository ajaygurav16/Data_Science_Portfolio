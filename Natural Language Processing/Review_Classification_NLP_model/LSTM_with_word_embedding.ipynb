{
 "cells": [
  {
   "cell_type": "code",
   "execution_count": 67,
   "metadata": {},
   "outputs": [],
   "source": [
    "import numpy as np\n",
    "import pandas as pd\n",
    "import matplotlib.pyplot as plt\n",
    "%matplotlib inline\n",
    "import seaborn as sns\n",
    "import string,re\n",
    "from nltk.corpus import stopwords\n",
    "from sklearn.feature_extraction.text import CountVectorizer,TfidfVectorizer\n",
    "import operator\n",
    "from vaderSentiment.vaderSentiment import SentimentIntensityAnalyzer\n",
    "from sklearn.model_selection import train_test_split\n",
    "import tensorflow as tf\n",
    "from keras.models import Sequential\n",
    "from keras import utils as np_utils\n",
    "from sklearn.preprocessing import LabelEncoder,OneHotEncoder\n",
    "from keras.layers import Activation,Conv2D,Flatten,Dropout,Dense,Conv1D,LSTM,GRU,MaxPool1D,MaxPooling1D\n",
    "from tensorflow.python.client import device_lib \n",
    "\n",
    "from keras.preprocessing.text import Tokenizer,text_to_word_sequence\n",
    "from keras.preprocessing.sequence import pad_sequences\n",
    "\n",
    "from keras.layers.embeddings import Embedding\n",
    "from sklearn.manifold import TSNE"
   ]
  },
  {
   "cell_type": "code",
   "execution_count": 18,
   "metadata": {},
   "outputs": [],
   "source": [
    "from nltk.stem import PorterStemmer"
   ]
  },
  {
   "cell_type": "code",
   "execution_count": 14,
   "metadata": {},
   "outputs": [
    {
     "data": {
      "text/html": [
       "<div>\n",
       "<style scoped>\n",
       "    .dataframe tbody tr th:only-of-type {\n",
       "        vertical-align: middle;\n",
       "    }\n",
       "\n",
       "    .dataframe tbody tr th {\n",
       "        vertical-align: top;\n",
       "    }\n",
       "\n",
       "    .dataframe thead th {\n",
       "        text-align: right;\n",
       "    }\n",
       "</style>\n",
       "<table border=\"1\" class=\"dataframe\">\n",
       "  <thead>\n",
       "    <tr style=\"text-align: right;\">\n",
       "      <th></th>\n",
       "      <th>Review Text</th>\n",
       "      <th>Review Title</th>\n",
       "      <th>topic</th>\n",
       "    </tr>\n",
       "  </thead>\n",
       "  <tbody>\n",
       "    <tr>\n",
       "      <th>0</th>\n",
       "      <td>Did nothing for me, didn't help lost even with...</td>\n",
       "      <td>Useless</td>\n",
       "      <td>Shipment and delivery</td>\n",
       "    </tr>\n",
       "    <tr>\n",
       "      <th>1</th>\n",
       "      <td>Did nothing for me, didn't help lost even with...</td>\n",
       "      <td>Useless</td>\n",
       "      <td>Not Effective</td>\n",
       "    </tr>\n",
       "    <tr>\n",
       "      <th>2</th>\n",
       "      <td>I have bought these bags and  immediately open...</td>\n",
       "      <td>TRASH!!! Do not buy these bags it’s a waist of...</td>\n",
       "      <td>Customer Service</td>\n",
       "    </tr>\n",
       "    <tr>\n",
       "      <th>3</th>\n",
       "      <td>Gave me an allergic reaction on my face :(</td>\n",
       "      <td>Do not recommend</td>\n",
       "      <td>Allergic</td>\n",
       "    </tr>\n",
       "    <tr>\n",
       "      <th>4</th>\n",
       "      <td>These don't compare to the name brand wipes. F...</td>\n",
       "      <td>Can't tackle big messes</td>\n",
       "      <td>Texture</td>\n",
       "    </tr>\n",
       "  </tbody>\n",
       "</table>\n",
       "</div>"
      ],
      "text/plain": [
       "                                         Review Text  \\\n",
       "0  Did nothing for me, didn't help lost even with...   \n",
       "1  Did nothing for me, didn't help lost even with...   \n",
       "2  I have bought these bags and  immediately open...   \n",
       "3         Gave me an allergic reaction on my face :(   \n",
       "4  These don't compare to the name brand wipes. F...   \n",
       "\n",
       "                                        Review Title                  topic  \n",
       "0                                            Useless  Shipment and delivery  \n",
       "1                                            Useless          Not Effective  \n",
       "2  TRASH!!! Do not buy these bags it’s a waist of...       Customer Service  \n",
       "3                                   Do not recommend               Allergic  \n",
       "4                            Can't tackle big messes                Texture  "
      ]
     },
     "execution_count": 14,
     "metadata": {},
     "output_type": "execute_result"
    }
   ],
   "source": [
    "df=pd.read_csv('train.csv')\n",
    "df.head()"
   ]
  },
  {
   "cell_type": "code",
   "execution_count": 6,
   "metadata": {},
   "outputs": [],
   "source": [
    "\n",
    "review_title=df['Review Title']\n",
    "review_text=df['Review Text']\n",
    "topic=df.topic\n",
    "review=review_title+' '+review_text"
   ]
  },
  {
   "cell_type": "code",
   "execution_count": 19,
   "metadata": {},
   "outputs": [],
   "source": [
    "sw=stopwords.words('english')\n",
    "ps=PorterStemmer()"
   ]
  },
  {
   "cell_type": "code",
   "execution_count": 25,
   "metadata": {},
   "outputs": [],
   "source": [
    "def cleatext(text):\n",
    "    \n",
    "    text=text.translate(text.maketrans(\"\",\"\",string.punctuation))\n",
    "    text=[ps.stem(w) for w in text.split(' ') if w not in sw]\n",
    "    text=' '.join(text)\n",
    "    return text"
   ]
  },
  {
   "cell_type": "code",
   "execution_count": 27,
   "metadata": {},
   "outputs": [],
   "source": [
    "review=review.apply(cleatext)"
   ]
  },
  {
   "cell_type": "code",
   "execution_count": 29,
   "metadata": {},
   "outputs": [],
   "source": [
    "tk=Tokenizer()\n",
    "\n",
    "tk.fit_on_texts(review)\n",
    "\n",
    "\n",
    "encoded_docs=tk.texts_to_sequences(review)\n",
    "\n",
    "vocab_size=len(tk.word_index)+1\n",
    "max_length=max([len(s.split(' ')) for s in review])\n",
    "padded_docs=pad_sequences(encoded_docs,maxlen=max_length,padding='post')"
   ]
  },
  {
   "cell_type": "code",
   "execution_count": 45,
   "metadata": {},
   "outputs": [],
   "source": [
    "lb=LabelEncoder()\n",
    "onh=OneHotEncoder()\n",
    "lb.fit(topic)\n",
    "\n",
    "topic_encoded=lb.transform(topic)\n",
    "y=np_utils.to_categorical(topic_encoded,num_classes=21)"
   ]
  },
  {
   "cell_type": "code",
   "execution_count": 53,
   "metadata": {},
   "outputs": [],
   "source": [
    "X_train,X_test,y_train,y_test=train_test_split(padded_docs,y,test_size=0.2)"
   ]
  },
  {
   "cell_type": "code",
   "execution_count": 84,
   "metadata": {},
   "outputs": [],
   "source": [
    "\n",
    "\n",
    "model=Sequential()\n",
    "model.add(Embedding(vocab_size,output_dim=200,input_length=max_length))\n",
    "model.add(Dropout(0.2))\n",
    "model.add(Conv1D(64, 5, activation='relu'))\n",
    "\n",
    "model.add(MaxPooling1D(pool_size=4))\n",
    "model.add(LSTM(100))\n",
    "model.add(Dense(32,activation='relu'))\n",
    "model.add(Dense(21,activation='softmax'))\n",
    "model.compile(loss='categorical_crossentropy',metrics=['accuracy'],optimizer='adam')"
   ]
  },
  {
   "cell_type": "code",
   "execution_count": 85,
   "metadata": {},
   "outputs": [
    {
     "name": "stdout",
     "output_type": "stream",
     "text": [
      "_________________________________________________________________\n",
      "Layer (type)                 Output Shape              Param #   \n",
      "=================================================================\n",
      "embedding_7 (Embedding)      (None, 315, 200)          1586200   \n",
      "_________________________________________________________________\n",
      "dropout_4 (Dropout)          (None, 315, 200)          0         \n",
      "_________________________________________________________________\n",
      "conv1d_4 (Conv1D)            (None, 311, 64)           64064     \n",
      "_________________________________________________________________\n",
      "max_pooling1d_4 (MaxPooling1 (None, 77, 64)            0         \n",
      "_________________________________________________________________\n",
      "lstm_7 (LSTM)                (None, 100)               66000     \n",
      "_________________________________________________________________\n",
      "dense_8 (Dense)              (None, 32)                3232      \n",
      "_________________________________________________________________\n",
      "dense_9 (Dense)              (None, 21)                693       \n",
      "=================================================================\n",
      "Total params: 1,720,189\n",
      "Trainable params: 1,720,189\n",
      "Non-trainable params: 0\n",
      "_________________________________________________________________\n"
     ]
    }
   ],
   "source": [
    "model.summary()"
   ]
  },
  {
   "cell_type": "code",
   "execution_count": 86,
   "metadata": {},
   "outputs": [
    {
     "name": "stdout",
     "output_type": "stream",
     "text": [
      "Train on 4767 samples, validate on 1192 samples\n",
      "Epoch 1/100\n",
      "4767/4767 [==============================] - 52s 11ms/step - loss: 2.6287 - acc: 0.1991 - val_loss: 2.5982 - val_acc: 0.2030\n",
      "Epoch 2/100\n",
      "4767/4767 [==============================] - 49s 10ms/step - loss: 2.5932 - acc: 0.1997 - val_loss: 2.6044 - val_acc: 0.2030\n",
      "Epoch 3/100\n",
      "4767/4767 [==============================] - 48s 10ms/step - loss: 2.5867 - acc: 0.1997 - val_loss: 2.6079 - val_acc: 0.2030\n",
      "Epoch 4/100\n",
      "4767/4767 [==============================] - 48s 10ms/step - loss: 2.5872 - acc: 0.1997 - val_loss: 2.6021 - val_acc: 0.2030\n",
      "Epoch 5/100\n",
      "4767/4767 [==============================] - 48s 10ms/step - loss: 2.5883 - acc: 0.1997 - val_loss: 2.6128 - val_acc: 0.2030\n",
      "Epoch 6/100\n",
      "4767/4767 [==============================] - 49s 10ms/step - loss: 2.5879 - acc: 0.1997 - val_loss: 2.6003 - val_acc: 0.2030\n",
      "Epoch 7/100\n",
      "4767/4767 [==============================] - 48s 10ms/step - loss: 2.5880 - acc: 0.1997 - val_loss: 2.5983 - val_acc: 0.2030\n",
      "Epoch 8/100\n",
      "4767/4767 [==============================] - 48s 10ms/step - loss: 2.5865 - acc: 0.1997 - val_loss: 2.6063 - val_acc: 0.2030\n",
      "Epoch 9/100\n",
      "4767/4767 [==============================] - 48s 10ms/step - loss: 2.5864 - acc: 0.1997 - val_loss: 2.5984 - val_acc: 0.2030\n",
      "Epoch 10/100\n",
      "4767/4767 [==============================] - 48s 10ms/step - loss: 2.5844 - acc: 0.1997 - val_loss: 2.6108 - val_acc: 0.2030\n",
      "Epoch 11/100\n",
      "4767/4767 [==============================] - 49s 10ms/step - loss: 2.5856 - acc: 0.1997 - val_loss: 2.6033 - val_acc: 0.2030\n",
      "Epoch 12/100\n",
      "4767/4767 [==============================] - 49s 10ms/step - loss: 2.5861 - acc: 0.1997 - val_loss: 2.6029 - val_acc: 0.2030\n",
      "Epoch 13/100\n",
      "4767/4767 [==============================] - 51s 11ms/step - loss: 2.5853 - acc: 0.1997 - val_loss: 2.6076 - val_acc: 0.2030\n",
      "Epoch 14/100\n",
      "4767/4767 [==============================] - 48s 10ms/step - loss: 2.5851 - acc: 0.1997 - val_loss: 2.6018 - val_acc: 0.2030\n",
      "Epoch 15/100\n",
      "4767/4767 [==============================] - 48s 10ms/step - loss: 2.5868 - acc: 0.1997 - val_loss: 2.6050 - val_acc: 0.2030\n",
      "Epoch 16/100\n",
      "4767/4767 [==============================] - 48s 10ms/step - loss: 2.5856 - acc: 0.1997 - val_loss: 2.6020 - val_acc: 0.2030\n",
      "Epoch 17/100\n",
      "4767/4767 [==============================] - 48s 10ms/step - loss: 2.5853 - acc: 0.1997 - val_loss: 2.5979 - val_acc: 0.2030\n",
      "Epoch 18/100\n",
      "4767/4767 [==============================] - 48s 10ms/step - loss: 2.5849 - acc: 0.1997 - val_loss: 2.6017 - val_acc: 0.2030\n",
      "Epoch 19/100\n",
      "4767/4767 [==============================] - 48s 10ms/step - loss: 2.5850 - acc: 0.1997 - val_loss: 2.6027 - val_acc: 0.2030\n",
      "Epoch 20/100\n",
      "4767/4767 [==============================] - 48s 10ms/step - loss: 2.5855 - acc: 0.1997 - val_loss: 2.6034 - val_acc: 0.2030\n",
      "Epoch 21/100\n",
      "4767/4767 [==============================] - 48s 10ms/step - loss: 2.5837 - acc: 0.1997 - val_loss: 2.6024 - val_acc: 0.2030\n",
      "Epoch 22/100\n",
      "4767/4767 [==============================] - 48s 10ms/step - loss: 2.5832 - acc: 0.1997 - val_loss: 2.6052 - val_acc: 0.2030\n",
      "Epoch 23/100\n",
      "4767/4767 [==============================] - 48s 10ms/step - loss: 2.5848 - acc: 0.1997 - val_loss: 2.6014 - val_acc: 0.2030\n",
      "Epoch 24/100\n",
      "4767/4767 [==============================] - 48s 10ms/step - loss: 2.5841 - acc: 0.1999 - val_loss: 2.5991 - val_acc: 0.2030\n",
      "Epoch 25/100\n",
      "4767/4767 [==============================] - 48s 10ms/step - loss: 2.5839 - acc: 0.1999 - val_loss: 2.6073 - val_acc: 0.2030\n",
      "Epoch 26/100\n",
      "4767/4767 [==============================] - 49s 10ms/step - loss: 2.5836 - acc: 0.1999 - val_loss: 2.6006 - val_acc: 0.2030\n",
      "Epoch 27/100\n",
      "4767/4767 [==============================] - 48s 10ms/step - loss: 2.5837 - acc: 0.1999 - val_loss: 2.6008 - val_acc: 0.2030\n",
      "Epoch 28/100\n",
      "4767/4767 [==============================] - 49s 10ms/step - loss: 2.5831 - acc: 0.1999 - val_loss: 2.6010 - val_acc: 0.2030\n",
      "Epoch 29/100\n",
      "4767/4767 [==============================] - 48s 10ms/step - loss: 2.5831 - acc: 0.1999 - val_loss: 2.6021 - val_acc: 0.2030\n",
      "Epoch 30/100\n",
      "4767/4767 [==============================] - 48s 10ms/step - loss: 2.5822 - acc: 0.1999 - val_loss: 2.5988 - val_acc: 0.2030\n",
      "Epoch 31/100\n",
      "4767/4767 [==============================] - 48s 10ms/step - loss: 2.5833 - acc: 0.1999 - val_loss: 2.6035 - val_acc: 0.2030\n",
      "Epoch 32/100\n",
      "4767/4767 [==============================] - 48s 10ms/step - loss: 2.5832 - acc: 0.1999 - val_loss: 2.6027 - val_acc: 0.2030\n",
      "Epoch 33/100\n",
      "4767/4767 [==============================] - 48s 10ms/step - loss: 2.5842 - acc: 0.1999 - val_loss: 2.6061 - val_acc: 0.2030\n",
      "Epoch 34/100\n",
      "4767/4767 [==============================] - 49s 10ms/step - loss: 2.5833 - acc: 0.1999 - val_loss: 2.6036 - val_acc: 0.2030\n",
      "Epoch 35/100\n",
      "4767/4767 [==============================] - 50s 11ms/step - loss: 2.5823 - acc: 0.1995 - val_loss: 2.5989 - val_acc: 0.2030\n",
      "Epoch 36/100\n",
      "4767/4767 [==============================] - 50s 10ms/step - loss: 2.5831 - acc: 0.1999 - val_loss: 2.5996 - val_acc: 0.2030\n",
      "Epoch 37/100\n",
      "4767/4767 [==============================] - 50s 10ms/step - loss: 2.5652 - acc: 0.1972 - val_loss: 2.5786 - val_acc: 0.2030\n",
      "Epoch 38/100\n",
      "4767/4767 [==============================] - 50s 10ms/step - loss: 2.4362 - acc: 0.2435 - val_loss: 2.4330 - val_acc: 0.2500\n",
      "Epoch 39/100\n",
      "4767/4767 [==============================] - 50s 10ms/step - loss: 2.3750 - acc: 0.2570 - val_loss: 2.4902 - val_acc: 0.2450\n",
      "Epoch 40/100\n",
      "4767/4767 [==============================] - 50s 10ms/step - loss: 2.3567 - acc: 0.2643 - val_loss: 2.4257 - val_acc: 0.2508\n",
      "Epoch 41/100\n",
      "4767/4767 [==============================] - 50s 10ms/step - loss: 2.3417 - acc: 0.2595 - val_loss: 2.4411 - val_acc: 0.2735\n",
      "Epoch 42/100\n",
      "4767/4767 [==============================] - 50s 10ms/step - loss: 2.3573 - acc: 0.2511 - val_loss: 2.5796 - val_acc: 0.1820\n",
      "Epoch 43/100\n",
      "4767/4767 [==============================] - 57s 12ms/step - loss: 2.4083 - acc: 0.2177 - val_loss: 2.5711 - val_acc: 0.1770\n",
      "Epoch 44/100\n",
      "4767/4767 [==============================] - 50s 10ms/step - loss: 2.3989 - acc: 0.2138 - val_loss: 2.5645 - val_acc: 0.1862\n",
      "Epoch 45/100\n",
      "4767/4767 [==============================] - 50s 10ms/step - loss: 2.3858 - acc: 0.2234 - val_loss: 2.5496 - val_acc: 0.1913\n",
      "Epoch 46/100\n",
      "4767/4767 [==============================] - 50s 10ms/step - loss: 2.4807 - acc: 0.2016 - val_loss: 2.6104 - val_acc: 0.1971\n",
      "Epoch 47/100\n",
      "4767/4767 [==============================] - 51s 11ms/step - loss: 2.4811 - acc: 0.2039 - val_loss: 2.6310 - val_acc: 0.2022\n",
      "Epoch 48/100\n",
      "4767/4767 [==============================] - 51s 11ms/step - loss: 2.4374 - acc: 0.2102 - val_loss: 2.5847 - val_acc: 0.1451\n",
      "Epoch 49/100\n",
      "4767/4767 [==============================] - 51s 11ms/step - loss: 2.4126 - acc: 0.2098 - val_loss: 2.5906 - val_acc: 0.1971\n",
      "Epoch 50/100\n",
      "4767/4767 [==============================] - 51s 11ms/step - loss: 2.3837 - acc: 0.2255 - val_loss: 2.5801 - val_acc: 0.1737\n",
      "Epoch 51/100\n",
      "4767/4767 [==============================] - 51s 11ms/step - loss: 2.3299 - acc: 0.2578 - val_loss: 2.5837 - val_acc: 0.2164\n",
      "Epoch 52/100\n",
      "4767/4767 [==============================] - 51s 11ms/step - loss: 2.2522 - acc: 0.2935 - val_loss: 2.3741 - val_acc: 0.3138\n",
      "Epoch 53/100\n",
      "4767/4767 [==============================] - 51s 11ms/step - loss: 2.1427 - acc: 0.3373 - val_loss: 2.2694 - val_acc: 0.3465\n",
      "Epoch 54/100\n",
      "4767/4767 [==============================] - 50s 11ms/step - loss: 2.0027 - acc: 0.3782 - val_loss: 2.2422 - val_acc: 0.3431\n",
      "Epoch 55/100\n",
      "4767/4767 [==============================] - 51s 11ms/step - loss: 1.8797 - acc: 0.4147 - val_loss: 2.3130 - val_acc: 0.3624\n",
      "Epoch 56/100\n",
      "4767/4767 [==============================] - 51s 11ms/step - loss: 1.7968 - acc: 0.4502 - val_loss: 2.2929 - val_acc: 0.3716\n",
      "Epoch 57/100\n",
      "4767/4767 [==============================] - 50s 11ms/step - loss: 1.7410 - acc: 0.4647 - val_loss: 2.2767 - val_acc: 0.3977\n",
      "Epoch 58/100\n",
      "4767/4767 [==============================] - 51s 11ms/step - loss: 1.6694 - acc: 0.4907 - val_loss: 2.3189 - val_acc: 0.3851\n",
      "Epoch 59/100\n",
      "4767/4767 [==============================] - 51s 11ms/step - loss: 1.6422 - acc: 0.5005 - val_loss: 2.2992 - val_acc: 0.3951\n",
      "Epoch 60/100\n"
     ]
    },
    {
     "name": "stdout",
     "output_type": "stream",
     "text": [
      "4767/4767 [==============================] - 51s 11ms/step - loss: 1.5790 - acc: 0.5219 - val_loss: 2.3628 - val_acc: 0.3960\n",
      "Epoch 61/100\n",
      "4767/4767 [==============================] - 51s 11ms/step - loss: 1.5554 - acc: 0.5236 - val_loss: 2.3766 - val_acc: 0.3733\n",
      "Epoch 62/100\n",
      "4767/4767 [==============================] - 51s 11ms/step - loss: 1.5061 - acc: 0.5368 - val_loss: 2.4524 - val_acc: 0.3918\n",
      "Epoch 63/100\n",
      "4767/4767 [==============================] - 51s 11ms/step - loss: 1.4711 - acc: 0.5439 - val_loss: 2.3938 - val_acc: 0.3859\n",
      "Epoch 64/100\n",
      "4767/4767 [==============================] - 50s 11ms/step - loss: 1.4361 - acc: 0.5505 - val_loss: 2.3972 - val_acc: 0.4060\n",
      "Epoch 65/100\n",
      "4767/4767 [==============================] - 48s 10ms/step - loss: 1.4001 - acc: 0.5647 - val_loss: 2.4325 - val_acc: 0.4044\n",
      "Epoch 66/100\n",
      "4767/4767 [==============================] - 48s 10ms/step - loss: 1.3963 - acc: 0.5624 - val_loss: 2.4254 - val_acc: 0.4010\n",
      "Epoch 67/100\n",
      "4767/4767 [==============================] - 48s 10ms/step - loss: 1.3654 - acc: 0.5777 - val_loss: 2.4595 - val_acc: 0.3884\n",
      "Epoch 68/100\n",
      "4767/4767 [==============================] - 48s 10ms/step - loss: 1.3399 - acc: 0.5802 - val_loss: 2.4935 - val_acc: 0.4027\n",
      "Epoch 69/100\n",
      "4767/4767 [==============================] - 48s 10ms/step - loss: 1.3136 - acc: 0.5849 - val_loss: 2.5355 - val_acc: 0.3842\n",
      "Epoch 70/100\n",
      "4767/4767 [==============================] - 48s 10ms/step - loss: 1.2991 - acc: 0.5920 - val_loss: 2.3988 - val_acc: 0.3977\n",
      "Epoch 71/100\n",
      "4767/4767 [==============================] - 48s 10ms/step - loss: 1.2952 - acc: 0.6010 - val_loss: 2.4322 - val_acc: 0.4069\n",
      "Epoch 72/100\n",
      "4767/4767 [==============================] - 50s 10ms/step - loss: 1.2340 - acc: 0.6081 - val_loss: 2.5492 - val_acc: 0.3968\n",
      "Epoch 73/100\n",
      "4767/4767 [==============================] - 51s 11ms/step - loss: 1.2038 - acc: 0.6188 - val_loss: 2.4471 - val_acc: 0.4102\n",
      "Epoch 74/100\n",
      "4767/4767 [==============================] - 49s 10ms/step - loss: 1.1670 - acc: 0.6239 - val_loss: 2.5275 - val_acc: 0.3968\n",
      "Epoch 75/100\n",
      "4767/4767 [==============================] - 49s 10ms/step - loss: 1.1324 - acc: 0.6342 - val_loss: 2.4971 - val_acc: 0.4220\n",
      "Epoch 76/100\n",
      "4767/4767 [==============================] - 49s 10ms/step - loss: 1.0966 - acc: 0.6425 - val_loss: 2.5949 - val_acc: 0.4169\n",
      "Epoch 77/100\n",
      "4767/4767 [==============================] - 49s 10ms/step - loss: 1.0542 - acc: 0.6547 - val_loss: 2.5504 - val_acc: 0.4136\n",
      "Epoch 78/100\n",
      "4767/4767 [==============================] - 50s 10ms/step - loss: 1.0367 - acc: 0.6600 - val_loss: 2.7433 - val_acc: 0.4086\n",
      "Epoch 79/100\n",
      "4767/4767 [==============================] - 51s 11ms/step - loss: 1.1275 - acc: 0.6436 - val_loss: 2.4553 - val_acc: 0.4262\n",
      "Epoch 80/100\n",
      "4767/4767 [==============================] - 50s 10ms/step - loss: 1.0196 - acc: 0.6583 - val_loss: 2.6886 - val_acc: 0.4304\n",
      "Epoch 81/100\n",
      "4767/4767 [==============================] - 51s 11ms/step - loss: 0.9602 - acc: 0.6702 - val_loss: 2.8396 - val_acc: 0.4379\n",
      "Epoch 82/100\n",
      "4767/4767 [==============================] - 51s 11ms/step - loss: 0.9326 - acc: 0.6748 - val_loss: 2.8464 - val_acc: 0.4169\n",
      "Epoch 83/100\n",
      "4767/4767 [==============================] - 50s 10ms/step - loss: 0.8986 - acc: 0.6805 - val_loss: 2.8657 - val_acc: 0.4144\n",
      "Epoch 84/100\n",
      "4767/4767 [==============================] - 50s 11ms/step - loss: 0.8969 - acc: 0.6767 - val_loss: 2.9334 - val_acc: 0.4002\n",
      "Epoch 85/100\n",
      "4767/4767 [==============================] - 50s 10ms/step - loss: 0.8607 - acc: 0.6803 - val_loss: 2.9693 - val_acc: 0.4253\n",
      "Epoch 86/100\n",
      "4767/4767 [==============================] - 49s 10ms/step - loss: 0.8471 - acc: 0.6837 - val_loss: 2.9581 - val_acc: 0.4203\n",
      "Epoch 87/100\n",
      "4767/4767 [==============================] - 50s 11ms/step - loss: 0.8382 - acc: 0.6920 - val_loss: 2.9511 - val_acc: 0.4211\n",
      "Epoch 88/100\n",
      "4767/4767 [==============================] - 50s 10ms/step - loss: 0.8194 - acc: 0.6906 - val_loss: 3.0524 - val_acc: 0.4077\n",
      "Epoch 89/100\n",
      "4767/4767 [==============================] - 49s 10ms/step - loss: 0.8005 - acc: 0.6933 - val_loss: 3.0563 - val_acc: 0.4346\n",
      "Epoch 90/100\n",
      "4767/4767 [==============================] - 49s 10ms/step - loss: 0.8100 - acc: 0.6931 - val_loss: 3.0227 - val_acc: 0.4270\n",
      "Epoch 91/100\n",
      "4767/4767 [==============================] - 49s 10ms/step - loss: 0.7805 - acc: 0.6929 - val_loss: 3.1572 - val_acc: 0.4237\n",
      "Epoch 92/100\n",
      "4767/4767 [==============================] - 49s 10ms/step - loss: 0.7701 - acc: 0.6912 - val_loss: 3.2001 - val_acc: 0.4186\n",
      "Epoch 93/100\n",
      "4767/4767 [==============================] - 49s 10ms/step - loss: 0.7619 - acc: 0.6952 - val_loss: 3.2007 - val_acc: 0.4228\n",
      "Epoch 94/100\n",
      "4767/4767 [==============================] - 50s 11ms/step - loss: 0.7378 - acc: 0.7046 - val_loss: 3.2555 - val_acc: 0.4178\n",
      "Epoch 95/100\n",
      "4767/4767 [==============================] - 49s 10ms/step - loss: 0.7362 - acc: 0.7042 - val_loss: 3.3031 - val_acc: 0.4178\n",
      "Epoch 96/100\n",
      "4767/4767 [==============================] - 48s 10ms/step - loss: 0.7309 - acc: 0.6952 - val_loss: 3.3469 - val_acc: 0.4144\n",
      "Epoch 97/100\n",
      "4767/4767 [==============================] - 48s 10ms/step - loss: 0.7202 - acc: 0.6998 - val_loss: 3.4384 - val_acc: 0.4144\n",
      "Epoch 98/100\n",
      "4767/4767 [==============================] - 50s 11ms/step - loss: 0.7071 - acc: 0.7002 - val_loss: 3.5266 - val_acc: 0.4069\n",
      "Epoch 99/100\n",
      "4767/4767 [==============================] - 50s 10ms/step - loss: 0.7141 - acc: 0.7025 - val_loss: 3.4811 - val_acc: 0.4119\n",
      "Epoch 100/100\n",
      "4767/4767 [==============================] - 50s 10ms/step - loss: 0.7116 - acc: 0.7046 - val_loss: 3.5351 - val_acc: 0.4153\n"
     ]
    }
   ],
   "source": [
    "\n",
    "with tf.device('/gpu:0'):\n",
    "    model.fit(X_train,y_train,epochs=100,batch_size=20,validation_data=(X_test,y_test))\n",
    "    "
   ]
  },
  {
   "cell_type": "code",
   "execution_count": 88,
   "metadata": {},
   "outputs": [
    {
     "name": "stdout",
     "output_type": "stream",
     "text": [
      "1192/1192 [==============================] - 5s 4ms/step\n"
     ]
    },
    {
     "data": {
      "text/plain": [
       "[3.5351362292398543, 0.4152684563758389]"
      ]
     },
     "execution_count": 88,
     "metadata": {},
     "output_type": "execute_result"
    }
   ],
   "source": [
    "model.evaluate(X_test,y_test)"
   ]
  },
  {
   "cell_type": "code",
   "execution_count": 89,
   "metadata": {},
   "outputs": [
    {
     "data": {
      "text/html": [
       "<div>\n",
       "<style scoped>\n",
       "    .dataframe tbody tr th:only-of-type {\n",
       "        vertical-align: middle;\n",
       "    }\n",
       "\n",
       "    .dataframe tbody tr th {\n",
       "        vertical-align: top;\n",
       "    }\n",
       "\n",
       "    .dataframe thead th {\n",
       "        text-align: right;\n",
       "    }\n",
       "</style>\n",
       "<table border=\"1\" class=\"dataframe\">\n",
       "  <thead>\n",
       "    <tr style=\"text-align: right;\">\n",
       "      <th></th>\n",
       "      <th>Review Text</th>\n",
       "      <th>Review Title</th>\n",
       "    </tr>\n",
       "  </thead>\n",
       "  <tbody>\n",
       "    <tr>\n",
       "      <th>0</th>\n",
       "      <td>I use chia seed in my protein shakes. These ta...</td>\n",
       "      <td>Bad tast</td>\n",
       "    </tr>\n",
       "    <tr>\n",
       "      <th>1</th>\n",
       "      <td>I use chia seed in my protein shakes. These ta...</td>\n",
       "      <td>Bad tast</td>\n",
       "    </tr>\n",
       "    <tr>\n",
       "      <th>2</th>\n",
       "      <td>Don’t waste your money.</td>\n",
       "      <td>No change. No results.</td>\n",
       "    </tr>\n",
       "    <tr>\n",
       "      <th>3</th>\n",
       "      <td>I use the book 'Fortify Your Life' by Tieraona...</td>\n",
       "      <td>Good Vegan Choice, Poor Non Vegan Choice</td>\n",
       "    </tr>\n",
       "    <tr>\n",
       "      <th>4</th>\n",
       "      <td>I use the book 'Fortify Your Life' by Tieraona...</td>\n",
       "      <td>Good Vegan Choice, Poor Non Vegan Choice</td>\n",
       "    </tr>\n",
       "  </tbody>\n",
       "</table>\n",
       "</div>"
      ],
      "text/plain": [
       "                                         Review Text  \\\n",
       "0  I use chia seed in my protein shakes. These ta...   \n",
       "1  I use chia seed in my protein shakes. These ta...   \n",
       "2                            Don’t waste your money.   \n",
       "3  I use the book 'Fortify Your Life' by Tieraona...   \n",
       "4  I use the book 'Fortify Your Life' by Tieraona...   \n",
       "\n",
       "                               Review Title  \n",
       "0                                  Bad tast  \n",
       "1                                  Bad tast  \n",
       "2                    No change. No results.  \n",
       "3  Good Vegan Choice, Poor Non Vegan Choice  \n",
       "4  Good Vegan Choice, Poor Non Vegan Choice  "
      ]
     },
     "execution_count": 89,
     "metadata": {},
     "output_type": "execute_result"
    }
   ],
   "source": [
    "dt=pd.read_csv('test.csv')\n",
    "dt.head()"
   ]
  },
  {
   "cell_type": "code",
   "execution_count": 74,
   "metadata": {},
   "outputs": [],
   "source": [
    "\n",
    "dt_review_title=dt['Review Title']\n",
    "dt_review_text=dt['Review Text']\n",
    "\n",
    "dt_review=dt_review_title+' '+dt_review_text"
   ]
  },
  {
   "cell_type": "code",
   "execution_count": 90,
   "metadata": {},
   "outputs": [],
   "source": [
    "dt_review=dt_review.apply(cleatext)"
   ]
  },
  {
   "cell_type": "code",
   "execution_count": null,
   "metadata": {},
   "outputs": [],
   "source": []
  },
  {
   "cell_type": "code",
   "execution_count": 91,
   "metadata": {},
   "outputs": [],
   "source": [
    "dt_encoded_docs=tk.texts_to_sequences(dt_review)\n",
    "\n",
    "\n",
    "dt_padded_docs=pad_sequences(dt_encoded_docs,maxlen=max_length,padding='post')"
   ]
  },
  {
   "cell_type": "code",
   "execution_count": 92,
   "metadata": {},
   "outputs": [
    {
     "data": {
      "text/plain": [
       "array([[  10,    2,    1, ...,    0,    0,    0],\n",
       "       [  10,    2,    1, ...,    0,    0,    0],\n",
       "       [ 110,  104,  110, ...,    0,    0,    0],\n",
       "       ...,\n",
       "       [  62,   73,  160, ...,    0,    0,    0],\n",
       "       [3309,   10, 1239, ...,    0,    0,    0],\n",
       "       [ 243,  349,   21, ...,    0,    0,    0]])"
      ]
     },
     "execution_count": 92,
     "metadata": {},
     "output_type": "execute_result"
    }
   ],
   "source": [
    "dt_padded_docs"
   ]
  },
  {
   "cell_type": "code",
   "execution_count": 93,
   "metadata": {},
   "outputs": [],
   "source": [
    "y_pred=model.predict_classes(dt_padded_docs)"
   ]
  },
  {
   "cell_type": "code",
   "execution_count": 94,
   "metadata": {},
   "outputs": [],
   "source": [
    "y_pred=lb.inverse_transform(y_pred)"
   ]
  },
  {
   "cell_type": "code",
   "execution_count": 95,
   "metadata": {},
   "outputs": [
    {
     "data": {
      "text/plain": [
       "20"
      ]
     },
     "execution_count": 95,
     "metadata": {},
     "output_type": "execute_result"
    }
   ],
   "source": [
    "len(set(y_pred))"
   ]
  },
  {
   "cell_type": "code",
   "execution_count": 96,
   "metadata": {},
   "outputs": [],
   "source": [
    "\n",
    "tp=pd.DataFrame({'Review Text':dt_review_text,'Review Title':dt_review_title,'topic':y_pred})\n",
    "tp.to_csv('Submission_1_LSTM.csv',index=False)"
   ]
  },
  {
   "cell_type": "code",
   "execution_count": null,
   "metadata": {},
   "outputs": [],
   "source": []
  }
 ],
 "metadata": {
  "kernelspec": {
   "display_name": "Python 3",
   "language": "python",
   "name": "python3"
  },
  "language_info": {
   "codemirror_mode": {
    "name": "ipython",
    "version": 3
   },
   "file_extension": ".py",
   "mimetype": "text/x-python",
   "name": "python",
   "nbconvert_exporter": "python",
   "pygments_lexer": "ipython3",
   "version": "3.7.3"
  }
 },
 "nbformat": 4,
 "nbformat_minor": 2
}
