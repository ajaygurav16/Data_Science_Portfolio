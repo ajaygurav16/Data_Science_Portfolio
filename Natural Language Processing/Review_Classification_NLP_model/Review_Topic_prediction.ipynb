{
 "cells": [
  {
   "cell_type": "code",
   "execution_count": 2,
   "metadata": {},
   "outputs": [],
   "source": [
    "import numpy as np\n",
    "import pandas as pd\n",
    "import matplotlib.pyplot as plt\n",
    "%matplotlib inline\n",
    "import seaborn as sns\n"
   ]
  },
  {
   "cell_type": "markdown",
   "metadata": {},
   "source": [
    "# Read Data "
   ]
  },
  {
   "cell_type": "code",
   "execution_count": 3,
   "metadata": {},
   "outputs": [],
   "source": [
    "\n",
    "df=pd.read_csv(\"train.csv\")\n"
   ]
  },
  {
   "cell_type": "code",
   "execution_count": 4,
   "metadata": {},
   "outputs": [
    {
     "data": {
      "text/html": [
       "<div>\n",
       "<style scoped>\n",
       "    .dataframe tbody tr th:only-of-type {\n",
       "        vertical-align: middle;\n",
       "    }\n",
       "\n",
       "    .dataframe tbody tr th {\n",
       "        vertical-align: top;\n",
       "    }\n",
       "\n",
       "    .dataframe thead th {\n",
       "        text-align: right;\n",
       "    }\n",
       "</style>\n",
       "<table border=\"1\" class=\"dataframe\">\n",
       "  <thead>\n",
       "    <tr style=\"text-align: right;\">\n",
       "      <th></th>\n",
       "      <th>Review Text</th>\n",
       "      <th>Review Title</th>\n",
       "      <th>topic</th>\n",
       "    </tr>\n",
       "  </thead>\n",
       "  <tbody>\n",
       "    <tr>\n",
       "      <th>0</th>\n",
       "      <td>Did nothing for me, didn't help lost even with...</td>\n",
       "      <td>Useless</td>\n",
       "      <td>Shipment and delivery</td>\n",
       "    </tr>\n",
       "    <tr>\n",
       "      <th>1</th>\n",
       "      <td>Did nothing for me, didn't help lost even with...</td>\n",
       "      <td>Useless</td>\n",
       "      <td>Not Effective</td>\n",
       "    </tr>\n",
       "    <tr>\n",
       "      <th>2</th>\n",
       "      <td>I have bought these bags and  immediately open...</td>\n",
       "      <td>TRASH!!! Do not buy these bags it’s a waist of...</td>\n",
       "      <td>Customer Service</td>\n",
       "    </tr>\n",
       "    <tr>\n",
       "      <th>3</th>\n",
       "      <td>Gave me an allergic reaction on my face :(</td>\n",
       "      <td>Do not recommend</td>\n",
       "      <td>Allergic</td>\n",
       "    </tr>\n",
       "    <tr>\n",
       "      <th>4</th>\n",
       "      <td>These don't compare to the name brand wipes. F...</td>\n",
       "      <td>Can't tackle big messes</td>\n",
       "      <td>Texture</td>\n",
       "    </tr>\n",
       "  </tbody>\n",
       "</table>\n",
       "</div>"
      ],
      "text/plain": [
       "                                         Review Text  \\\n",
       "0  Did nothing for me, didn't help lost even with...   \n",
       "1  Did nothing for me, didn't help lost even with...   \n",
       "2  I have bought these bags and  immediately open...   \n",
       "3         Gave me an allergic reaction on my face :(   \n",
       "4  These don't compare to the name brand wipes. F...   \n",
       "\n",
       "                                        Review Title                  topic  \n",
       "0                                            Useless  Shipment and delivery  \n",
       "1                                            Useless          Not Effective  \n",
       "2  TRASH!!! Do not buy these bags it’s a waist of...       Customer Service  \n",
       "3                                   Do not recommend               Allergic  \n",
       "4                            Can't tackle big messes                Texture  "
      ]
     },
     "execution_count": 4,
     "metadata": {},
     "output_type": "execute_result"
    }
   ],
   "source": [
    "df.head()"
   ]
  },
  {
   "cell_type": "code",
   "execution_count": 5,
   "metadata": {},
   "outputs": [
    {
     "data": {
      "text/plain": [
       "array(['Shipment and delivery', 'Not Effective', 'Customer Service',\n",
       "       'Allergic', 'Texture', 'Quality/Contaminated', 'Color and texture',\n",
       "       'Bad Taste/Flavor', 'Too big to swallow', 'Smells Bad',\n",
       "       'Too Sweet', 'Ingredients', 'Expiry', 'Packaging',\n",
       "       'Wrong Product received', 'Pricing', 'False Advertisement',\n",
       "       'Inferior to competitors', \"Didn't Like\", 'Customer Issues',\n",
       "       'Hard to Chew'], dtype=object)"
      ]
     },
     "execution_count": 5,
     "metadata": {},
     "output_type": "execute_result"
    }
   ],
   "source": [
    "# check no of classes from target \n",
    "df.topic.unique()"
   ]
  },
  {
   "cell_type": "markdown",
   "metadata": {},
   "source": [
    "#### Seems there are 21 classes we need to predict\n",
    "\n",
    "\n",
    "\n"
   ]
  },
  {
   "cell_type": "markdown",
   "metadata": {},
   "source": [
    "# Lets clean text data!! \n",
    "\n",
    "### Steps:\n",
    "####    Remove Puctuations\n",
    "####    Remove stopwords\n",
    "####    Stemming data "
   ]
  },
  {
   "cell_type": "code",
   "execution_count": 6,
   "metadata": {},
   "outputs": [],
   "source": [
    "import string,re\n",
    "\n",
    "from nltk.corpus import stopwords\n",
    "\n",
    "sw=stopwords.words('english')\n",
    "\n",
    "\n",
    "def cleantext(s):\n",
    "    \n",
    "    s=s.translate(s.maketrans(\"\",\"\",string.punctuation))\n",
    "    s=[w for w in s.split(' ') if w not in sw]\n",
    "    s=' '.join(s)\n",
    "    return s\n",
    "    "
   ]
  },
  {
   "cell_type": "code",
   "execution_count": 7,
   "metadata": {},
   "outputs": [
    {
     "data": {
      "text/plain": [
       "\"Did nothing for me, didn't help lost even with working out and eating healthy. Didn't curb appetite or anything.\""
      ]
     },
     "execution_count": 7,
     "metadata": {},
     "output_type": "execute_result"
    }
   ],
   "source": [
    "df['Review Text'][0]"
   ]
  },
  {
   "cell_type": "code",
   "execution_count": 8,
   "metadata": {},
   "outputs": [
    {
     "data": {
      "text/plain": [
       "'Did nothing didnt help lost even working eating healthy Didnt curb appetite anything'"
      ]
     },
     "execution_count": 8,
     "metadata": {},
     "output_type": "execute_result"
    }
   ],
   "source": [
    "cleantext(df['Review Text'][0])"
   ]
  },
  {
   "cell_type": "code",
   "execution_count": 9,
   "metadata": {},
   "outputs": [],
   "source": [
    "df.rename(columns={'Review Text':\"Review_Text\",\"Review Title\":\"Review_Title\"},inplace=True)"
   ]
  },
  {
   "cell_type": "markdown",
   "metadata": {},
   "source": [
    "# In the world of social media , emoijis are used often and we can use that as a features "
   ]
  },
  {
   "cell_type": "code",
   "execution_count": 10,
   "metadata": {},
   "outputs": [],
   "source": [
    "df['Star']=df.Review_Text.apply(lambda x:1 if \"*\" in x else 0)\n",
    "\n",
    "df['smiley']=df.Review_Text.apply(lambda x:1 if \":)\" in x else 0)\n",
    "df['sad']=df.Review_Text.apply(lambda x:1 if \":(\" in x else 0)\n",
    "df['exp']=df.Review_Text.apply(lambda x:1 if \"!\" in x else 0)\n",
    "df['hash']=df.Review_Text.apply(lambda x:1 if \"#\" in x else 0)\n",
    "df['comma']=df.Review_Text.apply(lambda x:1 if \",\" in x else 0)\n",
    "df['dollar']=df.Review_Text.apply(lambda x:1 if \"$\" in x else 0)\n",
    "\n",
    "df['length']=df.Review_Text.apply(lambda x:len(x))"
   ]
  },
  {
   "cell_type": "code",
   "execution_count": 11,
   "metadata": {},
   "outputs": [
    {
     "data": {
      "text/plain": [
       "<matplotlib.axes._subplots.AxesSubplot at 0x21f902766d8>"
      ]
     },
     "execution_count": 11,
     "metadata": {},
     "output_type": "execute_result"
    },
    {
     "data": {
      "image/png": "[encoded data removed]",
      "text/plain": [
       "<Figure size 432x288 with 1 Axes>"
      ]
     },
     "metadata": {
      "needs_background": "light"
     },
     "output_type": "display_data"
    }
   ],
   "source": [
    "\n",
    "\n",
    "sns.distplot(df.length)"
   ]
  },
  {
   "cell_type": "code",
   "execution_count": 12,
   "metadata": {},
   "outputs": [
    {
     "data": {
      "text/plain": [
       "<seaborn.axisgrid.FacetGrid at 0x21f916d30f0>"
      ]
     },
     "execution_count": 12,
     "metadata": {},
     "output_type": "execute_result"
    },
    {
     "data": {
      "image/png": "[encoded data removed]",
      "text/plain": [
       "<Figure size 1008x504 with 1 Axes>"
      ]
     },
     "metadata": {
      "needs_background": "light"
     },
     "output_type": "display_data"
    }
   ],
   "source": [
    "# figure shows distribustion of length across all classes \n",
    "sns.catplot(x='length',y='topic',kind='box',data=df,height=7,aspect=2)\n"
   ]
  },
  {
   "cell_type": "code",
   "execution_count": 13,
   "metadata": {},
   "outputs": [
    {
     "data": {
      "text/plain": [
       "<seaborn.axisgrid.FacetGrid at 0x21f917d6908>"
      ]
     },
     "execution_count": 13,
     "metadata": {},
     "output_type": "execute_result"
    },
    {
     "data": {
      "image/png": "[encoded data removed]",
      "text/plain": [
       "<Figure size 1008x504 with 1 Axes>"
      ]
     },
     "metadata": {
      "needs_background": "light"
     },
     "output_type": "display_data"
    }
   ],
   "source": [
    "sns.catplot(x='sad',y='topic',kind='bar',data=df,height=7,aspect=2)"
   ]
  },
  {
   "cell_type": "code",
   "execution_count": 14,
   "metadata": {},
   "outputs": [
    {
     "data": {
      "text/plain": [
       "0    5951\n",
       "1       8\n",
       "Name: smiley, dtype: int64"
      ]
     },
     "execution_count": 14,
     "metadata": {},
     "output_type": "execute_result"
    }
   ],
   "source": [
    "df.smiley.value_counts()"
   ]
  },
  {
   "cell_type": "code",
   "execution_count": 15,
   "metadata": {},
   "outputs": [
    {
     "data": {
      "text/plain": [
       "0    5934\n",
       "1      25\n",
       "Name: sad, dtype: int64"
      ]
     },
     "execution_count": 15,
     "metadata": {},
     "output_type": "execute_result"
    }
   ],
   "source": [
    "df.sad.value_counts()"
   ]
  },
  {
   "cell_type": "code",
   "execution_count": 16,
   "metadata": {},
   "outputs": [
    {
     "data": {
      "text/plain": [
       "0    5801\n",
       "1     158\n",
       "Name: dollar, dtype: int64"
      ]
     },
     "execution_count": 16,
     "metadata": {},
     "output_type": "execute_result"
    }
   ],
   "source": [
    "df.dollar.value_counts()"
   ]
  },
  {
   "cell_type": "code",
   "execution_count": 17,
   "metadata": {},
   "outputs": [
    {
     "data": {
      "text/plain": [
       "<matplotlib.axes._subplots.AxesSubplot at 0x21f92017f28>"
      ]
     },
     "execution_count": 17,
     "metadata": {},
     "output_type": "execute_result"
    },
    {
     "data": {
      "image/png": "[encoded data removed]",
      "text/plain": [
       "<Figure size 432x288 with 1 Axes>"
      ]
     },
     "metadata": {
      "needs_background": "light"
     },
     "output_type": "display_data"
    }
   ],
   "source": [
    "df.groupby(['topic'])['dollar'].sum().plot.bar()"
   ]
  },
  {
   "cell_type": "code",
   "execution_count": 18,
   "metadata": {},
   "outputs": [
    {
     "data": {
      "text/html": [
       "<div>\n",
       "<style scoped>\n",
       "    .dataframe tbody tr th:only-of-type {\n",
       "        vertical-align: middle;\n",
       "    }\n",
       "\n",
       "    .dataframe tbody tr th {\n",
       "        vertical-align: top;\n",
       "    }\n",
       "\n",
       "    .dataframe thead th {\n",
       "        text-align: right;\n",
       "    }\n",
       "</style>\n",
       "<table border=\"1\" class=\"dataframe\">\n",
       "  <thead>\n",
       "    <tr style=\"text-align: right;\">\n",
       "      <th></th>\n",
       "      <th>Review_Text</th>\n",
       "      <th>Review_Title</th>\n",
       "      <th>topic</th>\n",
       "      <th>Star</th>\n",
       "      <th>smiley</th>\n",
       "      <th>sad</th>\n",
       "      <th>exp</th>\n",
       "      <th>hash</th>\n",
       "      <th>comma</th>\n",
       "      <th>dollar</th>\n",
       "      <th>length</th>\n",
       "    </tr>\n",
       "  </thead>\n",
       "  <tbody>\n",
       "    <tr>\n",
       "      <th>0</th>\n",
       "      <td>Did nothing for me, didn't help lost even with...</td>\n",
       "      <td>Useless</td>\n",
       "      <td>Shipment and delivery</td>\n",
       "      <td>0</td>\n",
       "      <td>0</td>\n",
       "      <td>0</td>\n",
       "      <td>0</td>\n",
       "      <td>0</td>\n",
       "      <td>1</td>\n",
       "      <td>0</td>\n",
       "      <td>112</td>\n",
       "    </tr>\n",
       "    <tr>\n",
       "      <th>1</th>\n",
       "      <td>Did nothing for me, didn't help lost even with...</td>\n",
       "      <td>Useless</td>\n",
       "      <td>Not Effective</td>\n",
       "      <td>0</td>\n",
       "      <td>0</td>\n",
       "      <td>0</td>\n",
       "      <td>0</td>\n",
       "      <td>0</td>\n",
       "      <td>1</td>\n",
       "      <td>0</td>\n",
       "      <td>112</td>\n",
       "    </tr>\n",
       "    <tr>\n",
       "      <th>2</th>\n",
       "      <td>I have bought these bags and  immediately open...</td>\n",
       "      <td>TRASH!!! Do not buy these bags it’s a waist of...</td>\n",
       "      <td>Customer Service</td>\n",
       "      <td>0</td>\n",
       "      <td>0</td>\n",
       "      <td>0</td>\n",
       "      <td>0</td>\n",
       "      <td>0</td>\n",
       "      <td>0</td>\n",
       "      <td>0</td>\n",
       "      <td>243</td>\n",
       "    </tr>\n",
       "    <tr>\n",
       "      <th>3</th>\n",
       "      <td>Gave me an allergic reaction on my face :(</td>\n",
       "      <td>Do not recommend</td>\n",
       "      <td>Allergic</td>\n",
       "      <td>0</td>\n",
       "      <td>0</td>\n",
       "      <td>1</td>\n",
       "      <td>0</td>\n",
       "      <td>0</td>\n",
       "      <td>0</td>\n",
       "      <td>0</td>\n",
       "      <td>42</td>\n",
       "    </tr>\n",
       "    <tr>\n",
       "      <th>4</th>\n",
       "      <td>These don't compare to the name brand wipes. F...</td>\n",
       "      <td>Can't tackle big messes</td>\n",
       "      <td>Texture</td>\n",
       "      <td>0</td>\n",
       "      <td>0</td>\n",
       "      <td>0</td>\n",
       "      <td>0</td>\n",
       "      <td>0</td>\n",
       "      <td>1</td>\n",
       "      <td>0</td>\n",
       "      <td>318</td>\n",
       "    </tr>\n",
       "  </tbody>\n",
       "</table>\n",
       "</div>"
      ],
      "text/plain": [
       "                                         Review_Text  \\\n",
       "0  Did nothing for me, didn't help lost even with...   \n",
       "1  Did nothing for me, didn't help lost even with...   \n",
       "2  I have bought these bags and  immediately open...   \n",
       "3         Gave me an allergic reaction on my face :(   \n",
       "4  These don't compare to the name brand wipes. F...   \n",
       "\n",
       "                                        Review_Title                  topic  \\\n",
       "0                                            Useless  Shipment and delivery   \n",
       "1                                            Useless          Not Effective   \n",
       "2  TRASH!!! Do not buy these bags it’s a waist of...       Customer Service   \n",
       "3                                   Do not recommend               Allergic   \n",
       "4                            Can't tackle big messes                Texture   \n",
       "\n",
       "   Star  smiley  sad  exp  hash  comma  dollar  length  \n",
       "0     0       0    0    0     0      1       0     112  \n",
       "1     0       0    0    0     0      1       0     112  \n",
       "2     0       0    0    0     0      0       0     243  \n",
       "3     0       0    1    0     0      0       0      42  \n",
       "4     0       0    0    0     0      1       0     318  "
      ]
     },
     "execution_count": 18,
     "metadata": {},
     "output_type": "execute_result"
    }
   ],
   "source": [
    "df.head()"
   ]
  },
  {
   "cell_type": "code",
   "execution_count": 19,
   "metadata": {},
   "outputs": [],
   "source": [
    "from sklearn.feature_extraction.text import CountVectorizer,TfidfVectorizer"
   ]
  },
  {
   "cell_type": "code",
   "execution_count": 20,
   "metadata": {},
   "outputs": [],
   "source": [
    "vect=CountVectorizer(max_features=1000)"
   ]
  },
  {
   "cell_type": "code",
   "execution_count": 21,
   "metadata": {},
   "outputs": [
    {
     "data": {
      "text/plain": [
       "CountVectorizer(analyzer='word', binary=False, decode_error='strict',\n",
       "                dtype=<class 'numpy.int64'>, encoding='utf-8', input='content',\n",
       "                lowercase=True, max_df=1.0, max_features=1000, min_df=1,\n",
       "                ngram_range=(1, 1), preprocessor=None, stop_words=None,\n",
       "                strip_accents=None, token_pattern='(?u)\\\\b\\\\w\\\\w+\\\\b',\n",
       "                tokenizer=None, vocabulary=None)"
      ]
     },
     "execution_count": 21,
     "metadata": {},
     "output_type": "execute_result"
    }
   ],
   "source": [
    "vect.fit(df.Review_Title)"
   ]
  },
  {
   "cell_type": "code",
   "execution_count": 22,
   "metadata": {},
   "outputs": [],
   "source": [
    "x1=vect.transform(df.Review_Title)"
   ]
  },
  {
   "cell_type": "code",
   "execution_count": 23,
   "metadata": {},
   "outputs": [
    {
     "data": {
      "text/plain": [
       "(5959, 1000)"
      ]
     },
     "execution_count": 23,
     "metadata": {},
     "output_type": "execute_result"
    }
   ],
   "source": [
    "x1.shape"
   ]
  },
  {
   "cell_type": "code",
   "execution_count": 24,
   "metadata": {},
   "outputs": [
    {
     "data": {
      "text/plain": [
       "dict"
      ]
     },
     "execution_count": 24,
     "metadata": {},
     "output_type": "execute_result"
    }
   ],
   "source": [
    "type(vect.vocabulary_)"
   ]
  },
  {
   "cell_type": "code",
   "execution_count": 25,
   "metadata": {},
   "outputs": [],
   "source": [
    "import operator"
   ]
  },
  {
   "cell_type": "code",
   "execution_count": 26,
   "metadata": {},
   "outputs": [],
   "source": [
    "d1=sorted(vect.vocabulary_.items(),key=operator.itemgetter(0),reverse=True)\n"
   ]
  },
  {
   "cell_type": "code",
   "execution_count": 27,
   "metadata": {},
   "outputs": [
    {
     "data": {
      "text/plain": [
       "[('zyrtec', 999),\n",
       " ('zinc', 998),\n",
       " ('zesty', 997),\n",
       " ('yucky', 996),\n",
       " ('yuck', 995),\n",
       " ('your', 994),\n",
       " ('you', 993),\n",
       " ('yikes', 992),\n",
       " ('yet', 991),\n",
       " ('yes', 990),\n",
       " ('years', 989),\n",
       " ('wrong', 988),\n",
       " ('wow', 987),\n",
       " ('wouldn', 986),\n",
       " ('would', 985),\n",
       " ('worth', 984),\n",
       " ('worst', 983),\n",
       " ('worse', 982),\n",
       " ('works', 981),\n",
       " ('workout', 980),\n",
       " ('working', 979),\n",
       " ('work', 978),\n",
       " ('wonderful', 977),\n",
       " ('won', 976),\n",
       " ('women', 975),\n",
       " ('without', 974),\n",
       " ('with', 973),\n",
       " ('wish', 972),\n",
       " ('wipes', 971),\n",
       " ('will', 970),\n",
       " ('why', 969),\n",
       " ('whole', 968),\n",
       " ('who', 967),\n",
       " ('while', 966),\n",
       " ('which', 965),\n",
       " ('whey', 964),\n",
       " ('where', 963),\n",
       " ('when', 962),\n",
       " ('what', 961),\n",
       " ('wet', 960),\n",
       " ('were', 959),\n",
       " ('went', 958),\n",
       " ('well', 957),\n",
       " ('weird', 956),\n",
       " ('weight', 955),\n",
       " ('weeks', 954),\n",
       " ('week', 953),\n",
       " ('weak', 952),\n",
       " ('we', 951),\n",
       " ('way', 950),\n",
       " ('watermelon', 949),\n",
       " ('water', 948),\n",
       " ('watch', 947),\n",
       " ('waste', 946),\n",
       " ('wash', 945),\n",
       " ('was', 944),\n",
       " ('warning', 943),\n",
       " ('warm', 942),\n",
       " ('wanted', 941),\n",
       " ('want', 940),\n",
       " ('vs', 939),\n",
       " ('vivid', 938),\n",
       " ('vitamins', 937),\n",
       " ('vitamin', 936),\n",
       " ('vitafusion', 935),\n",
       " ('vile', 934),\n",
       " ('via', 933),\n",
       " ('very', 932),\n",
       " ('version', 931),\n",
       " ('vegetarian', 930),\n",
       " ('vegan', 929),\n",
       " ('vega', 928),\n",
       " ('ve', 927),\n",
       " ('vanilla', 926),\n",
       " ('value', 925),\n",
       " ('usps', 924),\n",
       " ('using', 923),\n",
       " ('uses', 922),\n",
       " ('useless', 921),\n",
       " ('used', 920),\n",
       " ('use', 919),\n",
       " ('usable', 918),\n",
       " ('us', 917),\n",
       " ('urine', 916),\n",
       " ('upset', 915),\n",
       " ('upon', 914),\n",
       " ('update', 913),\n",
       " ('up', 912),\n",
       " ('unusable', 911),\n",
       " ('until', 910),\n",
       " ('unsealed', 909),\n",
       " ('unpleasant', 908),\n",
       " ('unopened', 907),\n",
       " ('unnecessary', 906),\n",
       " ('unlucky', 905),\n",
       " ('unlike', 904),\n",
       " ('unhealthy', 903),\n",
       " ('unfortunately', 902),\n",
       " ('undrinkable', 901),\n",
       " ('uncomfortable', 900),\n",
       " ('unbearable', 899),\n",
       " ('unable', 898),\n",
       " ('ugh', 897),\n",
       " ('type', 896),\n",
       " ('two', 895),\n",
       " ('twice', 894),\n",
       " ('tuna', 893),\n",
       " ('tummy', 892),\n",
       " ('trying', 891),\n",
       " ('try', 890),\n",
       " ('trust', 889),\n",
       " ('truly', 888),\n",
       " ('true', 887),\n",
       " ('trip', 886),\n",
       " ('tried', 885),\n",
       " ('trash', 884),\n",
       " ('transit', 883),\n",
       " ('toxic', 882),\n",
       " ('totally', 881),\n",
       " ('took', 880),\n",
       " ('too', 879),\n",
       " ('together', 878),\n",
       " ('to', 877),\n",
       " ('time', 876),\n",
       " ('throw', 875),\n",
       " ('threw', 874),\n",
       " ('three', 873),\n",
       " ('thought', 872),\n",
       " ('tho', 871),\n",
       " ('this', 870),\n",
       " ('think', 869),\n",
       " ('thing', 868),\n",
       " ('thin', 867),\n",
       " ('thick', 866),\n",
       " ('they', 865),\n",
       " ('these', 864),\n",
       " ('there', 863),\n",
       " ('then', 862),\n",
       " ('them', 861),\n",
       " ('their', 860),\n",
       " ('the', 859),\n",
       " ('that', 858),\n",
       " ('thank', 857),\n",
       " ('than', 856),\n",
       " ('texture', 855),\n",
       " ('terrible', 854),\n",
       " ('term', 853),\n",
       " ('tell', 852),\n",
       " ('teeth', 851),\n",
       " ('tear', 850),\n",
       " ('tea', 849),\n",
       " ('tbh', 848),\n",
       " ('tasty', 847),\n",
       " ('tasting', 846),\n",
       " ('tastes', 845),\n",
       " ('tasteless', 844),\n",
       " ('tasted', 843),\n",
       " ('taste', 842),\n",
       " ('tangerine', 841),\n",
       " ('tampering', 840),\n",
       " ('tampered', 839),\n",
       " ('taking', 838),\n",
       " ('takes', 837),\n",
       " ('taken', 836),\n",
       " ('take', 835),\n",
       " ('taffy', 834),\n",
       " ('tackle', 833),\n",
       " ('tablets', 832),\n",
       " ('tablet', 831),\n",
       " ('syrup', 830),\n",
       " ('synthetic', 829),\n",
       " ('symptoms', 828),\n",
       " ('switch', 827),\n",
       " ('sweetener', 826),\n",
       " ('sweetened', 825),\n",
       " ('sweet', 824),\n",
       " ('swallowing', 823),\n",
       " ('swallow', 822),\n",
       " ('sure', 821),\n",
       " ('supposed', 820),\n",
       " ('support', 819),\n",
       " ('supply', 818),\n",
       " ('supplements', 817),\n",
       " ('supplement', 816),\n",
       " ('super', 815),\n",
       " ('sugary', 814),\n",
       " ('sugars', 813),\n",
       " ('sugar', 812),\n",
       " ('sucralose', 811),\n",
       " ('sucks', 810),\n",
       " ('subjective', 809),\n",
       " ('style', 808),\n",
       " ('stuff', 807),\n",
       " ('stuck', 806),\n",
       " ('strong', 805),\n",
       " ('strawberry', 804),\n",
       " ('strange', 803),\n",
       " ('store', 802),\n",
       " ('stop', 801),\n",
       " ('stomach', 800),\n",
       " ('stolen', 799),\n",
       " ('stinky', 798),\n",
       " ('stink', 797),\n",
       " ('still', 796),\n",
       " ('sticky', 795),\n",
       " ('sticks', 794),\n",
       " ('sticking', 793),\n",
       " ('stick', 792),\n",
       " ('stevia', 791),\n",
       " ('stay', 790),\n",
       " ('started', 789),\n",
       " ('stars', 788),\n",
       " ('star', 787),\n",
       " ('standard', 786),\n",
       " ('stale', 785),\n",
       " ('spots', 784),\n",
       " ('spoiled', 783),\n",
       " ('spilled', 782),\n",
       " ('spend', 781),\n",
       " ('soy', 780),\n",
       " ('sour', 779),\n",
       " ('soon', 778),\n",
       " ('son', 777),\n",
       " ('sometimes', 776),\n",
       " ('something', 775),\n",
       " ('some', 774),\n",
       " ('solid', 773),\n",
       " ('sold', 772),\n",
       " ('soft', 771),\n",
       " ('so', 770),\n",
       " ('smelly', 769),\n",
       " ('smells', 768),\n",
       " ('smelling', 767),\n",
       " ('smelled', 766),\n",
       " ('smell', 765),\n",
       " ('smaller', 764),\n",
       " ('small', 763),\n",
       " ('slow', 762),\n",
       " ('slightly', 761),\n",
       " ('sleep', 760),\n",
       " ('skip', 759),\n",
       " ('skin', 758),\n",
       " ('size', 757),\n",
       " ('significant', 756),\n",
       " ('side', 755),\n",
       " ('sickness', 754),\n",
       " ('sick', 753),\n",
       " ('should', 752),\n",
       " ('short', 751),\n",
       " ('ships', 750),\n",
       " ('shipping', 749),\n",
       " ('shipped', 748),\n",
       " ('shipment', 747),\n",
       " ('shellfish', 746),\n",
       " ('shakes', 745),\n",
       " ('severe', 744),\n",
       " ('servings', 743),\n",
       " ('serving', 742),\n",
       " ('service', 741),\n",
       " ('seriously', 740),\n",
       " ('sent', 739),\n",
       " ('sensitive', 738),\n",
       " ('send', 737),\n",
       " ('seller', 736),\n",
       " ('sell', 735),\n",
       " ('seen', 734),\n",
       " ('seems', 733),\n",
       " ('seem', 732),\n",
       " ('see', 731),\n",
       " ('sealed', 730),\n",
       " ('seal', 729),\n",
       " ('scoop', 728),\n",
       " ('scent', 727),\n",
       " ('says', 726),\n",
       " ('say', 725),\n",
       " ('save', 724),\n",
       " ('satisfied', 723),\n",
       " ('sand', 722),\n",
       " ('same', 721),\n",
       " ('said', 720),\n",
       " ('safety', 719),\n",
       " ('sad', 718),\n",
       " ('runs', 717),\n",
       " ('ruined', 716),\n",
       " ('rubbery', 715),\n",
       " ('rough', 714),\n",
       " ('rotten', 713),\n",
       " ('room', 712),\n",
       " ('ripped', 711),\n",
       " ('rip', 710),\n",
       " ('right', 709),\n",
       " ('reviews', 708),\n",
       " ('reviewers', 707),\n",
       " ('review', 706),\n",
       " ('returns', 705),\n",
       " ('returned', 704),\n",
       " ('return', 703),\n",
       " ('results', 702),\n",
       " ('response', 701),\n",
       " ('research', 700),\n",
       " ('replacement', 699),\n",
       " ('replace', 698),\n",
       " ('regular', 697),\n",
       " ('refund', 696),\n",
       " ('recommend', 695),\n",
       " ('recipe', 694),\n",
       " ('recieved', 693),\n",
       " ('recent', 692),\n",
       " ('received', 691),\n",
       " ('receive', 690),\n",
       " ('really', 689),\n",
       " ('real', 688),\n",
       " ('read', 687),\n",
       " ('reactions', 686),\n",
       " ('reaction', 685),\n",
       " ('re', 684),\n",
       " ('rather', 683),\n",
       " ('rate', 682),\n",
       " ('rash', 681),\n",
       " ('rancid', 680),\n",
       " ('quite', 679),\n",
       " ('quickly', 678),\n",
       " ('quick', 677),\n",
       " ('questionable', 676),\n",
       " ('quantity', 675),\n",
       " ('quality', 674),\n",
       " ('put', 673),\n",
       " ('purple', 672),\n",
       " ('pure', 671),\n",
       " ('purchase', 670),\n",
       " ('protein', 669),\n",
       " ('products', 668),\n",
       " ('product', 667),\n",
       " ('problems', 666),\n",
       " ('probiotics', 665),\n",
       " ('probably', 664),\n",
       " ('prime', 663),\n",
       " ('priced', 662),\n",
       " ('price', 661),\n",
       " ('pretty', 660),\n",
       " ('prenatals', 659),\n",
       " ('prenatal', 658),\n",
       " ('pregnant', 657),\n",
       " ('pregnancy', 656),\n",
       " ('pre', 655),\n",
       " ('praline', 654),\n",
       " ('power', 653),\n",
       " ('powder', 652),\n",
       " ('possible', 651),\n",
       " ('poorly', 650),\n",
       " ('poor', 649),\n",
       " ('policy', 648),\n",
       " ('poison', 647),\n",
       " ('please', 646),\n",
       " ('pleasant', 645),\n",
       " ('plastic', 644),\n",
       " ('pink', 643),\n",
       " ('pills', 642),\n",
       " ('pill', 641),\n",
       " ('pictured', 640),\n",
       " ('photo', 639),\n",
       " ('per', 638),\n",
       " ('people', 637),\n",
       " ('pecans', 636),\n",
       " ('peach', 635),\n",
       " ('pay', 634),\n",
       " ('past', 633),\n",
       " ('pass', 632),\n",
       " ('part', 631),\n",
       " ('pains', 630),\n",
       " ('painful', 629),\n",
       " ('pain', 628),\n",
       " ('paid', 627),\n",
       " ('pad', 626),\n",
       " ('packing', 625),\n",
       " ('packaging', 624),\n",
       " ('packages', 623),\n",
       " ('packaged', 622),\n",
       " ('package', 621),\n",
       " ('pack', 620),\n",
       " ('oyster', 619),\n",
       " ('owned', 618),\n",
       " ('own', 617),\n",
       " ('overrated', 616),\n",
       " ('overpriced', 615),\n",
       " ('over', 614),\n",
       " ('outside', 613),\n",
       " ('out', 612),\n",
       " ('our', 611),\n",
       " ('otherwise', 610),\n",
       " ('others', 609),\n",
       " ('other', 608),\n",
       " ('original', 607),\n",
       " ('organic', 606),\n",
       " ('ordered', 605),\n",
       " ('order', 604),\n",
       " ('or', 603),\n",
       " ('option', 602),\n",
       " ('optimum', 601),\n",
       " ('opinion', 600),\n",
       " ('opening', 599),\n",
       " ('opened', 598),\n",
       " ('open', 597),\n",
       " ('only', 596),\n",
       " ('online', 595),\n",
       " ('one', 594),\n",
       " ('once', 593),\n",
       " ('on', 592),\n",
       " ('omega', 591),\n",
       " ('old', 590),\n",
       " ('okay', 589),\n",
       " ('ok', 588),\n",
       " ('oil', 587),\n",
       " ('oh', 586),\n",
       " ('off', 585),\n",
       " ('of', 584),\n",
       " ('odor', 583),\n",
       " ('odd', 582),\n",
       " ('nutritional', 581),\n",
       " ('nutrition', 580),\n",
       " ('now', 579),\n",
       " ('noticed', 578),\n",
       " ('noticeable', 577),\n",
       " ('notice', 576),\n",
       " ('nothing', 575),\n",
       " ('not', 574),\n",
       " ('normal', 573),\n",
       " ('nor', 572),\n",
       " ('nope', 571),\n",
       " ('non', 570),\n",
       " ('no', 569),\n",
       " ('night', 568),\n",
       " ('nice', 567),\n",
       " ('new', 566),\n",
       " ('never', 565),\n",
       " ('nestle', 564),\n",
       " ('needs', 563),\n",
       " ('need', 562),\n",
       " ('nearly', 561),\n",
       " ('near', 560),\n",
       " ('nauseous', 559),\n",
       " ('nauseating', 558),\n",
       " ('nausea', 557),\n",
       " ('natures', 556),\n",
       " ('nature', 555),\n",
       " ('natural', 554),\n",
       " ('natal', 553),\n",
       " ('nasty', 552),\n",
       " ('name', 551),\n",
       " ('nails', 550),\n",
       " ('nail', 549),\n",
       " ('my', 548),\n",
       " ('mushy', 547),\n",
       " ('muscle', 546),\n",
       " ('multivitamns', 545),\n",
       " ('multivitamins', 544),\n",
       " ('multivitamin', 543),\n",
       " ('multiple', 542),\n",
       " ('multi', 541),\n",
       " ('much', 540),\n",
       " ('mouth', 539),\n",
       " ('most', 538),\n",
       " ('morning', 537),\n",
       " ('more', 536),\n",
       " ('months', 535),\n",
       " ('month', 534),\n",
       " ('money', 533),\n",
       " ('moldy', 532),\n",
       " ('mold', 531),\n",
       " ('ml', 530),\n",
       " ('mixed', 529),\n",
       " ('mix', 528),\n",
       " ('missing', 527),\n",
       " ('miss', 526),\n",
       " ('misleading', 525),\n",
       " ('mint', 524),\n",
       " ('milk', 523),\n",
       " ('might', 522),\n",
       " ('metallic', 521),\n",
       " ('messy', 520),\n",
       " ('messes', 519),\n",
       " ('mess', 518),\n",
       " ('melted', 517),\n",
       " ('melt', 516),\n",
       " ('meh', 515),\n",
       " ('medicine', 514),\n",
       " ('mean', 513),\n",
       " ('me', 512),\n",
       " ('maybe', 511),\n",
       " ('may', 510),\n",
       " ('matters', 509),\n",
       " ('mask', 508),\n",
       " ('mark', 507),\n",
       " ('march', 506),\n",
       " ('maple', 505),\n",
       " ('many', 504),\n",
       " ('mango', 503),\n",
       " ('managing', 502),\n",
       " ('maltodextrin', 501),\n",
       " ('makes', 500),\n",
       " ('make', 499),\n",
       " ('major', 498),\n",
       " ('magnesium', 497),\n",
       " ('made', 496),\n",
       " ('low', 495),\n",
       " ('love', 494),\n",
       " ('lots', 493),\n",
       " ('lot', 492),\n",
       " ('lost', 491),\n",
       " ('loss', 490),\n",
       " ('looks', 489),\n",
       " ('looking', 488),\n",
       " ('look', 487),\n",
       " ('long', 486),\n",
       " ('lol', 485),\n",
       " ('locker', 484),\n",
       " ('ll', 483),\n",
       " ('liver', 482),\n",
       " ('live', 481),\n",
       " ('little', 480),\n",
       " ('literal', 479),\n",
       " ('list', 478),\n",
       " ('liquid', 477),\n",
       " ('limits', 476),\n",
       " ('like', 475),\n",
       " ('life', 474),\n",
       " ('lid', 473),\n",
       " ('levels', 472),\n",
       " ('level', 471),\n",
       " ('less', 470),\n",
       " ('lemonade', 469),\n",
       " ('lemon', 468),\n",
       " ('left', 467),\n",
       " ('leaky', 466),\n",
       " ('leaks', 465),\n",
       " ('leaking', 464),\n",
       " ('leaked', 463),\n",
       " ('leakage', 462),\n",
       " ('leak', 461),\n",
       " ('lead', 460),\n",
       " ('lb', 459),\n",
       " ('lavender', 458),\n",
       " ('late', 457),\n",
       " ('last', 456),\n",
       " ('large', 455),\n",
       " ('know', 454),\n",
       " ('knockoff', 453),\n",
       " ('kinda', 452),\n",
       " ('kind', 451),\n",
       " ('kids', 450),\n",
       " ('kid', 449),\n",
       " ('kerosene', 448),\n",
       " ('just', 447),\n",
       " ('job', 446),\n",
       " ('itself', 445),\n",
       " ('its', 444),\n",
       " ('items', 443),\n",
       " ('item', 442),\n",
       " ('itchy', 441),\n",
       " ('itching', 440),\n",
       " ('it', 439),\n",
       " ('issues', 438),\n",
       " ('issue', 437),\n",
       " ('isn', 436),\n",
       " ('is', 435),\n",
       " ('iron', 434),\n",
       " ('into', 433),\n",
       " ('intended', 432),\n",
       " ('instead', 431),\n",
       " ('inside', 430),\n",
       " ('initial', 429),\n",
       " ('ingredients', 428),\n",
       " ('ingredient', 427),\n",
       " ('infused', 426),\n",
       " ('ineffective', 425),\n",
       " ('inedible', 424),\n",
       " ('indigestion', 423),\n",
       " ('incredibly', 422),\n",
       " ('increased', 421),\n",
       " ('increase', 420),\n",
       " ('incorrect', 419),\n",
       " ('in', 418),\n",
       " ('improvement', 417),\n",
       " ('impressed', 416),\n",
       " ('impossible', 415),\n",
       " ('immediately', 414),\n",
       " ('if', 413),\n",
       " ('ick', 412),\n",
       " ('ice', 411),\n",
       " ('ibs', 410),\n",
       " ('hypoallergenic', 409),\n",
       " ('hype', 408),\n",
       " ('hurt', 407),\n",
       " ('hungry', 406),\n",
       " ('humidity', 405),\n",
       " ('huge', 404),\n",
       " ('how', 403),\n",
       " ('hot', 402),\n",
       " ('horse', 401),\n",
       " ('horrific', 400),\n",
       " ('horrid', 399),\n",
       " ('horribly', 398),\n",
       " ('horrible', 397),\n",
       " ('hoping', 396),\n",
       " ('hopes', 395),\n",
       " ('hope', 394),\n",
       " ('honest', 393),\n",
       " ('hmmm', 392),\n",
       " ('hives', 391),\n",
       " ('hit', 390),\n",
       " ('highly', 389),\n",
       " ('high', 388),\n",
       " ('here', 387),\n",
       " ('helps', 386),\n",
       " ('help', 385),\n",
       " ('heat', 384),\n",
       " ('heartburn', 383),\n",
       " ('heart', 382),\n",
       " ('healthy', 381),\n",
       " ('health', 380),\n",
       " ('headaches', 379),\n",
       " ('headache', 378),\n",
       " ('having', 377),\n",
       " ('haven', 376),\n",
       " ('have', 375),\n",
       " ('hated', 374),\n",
       " ('hate', 373),\n",
       " ('has', 372),\n",
       " ('harsher', 371),\n",
       " ('hard', 370),\n",
       " ('happy', 369),\n",
       " ('half', 368),\n",
       " ('hair', 367),\n",
       " ('had', 366),\n",
       " ('guys', 365),\n",
       " ('gummy', 364),\n",
       " ('gummies', 363),\n",
       " ('gummie', 362),\n",
       " ('guess', 361),\n",
       " ('gross', 360),\n",
       " ('gritty', 359),\n",
       " ('green', 358),\n",
       " ('great', 357),\n",
       " ('grape', 356),\n",
       " ('got', 355),\n",
       " ('goop', 354),\n",
       " ('gooey', 353),\n",
       " ('good', 352),\n",
       " ('gone', 351),\n",
       " ('gold', 350),\n",
       " ('going', 349),\n",
       " ('go', 348),\n",
       " ('glass', 347),\n",
       " ('gives', 346),\n",
       " ('give', 345),\n",
       " ('get', 344),\n",
       " ('gentle', 343),\n",
       " ('gel', 342),\n",
       " ('gave', 341),\n",
       " ('gas', 340),\n",
       " ('garden', 339),\n",
       " ('garbage', 338),\n",
       " ('gain', 337),\n",
       " ('funny', 336),\n",
       " ('fully', 335),\n",
       " ('full', 334),\n",
       " ('fruit', 333),\n",
       " ('from', 332),\n",
       " ('fresh', 331),\n",
       " ('french', 330),\n",
       " ('free', 329),\n",
       " ('found', 328),\n",
       " ('formulation', 327),\n",
       " ('formula', 326),\n",
       " ('form', 325),\n",
       " ('for', 324),\n",
       " ('foods', 323),\n",
       " ('food', 322),\n",
       " ('folic', 321),\n",
       " ('folate', 320),\n",
       " ('flavour', 319),\n",
       " ('flavors', 318),\n",
       " ('flavorless', 317),\n",
       " ('flavored', 316),\n",
       " ('flavor', 315),\n",
       " ('fishy', 314),\n",
       " ('fish', 313),\n",
       " ('first', 312),\n",
       " ('finish', 311),\n",
       " ('fine', 310),\n",
       " ('find', 309),\n",
       " ('filling', 308),\n",
       " ('felt', 307),\n",
       " ('feel', 306),\n",
       " ('favorite', 305),\n",
       " ('fast', 304),\n",
       " ('far', 303),\n",
       " ('fan', 302),\n",
       " ('false', 301),\n",
       " ('fake', 300),\n",
       " ('facial', 299),\n",
       " ('face', 298),\n",
       " ('eyes', 297),\n",
       " ('extremely', 296),\n",
       " ('extreme', 295),\n",
       " ('expires', 294),\n",
       " ('expired', 293),\n",
       " ('expire', 292),\n",
       " ('expiration', 291),\n",
       " ('experience', 290),\n",
       " ('expensive', 289),\n",
       " ('expected', 288),\n",
       " ('excessive', 287),\n",
       " ('exactly', 286),\n",
       " ('everywhere', 285),\n",
       " ('everyone', 284),\n",
       " ('every', 283),\n",
       " ('ever', 282),\n",
       " ('even', 281),\n",
       " ('er', 280),\n",
       " ('envelope', 279),\n",
       " ('entire', 278),\n",
       " ('enough', 277),\n",
       " ('energy', 276),\n",
       " ('empty', 275),\n",
       " ('else', 274),\n",
       " ('elderberry', 273),\n",
       " ('eh', 272),\n",
       " ('egg', 271),\n",
       " ('effects', 270),\n",
       " ('effective', 269),\n",
       " ('effect', 268),\n",
       " ('easy', 267),\n",
       " ('easily', 266),\n",
       " ('during', 265),\n",
       " ('due', 264),\n",
       " ('drying', 263),\n",
       " ('dry', 262),\n",
       " ('drink', 261),\n",
       " ('dreams', 260),\n",
       " ('down', 259),\n",
       " ('dose', 258),\n",
       " ('dosage', 257),\n",
       " ('dont', 256),\n",
       " ('done', 255),\n",
       " ('don', 254),\n",
       " ('dog', 253),\n",
       " ('doesnt', 252),\n",
       " ('doesn', 251),\n",
       " ('does', 250),\n",
       " ('do', 249),\n",
       " ('dissolve', 248),\n",
       " ('disgusting', 247),\n",
       " ('discolored', 246),\n",
       " ('disappointing', 245),\n",
       " ('disappointed', 244),\n",
       " ('digest', 243),\n",
       " ('difficult', 242),\n",
       " ('different', 241),\n",
       " ('difference', 240),\n",
       " ('didnt', 239),\n",
       " ('didn', 238),\n",
       " ('did', 237),\n",
       " ('diarrhea', 236),\n",
       " ('diapers', 235),\n",
       " ('dha', 234),\n",
       " ('description', 233),\n",
       " ('delivery', 232),\n",
       " ('delivered', 231),\n",
       " ('deliver', 230),\n",
       " ('delicious', 229),\n",
       " ('defective', 228),\n",
       " ('deceptive', 227),\n",
       " ('decent', 226),\n",
       " ('deal', 225),\n",
       " ('days', 224),\n",
       " ('day', 223),\n",
       " ('date', 222),\n",
       " ('dangerous', 221),\n",
       " ('damaged', 220),\n",
       " ('daily', 219),\n",
       " ('cut', 218),\n",
       " ('customer', 217),\n",
       " ('cup', 216),\n",
       " ('creatine', 215),\n",
       " ('cream', 214),\n",
       " ('cramps', 213),\n",
       " ('couldn', 212),\n",
       " ('could', 211),\n",
       " ('costco', 210),\n",
       " ('cost', 209),\n",
       " ('correct', 208),\n",
       " ('corn', 207),\n",
       " ('cookies', 206),\n",
       " ('control', 205),\n",
       " ('content', 204),\n",
       " ('contaminated', 203),\n",
       " ('contains', 202),\n",
       " ('container', 201),\n",
       " ('contain', 200),\n",
       " ('contact', 199),\n",
       " ('constipation', 198),\n",
       " ('constipated', 197),\n",
       " ('consistency', 196),\n",
       " ('congealed', 195),\n",
       " ('condition', 194),\n",
       " ('concern', 193),\n",
       " ('concept', 192),\n",
       " ('completely', 191),\n",
       " ('complete', 190),\n",
       " ('compared', 189),\n",
       " ('compare', 188),\n",
       " ('comparable', 187),\n",
       " ('company', 186),\n",
       " ('comfortable', 185),\n",
       " ('color', 184),\n",
       " ('cold', 183),\n",
       " ('coffee', 182),\n",
       " ('cod', 181),\n",
       " ('coconut', 180),\n",
       " ('coating', 179),\n",
       " ('coated', 178),\n",
       " ('clumpy', 177),\n",
       " ('clump', 176),\n",
       " ('close', 175),\n",
       " ('clary', 174),\n",
       " ('cinnamon', 173),\n",
       " ('choose', 172),\n",
       " ('cholesterol', 171),\n",
       " ('choking', 170),\n",
       " ('choice', 169),\n",
       " ('chocolate', 168),\n",
       " ('chief', 167),\n",
       " ('chewy', 166),\n",
       " ('chewable', 165),\n",
       " ('chew', 164),\n",
       " ('cherry', 163),\n",
       " ('chemicals', 162),\n",
       " ('chemical', 161),\n",
       " ('check', 160),\n",
       " ('cheaper', 159),\n",
       " ('cheap', 158),\n",
       " ('changing', 157),\n",
       " ('changed', 156),\n",
       " ('change', 155),\n",
       " ('chalky', 154),\n",
       " ('chalk', 153),\n",
       " ('cfu', 152),\n",
       " ('cetaphil', 151),\n",
       " ('centrum', 150),\n",
       " ('caution', 149),\n",
       " ('causes', 148),\n",
       " ('caused', 147),\n",
       " ('cause', 146),\n",
       " ('case', 145),\n",
       " ('careful', 144),\n",
       " ('care', 143),\n",
       " ('carbs', 142),\n",
       " ('caramel', 141),\n",
       " ('capsules', 140),\n",
       " ('capsule', 139),\n",
       " ('caps', 138),\n",
       " ('caplets', 137),\n",
       " ('cap', 136),\n",
       " ('cant', 135),\n",
       " ('cans', 134),\n",
       " ('cannot', 133),\n",
       " ('canister', 132),\n",
       " ('candy', 131),\n",
       " ('cancer', 130),\n",
       " ('can', 129),\n",
       " ('came', 128),\n",
       " ('calories', 127),\n",
       " ('cake', 126),\n",
       " ('by', 125),\n",
       " ('buying', 124),\n",
       " ('buyer', 123),\n",
       " ('buy', 122),\n",
       " ('but', 121),\n",
       " ('burns', 120),\n",
       " ('burning', 119),\n",
       " ('broken', 118),\n",
       " ('broke', 117),\n",
       " ('bring', 116),\n",
       " ('breakouts', 115),\n",
       " ('break', 114),\n",
       " ('brands', 113),\n",
       " ('brand', 112),\n",
       " ('box', 111),\n",
       " ('bought', 110),\n",
       " ('bottom', 109),\n",
       " ('bottles', 108),\n",
       " ('bottle', 107),\n",
       " ('bother', 106),\n",
       " ('boost', 105),\n",
       " ('body', 104),\n",
       " ('blue', 103),\n",
       " ('blood', 102),\n",
       " ('bloating', 101),\n",
       " ('bloated', 100),\n",
       " ('blended', 99),\n",
       " ('blend', 98),\n",
       " ('blech', 97),\n",
       " ('bland', 96),\n",
       " ('blah', 95),\n",
       " ('black', 94),\n",
       " ('bitter', 93),\n",
       " ('bit', 92),\n",
       " ('biotin', 91),\n",
       " ('big', 90),\n",
       " ('beware', 89),\n",
       " ('better', 88),\n",
       " ('best', 87),\n",
       " ('berry', 86),\n",
       " ('benefitial', 85),\n",
       " ('benadryl', 84),\n",
       " ('believe', 83),\n",
       " ('before', 82),\n",
       " ('been', 81),\n",
       " ('because', 80),\n",
       " ('beauty', 79),\n",
       " ('bearable', 78),\n",
       " ('be', 77),\n",
       " ('batter', 76),\n",
       " ('batches', 75),\n",
       " ('batch', 74),\n",
       " ('basic', 73),\n",
       " ('bait', 72),\n",
       " ('bags', 71),\n",
       " ('bag', 70),\n",
       " ('bad', 69),\n",
       " ('back', 68),\n",
       " ('baby', 67),\n",
       " ('awful', 66),\n",
       " ('aweful', 65),\n",
       " ('away', 64),\n",
       " ('avoid', 63),\n",
       " ('average', 62),\n",
       " ('available', 61),\n",
       " ('at', 60),\n",
       " ('ask', 59),\n",
       " ('as', 58),\n",
       " ('artificial', 57),\n",
       " ('arrives', 56),\n",
       " ('arrived', 55),\n",
       " ('arrive', 54),\n",
       " ('arrival', 53),\n",
       " ('are', 52),\n",
       " ('apple', 51),\n",
       " ('apart', 50),\n",
       " ('anything', 49),\n",
       " ('anymore', 48),\n",
       " ('any', 47),\n",
       " ('and', 46),\n",
       " ('an', 45),\n",
       " ('amounts', 44),\n",
       " ('amount', 43),\n",
       " ('ammonia', 42),\n",
       " ('aminogen', 41),\n",
       " ('amazing', 40),\n",
       " ('am', 39),\n",
       " ('always', 38),\n",
       " ('also', 37),\n",
       " ('already', 36),\n",
       " ('along', 35),\n",
       " ('almost', 34),\n",
       " ('almond', 33),\n",
       " ('allergy', 32),\n",
       " ('allergies', 31),\n",
       " ('allergic', 30),\n",
       " ('all', 29),\n",
       " ('alcohol', 28),\n",
       " ('air', 27),\n",
       " ('again', 26),\n",
       " ('aftertaste', 25),\n",
       " ('after', 24),\n",
       " ('advertising', 23),\n",
       " ('advertised', 22),\n",
       " ('adhesive', 21),\n",
       " ('address', 20),\n",
       " ('added', 19),\n",
       " ('actually', 18),\n",
       " ('acne', 17),\n",
       " ('acidic', 16),\n",
       " ('acid', 15),\n",
       " ('ache', 14),\n",
       " ('accurately', 13),\n",
       " ('according', 12),\n",
       " ('acceptable', 11),\n",
       " ('absorb', 10),\n",
       " ('absolutely', 9),\n",
       " ('about', 8),\n",
       " ('30', 7),\n",
       " ('2nd', 6),\n",
       " ('240', 5),\n",
       " ('24', 4),\n",
       " ('222', 3),\n",
       " ('20', 2),\n",
       " ('15', 1),\n",
       " ('10', 0)]"
      ]
     },
     "execution_count": 27,
     "metadata": {},
     "output_type": "execute_result"
    }
   ],
   "source": [
    "d1"
   ]
  },
  {
   "cell_type": "code",
   "execution_count": 28,
   "metadata": {},
   "outputs": [],
   "source": [
    "\n",
    "\n",
    "tfdf=TfidfVectorizer(ngram_range=(1,3),max_df=0.7,min_df=5,max_features=10000)"
   ]
  },
  {
   "cell_type": "code",
   "execution_count": 29,
   "metadata": {},
   "outputs": [
    {
     "data": {
      "text/plain": [
       "TfidfVectorizer(analyzer='word', binary=False, decode_error='strict',\n",
       "                dtype=<class 'numpy.float64'>, encoding='utf-8',\n",
       "                input='content', lowercase=True, max_df=0.7, max_features=10000,\n",
       "                min_df=5, ngram_range=(1, 3), norm='l2', preprocessor=None,\n",
       "                smooth_idf=True, stop_words=None, strip_accents=None,\n",
       "                sublinear_tf=False, token_pattern='(?u)\\\\b\\\\w\\\\w+\\\\b',\n",
       "                tokenizer=None, use_idf=True, vocabulary=None)"
      ]
     },
     "execution_count": 29,
     "metadata": {},
     "output_type": "execute_result"
    }
   ],
   "source": [
    "tfdf.fit(df.Review_Text)"
   ]
  },
  {
   "cell_type": "code",
   "execution_count": 30,
   "metadata": {},
   "outputs": [],
   "source": [
    "x2=tfdf.transform(df.Review_Text)"
   ]
  },
  {
   "cell_type": "code",
   "execution_count": 31,
   "metadata": {},
   "outputs": [
    {
     "data": {
      "text/plain": [
       "(5959, 10000)"
      ]
     },
     "execution_count": 31,
     "metadata": {},
     "output_type": "execute_result"
    }
   ],
   "source": [
    "x2.shape"
   ]
  },
  {
   "cell_type": "code",
   "execution_count": 33,
   "metadata": {},
   "outputs": [],
   "source": [
    "d1=sorted(tfdf.vocabulary_.items(),key=operator.itemgetter(0),reverse=True)"
   ]
  },
  {
   "cell_type": "code",
   "execution_count": null,
   "metadata": {},
   "outputs": [],
   "source": []
  },
  {
   "cell_type": "code",
   "execution_count": 35,
   "metadata": {},
   "outputs": [],
   "source": [
    "from vaderSentiment.vaderSentiment import SentimentIntensityAnalyzer"
   ]
  },
  {
   "cell_type": "code",
   "execution_count": 36,
   "metadata": {},
   "outputs": [],
   "source": [
    "snl=SentimentIntensityAnalyzer()"
   ]
  },
  {
   "cell_type": "code",
   "execution_count": 37,
   "metadata": {},
   "outputs": [
    {
     "data": {
      "text/plain": [
       "{'neg': 0.239, 'neu': 0.761, 'pos': 0.0, 'compound': -0.296}"
      ]
     },
     "execution_count": 37,
     "metadata": {},
     "output_type": "execute_result"
    }
   ],
   "source": [
    "snl.polarity_scores(\"Gave me an allergic reaction on my face\")"
   ]
  },
  {
   "cell_type": "code",
   "execution_count": 38,
   "metadata": {},
   "outputs": [
    {
     "data": {
      "text/plain": [
       "{'neg': 0.421, 'neu': 0.579, 'pos': 0.0, 'compound': -0.6249}"
      ]
     },
     "execution_count": 38,
     "metadata": {},
     "output_type": "execute_result"
    }
   ],
   "source": [
    "snl.polarity_scores(\"Gave me an allergic reaction on my face :(\")"
   ]
  },
  {
   "cell_type": "code",
   "execution_count": 39,
   "metadata": {},
   "outputs": [
    {
     "data": {
      "text/plain": [
       "{'neg': 0.098, 'neu': 0.791, 'pos': 0.111, 'compound': -0.0243}"
      ]
     },
     "execution_count": 39,
     "metadata": {},
     "output_type": "execute_result"
    }
   ],
   "source": [
    "snl.polarity_scores(df.Review_Text[5])"
   ]
  },
  {
   "cell_type": "code",
   "execution_count": 40,
   "metadata": {},
   "outputs": [
    {
     "data": {
      "text/plain": [
       "\"These don't compare to the name brand wipes. Family of 5 little kids, we use a lot of wipes. These don't cut through sticky messes and they're small and very thin. Might be ok for wiping down less often used places but not good at tackling actual messes. I also didn't care for the lemon scent, felt it was too strong.\""
      ]
     },
     "execution_count": 40,
     "metadata": {},
     "output_type": "execute_result"
    }
   ],
   "source": [
    "df.Review_Text[5]"
   ]
  },
  {
   "cell_type": "code",
   "execution_count": 41,
   "metadata": {},
   "outputs": [
    {
     "data": {
      "text/plain": [
       "-0.0243"
      ]
     },
     "execution_count": 41,
     "metadata": {},
     "output_type": "execute_result"
    }
   ],
   "source": [
    "snl.polarity_scores(df.Review_Text[5])['compound']"
   ]
  },
  {
   "cell_type": "code",
   "execution_count": 42,
   "metadata": {},
   "outputs": [],
   "source": [
    "df['Compound_polarity']=df.Review_Text.apply(lambda x:snl.polarity_scores(x)['compound'])"
   ]
  },
  {
   "cell_type": "code",
   "execution_count": 43,
   "metadata": {},
   "outputs": [
    {
     "data": {
      "text/plain": [
       "Text(0.5, 1.0, ' Polarity of Each Topic')"
      ]
     },
     "execution_count": 43,
     "metadata": {},
     "output_type": "execute_result"
    },
    {
     "data": {
      "image/png": "[encoded data removed]",
      "text/plain": [
       "<Figure size 720x1440 with 1 Axes>"
      ]
     },
     "metadata": {
      "needs_background": "light"
     },
     "output_type": "display_data"
    }
   ],
   "source": [
    "plt.figure(figsize=(10,20))\n",
    "sns.barplot(x='Compound_polarity',y='topic',data=df)\n",
    "plt.title(\" Polarity of Each Topic\")"
   ]
  },
  {
   "cell_type": "code",
   "execution_count": 44,
   "metadata": {},
   "outputs": [
    {
     "data": {
      "text/html": [
       "<div>\n",
       "<style scoped>\n",
       "    .dataframe tbody tr th:only-of-type {\n",
       "        vertical-align: middle;\n",
       "    }\n",
       "\n",
       "    .dataframe tbody tr th {\n",
       "        vertical-align: top;\n",
       "    }\n",
       "\n",
       "    .dataframe thead th {\n",
       "        text-align: right;\n",
       "    }\n",
       "</style>\n",
       "<table border=\"1\" class=\"dataframe\">\n",
       "  <thead>\n",
       "    <tr style=\"text-align: right;\">\n",
       "      <th></th>\n",
       "      <th>Review_Text</th>\n",
       "      <th>Review_Title</th>\n",
       "      <th>topic</th>\n",
       "      <th>Star</th>\n",
       "      <th>smiley</th>\n",
       "      <th>sad</th>\n",
       "      <th>exp</th>\n",
       "      <th>hash</th>\n",
       "      <th>comma</th>\n",
       "      <th>dollar</th>\n",
       "      <th>length</th>\n",
       "      <th>Compound_polarity</th>\n",
       "    </tr>\n",
       "  </thead>\n",
       "  <tbody>\n",
       "    <tr>\n",
       "      <th>0</th>\n",
       "      <td>Did nothing for me, didn't help lost even with...</td>\n",
       "      <td>Useless</td>\n",
       "      <td>Shipment and delivery</td>\n",
       "      <td>0</td>\n",
       "      <td>0</td>\n",
       "      <td>0</td>\n",
       "      <td>0</td>\n",
       "      <td>0</td>\n",
       "      <td>1</td>\n",
       "      <td>0</td>\n",
       "      <td>112</td>\n",
       "      <td>0.3408</td>\n",
       "    </tr>\n",
       "    <tr>\n",
       "      <th>1</th>\n",
       "      <td>Did nothing for me, didn't help lost even with...</td>\n",
       "      <td>Useless</td>\n",
       "      <td>Not Effective</td>\n",
       "      <td>0</td>\n",
       "      <td>0</td>\n",
       "      <td>0</td>\n",
       "      <td>0</td>\n",
       "      <td>0</td>\n",
       "      <td>1</td>\n",
       "      <td>0</td>\n",
       "      <td>112</td>\n",
       "      <td>0.3408</td>\n",
       "    </tr>\n",
       "    <tr>\n",
       "      <th>2</th>\n",
       "      <td>I have bought these bags and  immediately open...</td>\n",
       "      <td>TRASH!!! Do not buy these bags it’s a waist of...</td>\n",
       "      <td>Customer Service</td>\n",
       "      <td>0</td>\n",
       "      <td>0</td>\n",
       "      <td>0</td>\n",
       "      <td>0</td>\n",
       "      <td>0</td>\n",
       "      <td>0</td>\n",
       "      <td>0</td>\n",
       "      <td>243</td>\n",
       "      <td>0.0000</td>\n",
       "    </tr>\n",
       "    <tr>\n",
       "      <th>3</th>\n",
       "      <td>Gave me an allergic reaction on my face :(</td>\n",
       "      <td>Do not recommend</td>\n",
       "      <td>Allergic</td>\n",
       "      <td>0</td>\n",
       "      <td>0</td>\n",
       "      <td>1</td>\n",
       "      <td>0</td>\n",
       "      <td>0</td>\n",
       "      <td>0</td>\n",
       "      <td>0</td>\n",
       "      <td>42</td>\n",
       "      <td>-0.6249</td>\n",
       "    </tr>\n",
       "    <tr>\n",
       "      <th>4</th>\n",
       "      <td>These don't compare to the name brand wipes. F...</td>\n",
       "      <td>Can't tackle big messes</td>\n",
       "      <td>Texture</td>\n",
       "      <td>0</td>\n",
       "      <td>0</td>\n",
       "      <td>0</td>\n",
       "      <td>0</td>\n",
       "      <td>0</td>\n",
       "      <td>1</td>\n",
       "      <td>0</td>\n",
       "      <td>318</td>\n",
       "      <td>-0.0243</td>\n",
       "    </tr>\n",
       "  </tbody>\n",
       "</table>\n",
       "</div>"
      ],
      "text/plain": [
       "                                         Review_Text  \\\n",
       "0  Did nothing for me, didn't help lost even with...   \n",
       "1  Did nothing for me, didn't help lost even with...   \n",
       "2  I have bought these bags and  immediately open...   \n",
       "3         Gave me an allergic reaction on my face :(   \n",
       "4  These don't compare to the name brand wipes. F...   \n",
       "\n",
       "                                        Review_Title                  topic  \\\n",
       "0                                            Useless  Shipment and delivery   \n",
       "1                                            Useless          Not Effective   \n",
       "2  TRASH!!! Do not buy these bags it’s a waist of...       Customer Service   \n",
       "3                                   Do not recommend               Allergic   \n",
       "4                            Can't tackle big messes                Texture   \n",
       "\n",
       "   Star  smiley  sad  exp  hash  comma  dollar  length  Compound_polarity  \n",
       "0     0       0    0    0     0      1       0     112             0.3408  \n",
       "1     0       0    0    0     0      1       0     112             0.3408  \n",
       "2     0       0    0    0     0      0       0     243             0.0000  \n",
       "3     0       0    1    0     0      0       0      42            -0.6249  \n",
       "4     0       0    0    0     0      1       0     318            -0.0243  "
      ]
     },
     "execution_count": 44,
     "metadata": {},
     "output_type": "execute_result"
    }
   ],
   "source": [
    "df.head()"
   ]
  },
  {
   "cell_type": "code",
   "execution_count": 52,
   "metadata": {},
   "outputs": [],
   "source": [
    "#y=pd.get_dummies(df['topic']).values"
   ]
  },
  {
   "cell_type": "code",
   "execution_count": 53,
   "metadata": {},
   "outputs": [],
   "source": [
    "from sklearn.preprocessing import LabelEncoder,OneHotEncoder"
   ]
  },
  {
   "cell_type": "code",
   "execution_count": 54,
   "metadata": {},
   "outputs": [],
   "source": [
    "lb=LabelEncoder()"
   ]
  },
  {
   "cell_type": "code",
   "execution_count": 55,
   "metadata": {},
   "outputs": [],
   "source": [
    "lb.fit(df.topic)\n",
    "y=lb.transform(df.topic)\n"
   ]
  },
  {
   "cell_type": "code",
   "execution_count": 56,
   "metadata": {},
   "outputs": [],
   "source": [
    "onh=OneHotEncoder()"
   ]
  },
  {
   "cell_type": "code",
   "execution_count": 57,
   "metadata": {},
   "outputs": [
    {
     "name": "stderr",
     "output_type": "stream",
     "text": [
      "Using TensorFlow backend.\n"
     ]
    }
   ],
   "source": [
    "from keras import utils as np_utils"
   ]
  },
  {
   "cell_type": "code",
   "execution_count": 58,
   "metadata": {},
   "outputs": [],
   "source": [
    "y = np_utils.to_categorical(y, num_classes= 21)"
   ]
  },
  {
   "cell_type": "code",
   "execution_count": null,
   "metadata": {},
   "outputs": [],
   "source": []
  },
  {
   "cell_type": "code",
   "execution_count": 59,
   "metadata": {},
   "outputs": [
    {
     "data": {
      "text/plain": [
       "(5959, 21)"
      ]
     },
     "execution_count": 59,
     "metadata": {},
     "output_type": "execute_result"
    }
   ],
   "source": [
    "y.shape"
   ]
  },
  {
   "cell_type": "code",
   "execution_count": 63,
   "metadata": {},
   "outputs": [],
   "source": [
    "df.drop(['Review_Text','Review_Title','topic'],axis=1,inplace=True)"
   ]
  },
  {
   "cell_type": "code",
   "execution_count": 64,
   "metadata": {},
   "outputs": [
    {
     "data": {
      "text/html": [
       "<div>\n",
       "<style scoped>\n",
       "    .dataframe tbody tr th:only-of-type {\n",
       "        vertical-align: middle;\n",
       "    }\n",
       "\n",
       "    .dataframe tbody tr th {\n",
       "        vertical-align: top;\n",
       "    }\n",
       "\n",
       "    .dataframe thead th {\n",
       "        text-align: right;\n",
       "    }\n",
       "</style>\n",
       "<table border=\"1\" class=\"dataframe\">\n",
       "  <thead>\n",
       "    <tr style=\"text-align: right;\">\n",
       "      <th></th>\n",
       "      <th>Star</th>\n",
       "      <th>smiley</th>\n",
       "      <th>sad</th>\n",
       "      <th>exp</th>\n",
       "      <th>hash</th>\n",
       "      <th>comma</th>\n",
       "      <th>dollar</th>\n",
       "      <th>length</th>\n",
       "      <th>Compound_polarity</th>\n",
       "    </tr>\n",
       "  </thead>\n",
       "  <tbody>\n",
       "    <tr>\n",
       "      <th>0</th>\n",
       "      <td>0</td>\n",
       "      <td>0</td>\n",
       "      <td>0</td>\n",
       "      <td>0</td>\n",
       "      <td>0</td>\n",
       "      <td>1</td>\n",
       "      <td>0</td>\n",
       "      <td>112</td>\n",
       "      <td>0.3408</td>\n",
       "    </tr>\n",
       "    <tr>\n",
       "      <th>1</th>\n",
       "      <td>0</td>\n",
       "      <td>0</td>\n",
       "      <td>0</td>\n",
       "      <td>0</td>\n",
       "      <td>0</td>\n",
       "      <td>1</td>\n",
       "      <td>0</td>\n",
       "      <td>112</td>\n",
       "      <td>0.3408</td>\n",
       "    </tr>\n",
       "    <tr>\n",
       "      <th>2</th>\n",
       "      <td>0</td>\n",
       "      <td>0</td>\n",
       "      <td>0</td>\n",
       "      <td>0</td>\n",
       "      <td>0</td>\n",
       "      <td>0</td>\n",
       "      <td>0</td>\n",
       "      <td>243</td>\n",
       "      <td>0.0000</td>\n",
       "    </tr>\n",
       "    <tr>\n",
       "      <th>3</th>\n",
       "      <td>0</td>\n",
       "      <td>0</td>\n",
       "      <td>1</td>\n",
       "      <td>0</td>\n",
       "      <td>0</td>\n",
       "      <td>0</td>\n",
       "      <td>0</td>\n",
       "      <td>42</td>\n",
       "      <td>-0.6249</td>\n",
       "    </tr>\n",
       "    <tr>\n",
       "      <th>4</th>\n",
       "      <td>0</td>\n",
       "      <td>0</td>\n",
       "      <td>0</td>\n",
       "      <td>0</td>\n",
       "      <td>0</td>\n",
       "      <td>1</td>\n",
       "      <td>0</td>\n",
       "      <td>318</td>\n",
       "      <td>-0.0243</td>\n",
       "    </tr>\n",
       "  </tbody>\n",
       "</table>\n",
       "</div>"
      ],
      "text/plain": [
       "   Star  smiley  sad  exp  hash  comma  dollar  length  Compound_polarity\n",
       "0     0       0    0    0     0      1       0     112             0.3408\n",
       "1     0       0    0    0     0      1       0     112             0.3408\n",
       "2     0       0    0    0     0      0       0     243             0.0000\n",
       "3     0       0    1    0     0      0       0      42            -0.6249\n",
       "4     0       0    0    0     0      1       0     318            -0.0243"
      ]
     },
     "execution_count": 64,
     "metadata": {},
     "output_type": "execute_result"
    }
   ],
   "source": [
    "df.head()"
   ]
  },
  {
   "cell_type": "code",
   "execution_count": 65,
   "metadata": {},
   "outputs": [],
   "source": [
    "x3=df.values"
   ]
  },
  {
   "cell_type": "code",
   "execution_count": 66,
   "metadata": {},
   "outputs": [],
   "source": [
    "X=np.hstack([x1.toarray(),x2.toarray(),x3])"
   ]
  },
  {
   "cell_type": "code",
   "execution_count": 67,
   "metadata": {},
   "outputs": [
    {
     "data": {
      "text/plain": [
       "(5959, 11009)"
      ]
     },
     "execution_count": 67,
     "metadata": {},
     "output_type": "execute_result"
    }
   ],
   "source": [
    "X.shape"
   ]
  },
  {
   "cell_type": "markdown",
   "metadata": {},
   "source": [
    "# # Building Deep Neural Network model"
   ]
  },
  {
   "cell_type": "code",
   "execution_count": 68,
   "metadata": {},
   "outputs": [],
   "source": [
    "\n",
    "\n",
    "from keras.layers import Activation,Conv2D,Flatten,Dropout,Dense"
   ]
  },
  {
   "cell_type": "code",
   "execution_count": 69,
   "metadata": {},
   "outputs": [],
   "source": [
    "from keras.models import Sequential"
   ]
  },
  {
   "cell_type": "code",
   "execution_count": 70,
   "metadata": {},
   "outputs": [],
   "source": [
    "model =Sequential()"
   ]
  },
  {
   "cell_type": "code",
   "execution_count": 71,
   "metadata": {},
   "outputs": [
    {
     "name": "stdout",
     "output_type": "stream",
     "text": [
      "WARNING:tensorflow:From D:\\anaconda\\lib\\site-packages\\tensorflow\\python\\framework\\op_def_library.py:263: colocate_with (from tensorflow.python.framework.ops) is deprecated and will be removed in a future version.\n",
      "Instructions for updating:\n",
      "Colocations handled automatically by placer.\n"
     ]
    }
   ],
   "source": [
    "model.add(Dense(512,input_dim=X.shape[1],activation=\"relu\"))"
   ]
  },
  {
   "cell_type": "code",
   "execution_count": 72,
   "metadata": {},
   "outputs": [
    {
     "name": "stdout",
     "output_type": "stream",
     "text": [
      "WARNING:tensorflow:From D:\\anaconda\\lib\\site-packages\\keras\\backend\\tensorflow_backend.py:3445: calling dropout (from tensorflow.python.ops.nn_ops) with keep_prob is deprecated and will be removed in a future version.\n",
      "Instructions for updating:\n",
      "Please use `rate` instead of `keep_prob`. Rate should be set to `rate = 1 - keep_prob`.\n"
     ]
    }
   ],
   "source": [
    "model.add(Dense(256,activation=\"relu\"))\n",
    "model.add(Dense(64,activation=\"relu\"))\n",
    "model.add(Dropout(0.2))\n",
    "model.add(Dense(32,activation=\"relu\"))\n",
    "model.add(Dense(21,activation='softmax'))"
   ]
  },
  {
   "cell_type": "code",
   "execution_count": 73,
   "metadata": {},
   "outputs": [],
   "source": [
    "model.compile(loss='categorical_crossentropy',optimizer='adam',metrics=['accuracy'])"
   ]
  },
  {
   "cell_type": "code",
   "execution_count": 74,
   "metadata": {},
   "outputs": [],
   "source": [
    "import tensorflow as tf"
   ]
  },
  {
   "cell_type": "code",
   "execution_count": 75,
   "metadata": {},
   "outputs": [
    {
     "name": "stdout",
     "output_type": "stream",
     "text": [
      "[name: \"/device:CPU:0\"\n",
      "device_type: \"CPU\"\n",
      "memory_limit: 268435456\n",
      "locality {\n",
      "}\n",
      "incarnation: 16981165980493495130\n",
      ", name: \"/device:GPU:0\"\n",
      "device_type: \"GPU\"\n",
      "memory_limit: 3148270796\n",
      "locality {\n",
      "  bus_id: 1\n",
      "  links {\n",
      "  }\n",
      "}\n",
      "incarnation: 7012844379404810436\n",
      "physical_device_desc: \"device: 0, name: GeForce GTX 1050 Ti, pci bus id: 0000:01:00.0, compute capability: 6.1\"\n",
      "]\n"
     ]
    }
   ],
   "source": [
    "from tensorflow.python.client import device_lib \n",
    "print(device_lib.list_local_devices())"
   ]
  },
  {
   "cell_type": "code",
   "execution_count": 76,
   "metadata": {},
   "outputs": [],
   "source": [
    "from sklearn.model_selection import train_test_split"
   ]
  },
  {
   "cell_type": "code",
   "execution_count": 77,
   "metadata": {},
   "outputs": [
    {
     "data": {
      "text/plain": [
       "(5959, 21)"
      ]
     },
     "execution_count": 77,
     "metadata": {},
     "output_type": "execute_result"
    }
   ],
   "source": [
    "y.shape"
   ]
  },
  {
   "cell_type": "code",
   "execution_count": 78,
   "metadata": {},
   "outputs": [],
   "source": [
    "X_train,X_test,y_train,y_test=train_test_split(X,y,test_size=0.2)"
   ]
  },
  {
   "cell_type": "code",
   "execution_count": 79,
   "metadata": {},
   "outputs": [
    {
     "name": "stdout",
     "output_type": "stream",
     "text": [
      "WARNING:tensorflow:From D:\\anaconda\\lib\\site-packages\\tensorflow\\python\\ops\\math_ops.py:3066: to_int32 (from tensorflow.python.ops.math_ops) is deprecated and will be removed in a future version.\n",
      "Instructions for updating:\n",
      "Use tf.cast instead.\n",
      "Train on 4767 samples, validate on 1192 samples\n",
      "Epoch 1/100\n",
      "4767/4767 [==============================] - 6s 1ms/step - loss: 2.8671 - acc: 0.1569 - val_loss: 2.6386 - val_acc: 0.2215\n",
      "Epoch 2/100\n",
      "4767/4767 [==============================] - 4s 848us/step - loss: 2.5421 - acc: 0.2060 - val_loss: 2.3888 - val_acc: 0.2844\n",
      "Epoch 3/100\n",
      "4767/4767 [==============================] - 4s 879us/step - loss: 2.2495 - acc: 0.2855 - val_loss: 2.2138 - val_acc: 0.3205\n",
      "Epoch 4/100\n",
      "4767/4767 [==============================] - 4s 860us/step - loss: 2.0930 - acc: 0.3470 - val_loss: 2.0866 - val_acc: 0.3733\n",
      "Epoch 5/100\n",
      "4767/4767 [==============================] - 4s 864us/step - loss: 1.9060 - acc: 0.4080 - val_loss: 2.0539 - val_acc: 0.3842\n",
      "Epoch 6/100\n",
      "4767/4767 [==============================] - 4s 849us/step - loss: 1.7327 - acc: 0.4521 - val_loss: 2.0638 - val_acc: 0.4052\n",
      "Epoch 7/100\n",
      "4767/4767 [==============================] - 4s 847us/step - loss: 1.6347 - acc: 0.4915 - val_loss: 2.0523 - val_acc: 0.4312\n",
      "Epoch 8/100\n",
      "4767/4767 [==============================] - 4s 847us/step - loss: 1.5233 - acc: 0.5060 - val_loss: 2.2509 - val_acc: 0.4086\n",
      "Epoch 9/100\n",
      "4767/4767 [==============================] - 4s 850us/step - loss: 1.4672 - acc: 0.5274 - val_loss: 2.2577 - val_acc: 0.4253\n",
      "Epoch 10/100\n",
      "4767/4767 [==============================] - 4s 849us/step - loss: 1.3491 - acc: 0.5597 - val_loss: 2.3710 - val_acc: 0.4169\n",
      "Epoch 11/100\n",
      "4767/4767 [==============================] - 4s 852us/step - loss: 1.2623 - acc: 0.5723 - val_loss: 2.2753 - val_acc: 0.3456\n",
      "Epoch 12/100\n",
      "4767/4767 [==============================] - 4s 862us/step - loss: 1.1974 - acc: 0.5935 - val_loss: 2.1760 - val_acc: 0.4010\n",
      "Epoch 13/100\n",
      "4767/4767 [==============================] - 4s 849us/step - loss: 1.1834 - acc: 0.5983 - val_loss: 2.3662 - val_acc: 0.4186\n",
      "Epoch 14/100\n",
      "4767/4767 [==============================] - 4s 848us/step - loss: 1.1391 - acc: 0.6031 - val_loss: 2.5650 - val_acc: 0.4119\n",
      "Epoch 15/100\n",
      "4767/4767 [==============================] - 4s 853us/step - loss: 1.0459 - acc: 0.6379 - val_loss: 2.6150 - val_acc: 0.4018\n",
      "Epoch 16/100\n",
      "4767/4767 [==============================] - 4s 849us/step - loss: 1.0215 - acc: 0.6467 - val_loss: 2.3737 - val_acc: 0.4077\n",
      "Epoch 17/100\n",
      "4767/4767 [==============================] - 4s 859us/step - loss: 1.0595 - acc: 0.6323 - val_loss: 3.1704 - val_acc: 0.3792\n",
      "Epoch 18/100\n",
      "4767/4767 [==============================] - 4s 852us/step - loss: 1.0055 - acc: 0.6396 - val_loss: 2.8394 - val_acc: 0.4010\n",
      "Epoch 19/100\n",
      "4767/4767 [==============================] - 4s 851us/step - loss: 0.9627 - acc: 0.6465 - val_loss: 2.8412 - val_acc: 0.3985\n",
      "Epoch 20/100\n",
      "4767/4767 [==============================] - 4s 851us/step - loss: 0.9454 - acc: 0.6543 - val_loss: 2.6166 - val_acc: 0.3943\n",
      "Epoch 21/100\n",
      "4767/4767 [==============================] - 4s 848us/step - loss: 0.9213 - acc: 0.6585 - val_loss: 3.0218 - val_acc: 0.3960\n",
      "Epoch 22/100\n",
      "4767/4767 [==============================] - 4s 852us/step - loss: 0.9135 - acc: 0.6566 - val_loss: 2.7638 - val_acc: 0.3683\n",
      "Epoch 23/100\n",
      "4767/4767 [==============================] - 4s 850us/step - loss: 0.8828 - acc: 0.6675 - val_loss: 2.5200 - val_acc: 0.3867\n",
      "Epoch 24/100\n",
      "4767/4767 [==============================] - 4s 851us/step - loss: 0.8518 - acc: 0.6654 - val_loss: 3.1458 - val_acc: 0.3901\n",
      "Epoch 25/100\n",
      "4767/4767 [==============================] - 4s 852us/step - loss: 0.8468 - acc: 0.6751 - val_loss: 3.3432 - val_acc: 0.3884\n",
      "Epoch 26/100\n",
      "4767/4767 [==============================] - 4s 852us/step - loss: 0.8128 - acc: 0.6772 - val_loss: 3.6241 - val_acc: 0.3985\n",
      "Epoch 27/100\n",
      "4767/4767 [==============================] - 4s 855us/step - loss: 0.7921 - acc: 0.6864 - val_loss: 3.0353 - val_acc: 0.3859\n",
      "Epoch 28/100\n",
      "4767/4767 [==============================] - 4s 851us/step - loss: 0.8008 - acc: 0.6765 - val_loss: 3.2738 - val_acc: 0.3893\n",
      "Epoch 29/100\n",
      "4767/4767 [==============================] - 4s 856us/step - loss: 0.7759 - acc: 0.6851 - val_loss: 3.3586 - val_acc: 0.3884\n",
      "Epoch 30/100\n",
      "4767/4767 [==============================] - 4s 853us/step - loss: 0.8028 - acc: 0.6772 - val_loss: 3.1087 - val_acc: 0.3700\n",
      "Epoch 31/100\n",
      "4767/4767 [==============================] - 4s 864us/step - loss: 0.7792 - acc: 0.6843 - val_loss: 3.9996 - val_acc: 0.3800\n",
      "Epoch 32/100\n",
      "4767/4767 [==============================] - 4s 845us/step - loss: 0.7504 - acc: 0.6937 - val_loss: 3.3999 - val_acc: 0.3826\n",
      "Epoch 33/100\n",
      "4767/4767 [==============================] - 4s 850us/step - loss: 0.7451 - acc: 0.6906 - val_loss: 3.3114 - val_acc: 0.3633\n",
      "Epoch 34/100\n",
      "4767/4767 [==============================] - 4s 855us/step - loss: 0.7350 - acc: 0.6946 - val_loss: 3.3682 - val_acc: 0.3842\n",
      "Epoch 35/100\n",
      "4767/4767 [==============================] - 4s 851us/step - loss: 0.7375 - acc: 0.6986 - val_loss: 3.9174 - val_acc: 0.3876\n",
      "Epoch 36/100\n",
      "4767/4767 [==============================] - 4s 846us/step - loss: 0.7330 - acc: 0.6996 - val_loss: 3.4442 - val_acc: 0.3834\n",
      "Epoch 37/100\n",
      "4767/4767 [==============================] - 4s 844us/step - loss: 0.7106 - acc: 0.6956 - val_loss: 3.5670 - val_acc: 0.3792\n",
      "Epoch 38/100\n",
      "4767/4767 [==============================] - 4s 850us/step - loss: 0.7124 - acc: 0.6927 - val_loss: 3.3531 - val_acc: 0.3490\n",
      "Epoch 39/100\n",
      "4767/4767 [==============================] - 4s 848us/step - loss: 0.6979 - acc: 0.7059 - val_loss: 4.0566 - val_acc: 0.3792\n",
      "Epoch 40/100\n",
      "4767/4767 [==============================] - 4s 848us/step - loss: 0.6834 - acc: 0.7046 - val_loss: 3.5551 - val_acc: 0.3901\n",
      "Epoch 41/100\n",
      "4767/4767 [==============================] - 4s 864us/step - loss: 0.7020 - acc: 0.7025 - val_loss: 4.9314 - val_acc: 0.3901\n",
      "Epoch 42/100\n",
      "4767/4767 [==============================] - 4s 852us/step - loss: 0.6793 - acc: 0.7000 - val_loss: 4.4334 - val_acc: 0.3909\n",
      "Epoch 43/100\n",
      "4767/4767 [==============================] - 4s 852us/step - loss: 0.6995 - acc: 0.6937 - val_loss: 3.9767 - val_acc: 0.3826\n",
      "Epoch 44/100\n",
      "4767/4767 [==============================] - 4s 855us/step - loss: 0.6889 - acc: 0.6889 - val_loss: 3.6829 - val_acc: 0.3716\n",
      "Epoch 45/100\n",
      "4767/4767 [==============================] - 4s 850us/step - loss: 0.6581 - acc: 0.7069 - val_loss: 4.4995 - val_acc: 0.3851\n",
      "Epoch 46/100\n",
      "4767/4767 [==============================] - 4s 850us/step - loss: 0.6573 - acc: 0.7065 - val_loss: 4.3161 - val_acc: 0.3582\n",
      "Epoch 47/100\n",
      "4767/4767 [==============================] - 4s 853us/step - loss: 0.6634 - acc: 0.7025 - val_loss: 4.8717 - val_acc: 0.3674\n",
      "Epoch 48/100\n",
      "4767/4767 [==============================] - 4s 849us/step - loss: 0.6583 - acc: 0.6986 - val_loss: 4.7042 - val_acc: 0.3842\n",
      "Epoch 49/100\n",
      "4767/4767 [==============================] - 4s 851us/step - loss: 0.7245 - acc: 0.7004 - val_loss: 4.8134 - val_acc: 0.3666\n",
      "Epoch 50/100\n",
      "4767/4767 [==============================] - 4s 856us/step - loss: 0.6544 - acc: 0.7025 - val_loss: 4.4618 - val_acc: 0.3767\n",
      "Epoch 51/100\n",
      "4767/4767 [==============================] - 4s 852us/step - loss: 0.6361 - acc: 0.7048 - val_loss: 4.4574 - val_acc: 0.3834\n",
      "Epoch 52/100\n",
      "4767/4767 [==============================] - 4s 851us/step - loss: 0.6207 - acc: 0.7122 - val_loss: 4.5312 - val_acc: 0.3725\n",
      "Epoch 53/100\n",
      "4767/4767 [==============================] - 4s 852us/step - loss: 0.6417 - acc: 0.7009 - val_loss: 5.5043 - val_acc: 0.3842\n",
      "Epoch 54/100\n",
      "4767/4767 [==============================] - 4s 851us/step - loss: 0.6349 - acc: 0.7122 - val_loss: 4.8066 - val_acc: 0.3565\n",
      "Epoch 55/100\n",
      "4767/4767 [==============================] - 4s 850us/step - loss: 0.6271 - acc: 0.7105 - val_loss: 5.0935 - val_acc: 0.3842\n",
      "Epoch 56/100\n",
      "4767/4767 [==============================] - 4s 854us/step - loss: 0.6459 - acc: 0.6986 - val_loss: 5.2335 - val_acc: 0.3893\n",
      "Epoch 57/100\n",
      "4767/4767 [==============================] - 4s 851us/step - loss: 0.5940 - acc: 0.7195 - val_loss: 5.2146 - val_acc: 0.3758\n",
      "Epoch 58/100\n",
      "4767/4767 [==============================] - 4s 847us/step - loss: 0.6103 - acc: 0.7170 - val_loss: 5.0206 - val_acc: 0.3867\n",
      "Epoch 59/100\n",
      "4767/4767 [==============================] - 4s 848us/step - loss: 0.5993 - acc: 0.7078 - val_loss: 4.4501 - val_acc: 0.3842\n",
      "Epoch 60/100\n",
      "4767/4767 [==============================] - 4s 846us/step - loss: 0.6353 - acc: 0.7080 - val_loss: 5.5255 - val_acc: 0.3624\n",
      "Epoch 61/100\n",
      "4767/4767 [==============================] - 4s 848us/step - loss: 0.6047 - acc: 0.7202 - val_loss: 5.1219 - val_acc: 0.3842\n",
      "Epoch 62/100\n",
      "4767/4767 [==============================] - 4s 847us/step - loss: 0.5995 - acc: 0.7166 - val_loss: 5.1716 - val_acc: 0.3767\n",
      "Epoch 63/100\n",
      "4767/4767 [==============================] - 4s 848us/step - loss: 0.6215 - acc: 0.7084 - val_loss: 5.0086 - val_acc: 0.3708\n",
      "Epoch 64/100\n",
      "4767/4767 [==============================] - 4s 849us/step - loss: 0.6159 - acc: 0.7130 - val_loss: 5.2488 - val_acc: 0.3674\n",
      "Epoch 65/100\n",
      "4767/4767 [==============================] - 4s 846us/step - loss: 0.5965 - acc: 0.7067 - val_loss: 5.0234 - val_acc: 0.3758\n",
      "Epoch 66/100\n",
      "4767/4767 [==============================] - 4s 848us/step - loss: 0.6009 - acc: 0.7199 - val_loss: 5.1835 - val_acc: 0.3775\n",
      "Epoch 67/100\n",
      "4767/4767 [==============================] - 4s 846us/step - loss: 0.5875 - acc: 0.7172 - val_loss: 5.2546 - val_acc: 0.3742\n",
      "Epoch 68/100\n",
      "4767/4767 [==============================] - 4s 848us/step - loss: 0.6632 - acc: 0.6979 - val_loss: 4.4064 - val_acc: 0.3700\n",
      "Epoch 69/100\n",
      "4767/4767 [==============================] - 4s 848us/step - loss: 0.5770 - acc: 0.7160 - val_loss: 5.0738 - val_acc: 0.3767\n",
      "Epoch 70/100\n",
      "4767/4767 [==============================] - 4s 848us/step - loss: 0.5781 - acc: 0.7147 - val_loss: 5.6826 - val_acc: 0.3716\n",
      "Epoch 71/100\n",
      "4767/4767 [==============================] - 4s 846us/step - loss: 0.5791 - acc: 0.7155 - val_loss: 5.4827 - val_acc: 0.3733\n",
      "Epoch 72/100\n",
      "4767/4767 [==============================] - 4s 847us/step - loss: 0.5625 - acc: 0.7223 - val_loss: 5.3034 - val_acc: 0.3742\n",
      "Epoch 73/100\n",
      "4767/4767 [==============================] - 4s 850us/step - loss: 0.5927 - acc: 0.7111 - val_loss: 5.1104 - val_acc: 0.3700\n",
      "Epoch 74/100\n",
      "4767/4767 [==============================] - 4s 848us/step - loss: 0.5834 - acc: 0.7204 - val_loss: 6.1682 - val_acc: 0.3624\n",
      "Epoch 75/100\n",
      "4767/4767 [==============================] - 4s 849us/step - loss: 0.5680 - acc: 0.7191 - val_loss: 5.8859 - val_acc: 0.3557\n",
      "Epoch 76/100\n",
      "4767/4767 [==============================] - 4s 848us/step - loss: 0.6697 - acc: 0.6988 - val_loss: 4.7747 - val_acc: 0.3767\n",
      "Epoch 77/100\n",
      "4767/4767 [==============================] - 4s 851us/step - loss: 0.5676 - acc: 0.7304 - val_loss: 4.4928 - val_acc: 0.3532\n",
      "Epoch 78/100\n",
      "4767/4767 [==============================] - 4s 851us/step - loss: 0.5721 - acc: 0.7239 - val_loss: 4.4434 - val_acc: 0.3750\n",
      "Epoch 79/100\n",
      "4767/4767 [==============================] - 4s 849us/step - loss: 0.5969 - acc: 0.7151 - val_loss: 5.7638 - val_acc: 0.3893\n",
      "Epoch 80/100\n",
      "4767/4767 [==============================] - 4s 845us/step - loss: 0.5671 - acc: 0.7206 - val_loss: 5.2458 - val_acc: 0.3867\n",
      "Epoch 81/100\n",
      "4767/4767 [==============================] - 4s 850us/step - loss: 0.5685 - acc: 0.7189 - val_loss: 5.8012 - val_acc: 0.3926\n",
      "Epoch 82/100\n",
      "4767/4767 [==============================] - 4s 849us/step - loss: 0.5428 - acc: 0.7189 - val_loss: 4.7853 - val_acc: 0.3624\n",
      "Epoch 83/100\n",
      "4767/4767 [==============================] - 4s 849us/step - loss: 0.5398 - acc: 0.7172 - val_loss: 4.9835 - val_acc: 0.3725\n",
      "Epoch 84/100\n",
      "4767/4767 [==============================] - 4s 849us/step - loss: 0.5711 - acc: 0.7139 - val_loss: 4.5260 - val_acc: 0.3867\n",
      "Epoch 85/100\n",
      "4767/4767 [==============================] - 4s 849us/step - loss: 0.5929 - acc: 0.7134 - val_loss: 4.8666 - val_acc: 0.3826\n",
      "Epoch 86/100\n",
      "4767/4767 [==============================] - 4s 847us/step - loss: 0.5459 - acc: 0.7237 - val_loss: 5.3958 - val_acc: 0.3842\n",
      "Epoch 87/100\n",
      "4767/4767 [==============================] - 4s 848us/step - loss: 0.5781 - acc: 0.7124 - val_loss: 5.8997 - val_acc: 0.3859\n",
      "Epoch 88/100\n",
      "4767/4767 [==============================] - 4s 848us/step - loss: 0.5685 - acc: 0.7185 - val_loss: 6.8435 - val_acc: 0.3700\n",
      "Epoch 89/100\n",
      "4767/4767 [==============================] - 4s 847us/step - loss: 0.5472 - acc: 0.7223 - val_loss: 5.6385 - val_acc: 0.3784\n",
      "Epoch 90/100\n",
      "4767/4767 [==============================] - 4s 852us/step - loss: 0.5256 - acc: 0.7290 - val_loss: 6.0389 - val_acc: 0.3867\n",
      "Epoch 91/100\n",
      "4767/4767 [==============================] - 4s 848us/step - loss: 0.5575 - acc: 0.7229 - val_loss: 6.7578 - val_acc: 0.3834\n",
      "Epoch 92/100\n",
      "4767/4767 [==============================] - 4s 845us/step - loss: 0.5651 - acc: 0.7252 - val_loss: 5.5775 - val_acc: 0.3884\n",
      "Epoch 93/100\n",
      "4767/4767 [==============================] - 4s 849us/step - loss: 0.5356 - acc: 0.7191 - val_loss: 5.8750 - val_acc: 0.3826\n",
      "Epoch 94/100\n",
      "4767/4767 [==============================] - 4s 848us/step - loss: 0.5329 - acc: 0.7204 - val_loss: 5.1734 - val_acc: 0.3834\n",
      "Epoch 95/100\n",
      "4767/4767 [==============================] - 4s 852us/step - loss: 0.5423 - acc: 0.7197 - val_loss: 6.2929 - val_acc: 0.3834\n",
      "Epoch 96/100\n",
      "4767/4767 [==============================] - 4s 850us/step - loss: 0.5376 - acc: 0.7239 - val_loss: 5.3990 - val_acc: 0.3742\n",
      "Epoch 97/100\n",
      "4767/4767 [==============================] - 4s 848us/step - loss: 0.5554 - acc: 0.7164 - val_loss: 6.4275 - val_acc: 0.3851\n",
      "Epoch 98/100\n",
      "4767/4767 [==============================] - 4s 848us/step - loss: 0.5470 - acc: 0.7231 - val_loss: 5.9817 - val_acc: 0.3649\n",
      "Epoch 99/100\n",
      "4767/4767 [==============================] - 4s 848us/step - loss: 0.5416 - acc: 0.7220 - val_loss: 6.3498 - val_acc: 0.3775\n",
      "Epoch 100/100\n",
      "4767/4767 [==============================] - 4s 846us/step - loss: 0.5269 - acc: 0.7231 - val_loss: 6.5477 - val_acc: 0.3733\n"
     ]
    }
   ],
   "source": [
    "\n",
    "with tf.device(\"/GPU:0\"):\n",
    "    history=model.fit(X_train,y_train,validation_data=(X_test,y_test),epochs=100,batch_size=20)"
   ]
  },
  {
   "cell_type": "code",
   "execution_count": 80,
   "metadata": {},
   "outputs": [
    {
     "name": "stdout",
     "output_type": "stream",
     "text": [
      "1192/1192 [==============================] - 0s 181us/step\n"
     ]
    }
   ],
   "source": [
    "loss,acc=model.evaluate(X_test,y_test)"
   ]
  },
  {
   "cell_type": "code",
   "execution_count": 81,
   "metadata": {},
   "outputs": [
    {
     "name": "stdout",
     "output_type": "stream",
     "text": [
      "loss 6.5477179392872245 acc 0.3733221476510067\n"
     ]
    }
   ],
   "source": [
    "print(\"loss\",loss,'acc',acc)"
   ]
  },
  {
   "cell_type": "code",
   "execution_count": 82,
   "metadata": {},
   "outputs": [
    {
     "name": "stdout",
     "output_type": "stream",
     "text": [
      "4767/4767 [==============================] - 1s 178us/step\n",
      "loss 0.5164166128632905 acc 0.7426054122464473\n"
     ]
    }
   ],
   "source": [
    "loss,acc=model.evaluate(X_train,y_train)\n",
    "print(\"loss\",loss,'acc',acc)"
   ]
  },
  {
   "cell_type": "code",
   "execution_count": 83,
   "metadata": {},
   "outputs": [
    {
     "data": {
      "image/png": "[encoded data removed]",
      "text/plain": [
       "<Figure size 432x288 with 1 Axes>"
      ]
     },
     "metadata": {
      "needs_background": "light"
     },
     "output_type": "display_data"
    }
   ],
   "source": [
    "plt.title('Loss')\n",
    "plt.plot(history.history['loss'], label='train')\n",
    "plt.plot(history.history['val_loss'], label='test')\n",
    "plt.legend()\n",
    "plt.show();"
   ]
  },
  {
   "cell_type": "code",
   "execution_count": 84,
   "metadata": {},
   "outputs": [
    {
     "data": {
      "image/png": "[encoded data removed]",
      "text/plain": [
       "<Figure size 432x288 with 1 Axes>"
      ]
     },
     "metadata": {
      "needs_background": "light"
     },
     "output_type": "display_data"
    }
   ],
   "source": [
    "plt.title('Accuracy')\n",
    "plt.plot(history.history['acc'], label='train')\n",
    "plt.plot(history.history['val_acc'], label='test')\n",
    "plt.legend()\n",
    "plt.show();"
   ]
  },
  {
   "cell_type": "code",
   "execution_count": null,
   "metadata": {},
   "outputs": [],
   "source": []
  },
  {
   "cell_type": "code",
   "execution_count": 107,
   "metadata": {},
   "outputs": [],
   "source": [
    "\n",
    "dt=pd.read_csv(\"test.csv\")\n",
    "dt.rename(columns={'Review Text':\"Review_Text\",\"Review Title\":\"Review_Title\"},inplace=True)\n",
    "dt['Star']=dt.Review_Text.apply(lambda x:1 if \"*\" in x else 0)\n",
    "dt['smiley']=dt.Review_Text.apply(lambda x:1 if \":)\" in x else 0)\n",
    "dt['sad']=dt.Review_Text.apply(lambda x:1 if \":(\" in x else 0)\n",
    "dt['exp']=dt.Review_Text.apply(lambda x:1 if \"!\" in x else 0)\n",
    "dt['hash']=dt.Review_Text.apply(lambda x:1 if \"#\" in x else 0)\n",
    "dt['comma']=dt.Review_Text.apply(lambda x:1 if \",\" in x else 0)\n",
    "dt['dollar']=dt.Review_Text.apply(lambda x:1 if \"$\" in x else 0)\n",
    "\n",
    "dt['length']=dt.Review_Text.apply(lambda x:len(x))\n",
    "\n",
    "dt['Compound_polarity']=dt.Review_Text.apply(lambda x:snl.polarity_scores(x)['compound'])\n"
   ]
  },
  {
   "cell_type": "code",
   "execution_count": 108,
   "metadata": {},
   "outputs": [],
   "source": [
    "xt1=vect.transform(dt.Review_Title)\n",
    "xt2=tfdf.transform(dt.Review_Text)\n",
    "r1=dt.Review_Text.values\n",
    "r2=dt.Review_Title.values\n",
    "dt.drop(['Review_Text','Review_Title'],axis=1,inplace=True)\n",
    "xt3=dt.values"
   ]
  },
  {
   "cell_type": "code",
   "execution_count": 109,
   "metadata": {},
   "outputs": [
    {
     "data": {
      "text/plain": [
       "(5959, 9)"
      ]
     },
     "execution_count": 109,
     "metadata": {},
     "output_type": "execute_result"
    }
   ],
   "source": [
    "x3.shape"
   ]
  },
  {
   "cell_type": "code",
   "execution_count": 110,
   "metadata": {},
   "outputs": [],
   "source": [
    "xt=X=np.hstack([xt1.toarray(),xt2.toarray(),xt3])"
   ]
  },
  {
   "cell_type": "code",
   "execution_count": 111,
   "metadata": {},
   "outputs": [],
   "source": [
    "y_pred=model.predict_classes(xt)"
   ]
  },
  {
   "cell_type": "code",
   "execution_count": 112,
   "metadata": {},
   "outputs": [
    {
     "data": {
      "text/plain": [
       "array([14, 14, 11, ...,  0, 14,  4], dtype=int64)"
      ]
     },
     "execution_count": 112,
     "metadata": {},
     "output_type": "execute_result"
    }
   ],
   "source": [
    "y_pred"
   ]
  },
  {
   "cell_type": "code",
   "execution_count": 113,
   "metadata": {},
   "outputs": [],
   "source": [
    "y_pred=lb.inverse_transform(y_pred)"
   ]
  },
  {
   "cell_type": "code",
   "execution_count": 114,
   "metadata": {},
   "outputs": [],
   "source": [
    "\n",
    "tp=pd.DataFrame({'Review Text':r1,'Review Title':r2,'topic':y_pred})"
   ]
  },
  {
   "cell_type": "code",
   "execution_count": 116,
   "metadata": {},
   "outputs": [],
   "source": [
    "tp.to_csv('Submission_1.csv',index=False)"
   ]
  },
  {
   "cell_type": "code",
   "execution_count": null,
   "metadata": {},
   "outputs": [],
   "source": []
  }
 ],
 "metadata": {
  "kernelspec": {
   "display_name": "Python 3",
   "language": "python",
   "name": "python3"
  },
  "language_info": {
   "codemirror_mode": {
    "name": "ipython",
    "version": 3
   },
   "file_extension": ".py",
   "mimetype": "text/x-python",
   "name": "python",
   "nbconvert_exporter": "python",
   "pygments_lexer": "ipython3",
   "version": "3.7.3"
  }
 },
 "nbformat": 4,
 "nbformat_minor": 2
}
